{
 "cells": [
  {
   "cell_type": "markdown",
   "id": "9ec05826",
   "metadata": {},
   "source": [
    "This notebook presents the Laser environment elaborated following the `gymnasium` API developed to carry out pulse optimisation using Deep Reinforcement Learning (RL).\n",
    "\n",
    "Author: Francesco Capuano, 2022 S17 summer intern @ ELI-beamlines, Prague"
   ]
  },
  {
   "cell_type": "code",
   "execution_count": 1,
   "id": "87945a19",
   "metadata": {
    "ExecuteTime": {
     "end_time": "2023-03-13T17:10:46.269997Z",
     "start_time": "2023-03-13T17:10:44.529322Z"
    }
   },
   "outputs": [],
   "source": [
    "import sys\n",
    "import os\n",
    "sys.path.append(os.path.abspath('../..'))\n",
    "# importing the custom environment\n",
    "from env.laser_env import LaserEnv\n",
    "import matplotlib.pyplot as plt\n",
    "import torch"
   ]
  },
  {
   "cell_type": "markdown",
   "id": "cd043f2d",
   "metadata": {},
   "source": [
    "As reported [here](https://github.com/fracapuano/ELIopt/blob/main/notebooks/DifferentialEvolution/loss_functions.ipynb), the overall region in which the control parameters are valued can be defined with a set of three disequality constraints defined as **maximal percentage difference from the builder's nominal value**. \n",
    "\n",
    "This values are here reported for the reader convenience."
   ]
  },
  {
   "cell_type": "code",
   "execution_count": 2,
   "id": "53eaf70d",
   "metadata": {
    "ExecuteTime": {
     "end_time": "2023-03-13T17:10:46.280015Z",
     "start_time": "2023-03-13T17:10:46.273124Z"
    }
   },
   "outputs": [],
   "source": [
    "# env parametrization\n",
    "# alpha_GDD, alpha_TOD, alpha_FOD\n",
    "compressor_params = -1* torch.tensor((267.422 * 1e-24, -2.384 * 1e-36, 9.54893 * 1e-50))\n",
    "# alpha_GDD \\pm 0.1 alpha_GDD, alpha_TOD \\pm 0.2 alpha_TOD, alpha_FOD \\pm 0.3 alpha_FOD, \n",
    "lb = (2.3522e-22, -1.003635e-34, 4.774465e-50)\n",
    "ub = (2.99624e-22, 9.55955e-35, 1.4323395e-49)\n",
    "\n",
    "bounds = torch.tensor(\n",
    "    (lb, ub), dtype=torch.float64\n",
    ")\n",
    "# non-linear phase accumulation parameter - noisy estimate of real value\n",
    "B_integral = 2"
   ]
  },
  {
   "cell_type": "code",
   "execution_count": 3,
   "id": "d4e66ea8",
   "metadata": {
    "ExecuteTime": {
     "end_time": "2023-03-13T17:10:46.644288Z",
     "start_time": "2023-03-13T17:10:46.284450Z"
    }
   },
   "outputs": [],
   "source": [
    "env = LaserEnv(\n",
    "    bounds = bounds, \n",
    "    compressor_params = compressor_params, \n",
    "    B_integral = B_integral)"
   ]
  },
  {
   "cell_type": "code",
   "execution_count": 4,
   "id": "deea3b86",
   "metadata": {
    "ExecuteTime": {
     "end_time": "2023-03-13T17:10:46.647181Z",
     "start_time": "2023-03-13T17:10:46.647134Z"
    }
   },
   "outputs": [],
   "source": [
    "from typing import Tuple\n",
    "\n",
    "def visualize_pulses(\n",
    "    pulse:Tuple[torch.tensor, torch.tensor], \n",
    "    target_pulse:Tuple[torch.tensor, torch.tensor]\n",
    "):\n",
    "    \"\"\"This function visualizes two different pulses rolling up the two to peak-index\n",
    "    \n",
    "    Args: \n",
    "        pulse (Tuple[torch.tensor, torch.tensor]): Tuple of tensors. First tensor is pulse time axis, second\n",
    "                                                   tensor is temporal profile of pulse itself. This pulse will\n",
    "                                                   be plotted with a solid line.\n",
    "        target_pulse (Tuple[torch.tensor, torch.tensor]): Tuple of tensors. First tensor is pulse time axis, second\n",
    "                                                   tensor is temporal profile of a target pulse. This will\n",
    "                                                   be plotted with a scatter plot.\n",
    "    \"\"\"\n",
    "    # unpacking inputs\n",
    "    time, actual_pulse = pulse\n",
    "    target_time, target_pulse = target_pulse\n",
    "    \n",
    "    # retrieving index where time is 0 (not exactly 0, dependings on fft Dt value)\n",
    "    zero_pos = torch.argwhere(torch.abs(time) == torch.abs(time).min()).item()\n",
    "    # retrieving peak of pulse\n",
    "    max_pos = torch.argmax(actual_pulse).item()\n",
    "    # retrieving peak of target pulse\n",
    "    target_max_pos = torch.argmax(target_pulse).item()\n",
    "    # rolling the two pulses to make them centered in 0\n",
    "    centering_target = -(target_max_pos - zero_pos) if target_max_pos - zero_pos >= 0 else zero_pos - target_max_pos\n",
    "    # always centering the pulse on zero\n",
    "    rolled_pulse = torch.roll(\n",
    "            actual_pulse, \n",
    "            shifts = centering_target\n",
    "            )\n",
    "    \n",
    "    fig, ax = plt.subplots()\n",
    "    # plotting\n",
    "    ax.plot(\n",
    "        time.numpy(), \n",
    "        rolled_pulse.numpy(), \n",
    "        lw = 2, \n",
    "        label = \"Actual Pulse\")\n",
    "\n",
    "    ax.scatter(\n",
    "        time.numpy(), \n",
    "        torch.roll(target_pulse, \n",
    "                shifts = centering_target).numpy(),\n",
    "        label = \"Target Pulse\", \n",
    "        c = \"tab:grey\",\n",
    "        marker = \"x\", \n",
    "        s = 50)\n",
    "    \n",
    "    ax.set_xlim(-8e-12, 8e-12)"
   ]
  },
  {
   "cell_type": "code",
   "execution_count": 8,
   "id": "fad6b580",
   "metadata": {},
   "outputs": [
    {
     "data": {
      "text/plain": [
       "((tensor([-1.2850e-09, -1.2849e-09, -1.2848e-09,  ...,  1.2848e-09,\n",
       "           1.2849e-09,  1.2850e-09]),\n",
       "  tensor([-1.2850e-09, -1.2849e-09, -1.2848e-09,  ...,  1.2848e-09,\n",
       "           1.2849e-09,  1.2850e-09]),\n",
       "  tensor([1.3286e-12, 7.8890e-12, 1.8027e-11,  ..., 8.6292e-12, 3.7590e-12,\n",
       "          3.5485e-13], dtype=torch.float64)),\n",
       " None,\n",
       " False,\n",
       " None)"
      ]
     },
     "execution_count": 8,
     "metadata": {},
     "output_type": "execute_result"
    }
   ],
   "source": [
    "env.step(action=control)"
   ]
  },
  {
   "cell_type": "code",
   "execution_count": 7,
   "id": "2f859a6d",
   "metadata": {
    "ExecuteTime": {
     "end_time": "2023-03-13T17:10:46.649666Z",
     "start_time": "2023-03-13T17:10:46.649641Z"
    }
   },
   "outputs": [
    {
     "ename": "ValueError",
     "evalue": "too many values to unpack (expected 2)",
     "output_type": "error",
     "traceback": [
      "\u001b[0;31m---------------------------------------------------------------------------\u001b[0m",
      "\u001b[0;31mValueError\u001b[0m                                Traceback (most recent call last)",
      "\u001b[0;32m/var/folders/_q/f5yqvnj16qn6cpl52jqqlxbr0000gn/T/ipykernel_7931/3991153310.py\u001b[0m in \u001b[0;36m<module>\u001b[0;34m\u001b[0m\n\u001b[1;32m      2\u001b[0m \u001b[0mcontrol\u001b[0m \u001b[0;34m=\u001b[0m \u001b[0;34m(\u001b[0m\u001b[0;36m2.7257385253906698e-22\u001b[0m\u001b[0;34m,\u001b[0m \u001b[0;34m-\u001b[0m\u001b[0;36m1.652241706847897e-36\u001b[0m\u001b[0;34m,\u001b[0m \u001b[0;36m1.4479880332946824e-48\u001b[0m\u001b[0;34m)\u001b[0m\u001b[0;34m\u001b[0m\u001b[0;34m\u001b[0m\u001b[0m\n\u001b[1;32m      3\u001b[0m \u001b[0;34m\u001b[0m\u001b[0m\n\u001b[0;32m----> 4\u001b[0;31m \u001b[0;34m(\u001b[0m\u001b[0mtime\u001b[0m\u001b[0;34m,\u001b[0m \u001b[0mprofile\u001b[0m\u001b[0;34m)\u001b[0m\u001b[0;34m,\u001b[0m \u001b[0;34m*\u001b[0m\u001b[0m_\u001b[0m \u001b[0;34m=\u001b[0m \u001b[0menv\u001b[0m\u001b[0;34m.\u001b[0m\u001b[0mstep\u001b[0m\u001b[0;34m(\u001b[0m\u001b[0maction\u001b[0m\u001b[0;34m=\u001b[0m\u001b[0mcontrol\u001b[0m\u001b[0;34m)\u001b[0m\u001b[0;34m\u001b[0m\u001b[0;34m\u001b[0m\u001b[0m\n\u001b[0m\u001b[1;32m      5\u001b[0m \u001b[0mtime_TL\u001b[0m\u001b[0;34m,\u001b[0m \u001b[0mprofile_TL\u001b[0m \u001b[0;34m=\u001b[0m \u001b[0menv\u001b[0m\u001b[0;34m.\u001b[0m\u001b[0mlaser\u001b[0m\u001b[0;34m.\u001b[0m\u001b[0mtransform_limited\u001b[0m\u001b[0;34m(\u001b[0m\u001b[0;34m)\u001b[0m\u001b[0;34m\u001b[0m\u001b[0;34m\u001b[0m\u001b[0m\n\u001b[1;32m      6\u001b[0m \u001b[0;34m\u001b[0m\u001b[0m\n",
      "\u001b[0;31mValueError\u001b[0m: too many values to unpack (expected 2)"
     ]
    }
   ],
   "source": [
    "# forwarding a random control, latest from D.E. optimization\n",
    "control = (2.7257385253906698e-22, -1.652241706847897e-36, 1.4479880332946824e-48)\n",
    "\n",
    "(time, profile), *_ = env.step(action=control)\n",
    "time_TL, profile_TL = env.laser.transform_limited()\n",
    "\n",
    "# plot\n",
    "visualize_pulses((time, profile), (time_TL, profile_TL))"
   ]
  },
  {
   "cell_type": "code",
   "execution_count": null,
   "id": "84693a7d",
   "metadata": {
    "ExecuteTime": {
     "end_time": "2023-03-13T17:10:46.652811Z",
     "start_time": "2023-03-13T17:10:46.652783Z"
    }
   },
   "outputs": [],
   "source": [
    "import matplotlib.pyplot as plt\n",
    "\n",
    "fig, ax = plt.subplots()\n",
    "\n",
    "ax.plot(time, profile)\n",
    "ax.scatter(time_TL, profile_TL, marker=\"x\", s=50, color=\"grey\")\n",
    "\n",
    "ax.set_xlim(-8e-12, 8e-12)"
   ]
  },
  {
   "cell_type": "markdown",
   "id": "fd9d6767",
   "metadata": {},
   "source": [
    "The `LaserEnv` environment is defined as a wrapper around two main components presented in this repo: \n",
    "\n",
    "1. `LaserModel_torch`\n",
    "\n",
    "2. `PulseEmbedder`\n",
    "\n",
    "In particular, the object `LaserModel_wrapper` combines these two objects to obtain something which can be used in a reliable way as environment for RL agents.\n",
    "In the following cell, this environment is used to train a PPO agent to perform the considered task."
   ]
  },
  {
   "cell_type": "code",
   "execution_count": null,
   "id": "f9346c69",
   "metadata": {
    "ExecuteTime": {
     "end_time": "2023-03-13T17:10:46.661601Z",
     "start_time": "2023-03-13T17:10:46.661557Z"
    }
   },
   "outputs": [],
   "source": [
    "from stable_baselines3 import PPO\n",
    "\n",
    "env = LaserEnv()\n",
    "model_PPO = PPO(\"MlpPolicy\", env, verbose=2)\n",
    "model_PPO.learn(total_timesteps=int(5e4))\n",
    "\n",
    "model_PPO.save(\"model_Sep20\")"
   ]
  }
 ],
 "metadata": {
  "kernelspec": {
   "display_name": "Python 3 (ipykernel)",
   "language": "python",
   "name": "python3"
  },
  "language_info": {
   "codemirror_mode": {
    "name": "ipython",
    "version": 3
   },
   "file_extension": ".py",
   "mimetype": "text/x-python",
   "name": "python",
   "nbconvert_exporter": "python",
   "pygments_lexer": "ipython3",
   "version": "3.10.4"
  }
 },
 "nbformat": 4,
 "nbformat_minor": 5
}
