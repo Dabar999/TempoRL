{
 "cells": [
  {
   "cell_type": "code",
   "execution_count": 3,
   "metadata": {},
   "outputs": [
    {
     "name": "stdout",
     "output_type": "stream",
     "text": [
      "Using matplotlib backend: MacOSX\n"
     ]
    },
    {
     "data": {
      "text/plain": [
       "[<matplotlib.lines.Line2D at 0x12ab76500>]"
      ]
     },
     "execution_count": 3,
     "metadata": {},
     "output_type": "execute_result"
    }
   ],
   "source": [
    "import numpy as np\n",
    "import pandas as pd\n",
    "from utils import physics\n",
    "from scipy.interpolate import interp1d\n",
    "import matplotlib.pyplot as plt\n",
    "\n",
    "filename = \"LLNL_160809_freq.csv\"\n",
    "df = pd.read_csv(\"data/\"+filename, header = None)\n",
    "df.columns = [\"Frequency (in THz)\", \"Wavelength (in nm)\", \"Intensity\", \"Phase (rad)\", \"Phase (cutted) (rad)\"] \n",
    "\n",
    "frequency = df.loc[:, \"Frequency (in THz)\"].values * 10**12 # THz to Hz\n",
    "field = np.sqrt(df.loc[:, \"Intensity\"].values)\n",
    "central_carrier = 2294295618320813.0\n",
    "\n",
    "num_points = int(1e3)\n",
    "start_freq, end_freq = 351, 379\n",
    "\n",
    "field_interpolator = interp1d(frequency, field)\n",
    "frequency_spaced = np.linspace(start = start_freq, stop = end_freq, num = num_points, endpoint = True) * 10**12\n",
    "field_spaced = field_interpolator(frequency_spaced)\n",
    "\n",
    "frequency = frequency_spaced; field = field_spaced\n",
    "\n",
    "ps = physics.PulseEmitter(frequency = frequency, field = field)\n",
    "\n",
    "theorical_phase = physics.theorical_phase(frequency, central_carrier)\n",
    "control_params = physics.phase_expansions(frequency, theorical_phase)\n",
    "pulse = ps.temporal_profile(control_params)\n",
    "timescale = ps.time_scale()\n",
    "\n",
    "%matplotlib\n",
    "fig, ax = plt.subplots()\n",
    "ax.plot(timescale, pulse, label = \"Initial value\")\n"
   ]
  },
  {
   "cell_type": "code",
   "execution_count": 5,
   "metadata": {},
   "outputs": [
    {
     "data": {
      "text/plain": [
       "array([-6.96834538e+03,  9.32894922e-11, -3.54179759e-25,  4.13417022e-40,\n",
       "        8.20699224e-65])"
      ]
     },
     "execution_count": 5,
     "metadata": {},
     "output_type": "execute_result"
    }
   ],
   "source": [
    "control_params"
   ]
  },
  {
   "cell_type": "code",
   "execution_count": 8,
   "metadata": {},
   "outputs": [],
   "source": [
    "nrows = 4\n",
    "fig, ax = plt.subplots(nrows = nrows)\n",
    "\n",
    "for i in range(nrows): \n",
    "    current = ax[i]\n",
    "    modified_control_params = control_params + 5*np.random.random(size=1) * control_params\n",
    "    modified_pulse = ps.temporal_profile(modified_control_params)\n",
    "\n",
    "    current.plot(timescale, modified_pulse)"
   ]
  },
  {
   "cell_type": "code",
   "execution_count": null,
   "metadata": {},
   "outputs": [],
   "source": [
    "import torch\n",
    "from botorch.models import SingleTaskGP\n",
    "from botorch.fit import fit_gpytorch_model\n",
    "from botorch.utils import standardize\n",
    "from gpytorch.mlls import ExactMarginalLogLikelihood"
   ]
  }
 ],
 "metadata": {
  "kernelspec": {
   "display_name": "Python 3.10.4 ('polienv')",
   "language": "python",
   "name": "python3"
  },
  "language_info": {
   "codemirror_mode": {
    "name": "ipython",
    "version": 3
   },
   "file_extension": ".py",
   "mimetype": "text/x-python",
   "name": "python",
   "nbconvert_exporter": "python",
   "pygments_lexer": "ipython3",
   "version": "3.10.4"
  },
  "orig_nbformat": 4,
  "vscode": {
   "interpreter": {
    "hash": "01994fa0d2ab1307d682b921dfe369a1a67026eda944b77214d19ac2ebb6a2ea"
   }
  }
 },
 "nbformat": 4,
 "nbformat_minor": 2
}
