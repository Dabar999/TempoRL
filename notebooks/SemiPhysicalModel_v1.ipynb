{
 "cells": [
  {
   "cell_type": "markdown",
   "id": "ae4a458e",
   "metadata": {},
   "source": [
    "This notebook presents the semi-physical model of the L1 laser.\n",
    "\n",
    "Author: Francesco Capuano, 2022 S17 summer intern @ ELI-beamlines, Prague\n",
    "\n",
    "# Motivation\n",
    "The goal of this project is to maximise second-harmonic efficiency. However, since it is also very much related to the shortest possible pulse shape, we started with developing a strategy to optimise a predefinite set of control parameters so as to minimise the difference between the obtained pulse shape (in the temporal domain) and a target one (which, by default, is the shortest one typically). \n",
    "\n",
    "However, since data are really expensive to empirically collect we resorted to model the underlying dynamics of the whole system, also considering that (even if not exhaustive) there is a significant amount of know-how concerned with the considered dynamics available.\n",
    "This knowledge about the actual physical process is presented in the following Figure. \n",
    "\n",
    "![L1_Pump_SemiPhysicalModel](semi-physical_model.png)\n",
    "\n",
    "# Description\n",
    "\n",
    "## Stretcher\n",
    "A signal of the Eletric field represented in the frequency domain, $E(\\nu)$, enters the system from the left, where a phase produced by the **Stretcher** is super-imposed to it. The outcome of said superposition is a new frequency representation the very same electric field, in particular:  \n",
    "\n",
    "$$ y_1(\\nu) = E(\\nu) \\cdot e^{i \\varphi_{stretcher}}$$\n",
    "\n",
    "The phase $\\varphi_{stretcher}$ is obtained with a stretcher and it can be modelled using the following equation (which is obtained as a Taylor Expansion of the phase):\n",
    "\n",
    "$$\n",
    "\\varphi_{stretcher} = \\varphi_{stretcher}(GDD, TOD, FOD; \\nu, \\nu_0) = \\frac12 GDD \\big(2\\pi (\\nu - \\nu_0)\\big)^2 +\n",
    "            \\frac 16 TOD  \\big(2\\pi (\\nu - \\nu_0)\\big)^3 + \\frac 1{24} FOD \\big(2\\pi(\\nu - \\nu_0)\\big)^4 $$\n",
    "\n",
    "With $\\nu$ being the considered frequencies and $\\nu_0$ being the central carrier frequency (corresponding to the average between the half-max frequencies). \n",
    "\n",
    "As it is possible to see from the above Figure, even if the control quantities are not exactly $GDD, TOD$ and $FOD$, the actual control quantities are strictly related to these values. In particular, the actual *control* quantities $d_2, d_3$ and $d_4$ are linked to $GDD, TOD$ and $FOD$ via the following system of linear equations: \n",
    "\n",
    "$$\n",
    "\\begin{pmatrix}\n",
    "-\\frac{2 \\pi c}{\\nu_0^2} & 0 & 0 \\\\\n",
    "\\frac{4 \\pi c}{\\nu_0^3} & \\big(\\frac{2 \\pi c}{\\nu_0^2}\\big)^2 & 0 \\\\\n",
    "-\\frac{12 \\pi c}{\\nu_0^4} & \\frac{-24 (\\pi c)^2}{\\nu_0^5} & -\\big(\\frac{2 \\pi c}{\\nu_0^2}\\big)^3\n",
    "\\end{pmatrix}\n",
    "\\cdot\n",
    "\\begin{pmatrix}\n",
    "GDD \\\\\n",
    "TOD \\\\\n",
    "FOD\n",
    "\\end{pmatrix} \n",
    "= \n",
    "\\begin{pmatrix}\n",
    "d_2 \\\\\n",
    "d_3 \\\\\n",
    "d_4\n",
    "\\end{pmatrix} \n",
    "$$\n",
    "\n",
    "In our implementation of the code, this system is clearly solved using regular forward substitution. \n",
    "\n",
    "## DIRA \n",
    "Once the controlled phase is super-imposed to the incoming electric field, $y1(\\nu)$ is then propagated through the DIRA block, in which a non-linear phase is accumulated by the signal. This non-linear phase can be modelled (in time only) as: \n",
    "\n",
    "$$\\varphi_{non\\ linear}(t; B) \\approx \\frac{B}{\\max(I(t))} I(t) $$\n",
    "\n",
    "with $I(t)$ being the intensity (in the time domain) and $B$ being the B-integral, a precise measure of non-linearity whose interpretation falls beyond the scopes of this analysis. However, it is important to note how $B$ has to be considered an hyperparameter of the whole system, i.e. a *non-controlled* quantity which is anyway influencing the dynamics of the system themselves. \n",
    "Since this non-linear phase is defined in time-only, its superposition to the incoming $y_1(\\nu)$ must take place in the time domain, therefore the DIRA-block can actually be modelled by the following steps: \n",
    "\n",
    "1. $y_1(t) \\leftarrow $ `ifft`$(y_1(\\nu))$; $I(t) \\leftarrow y_1(t)^2$\n",
    "\n",
    "2. $\\varphi_{non\\ linear}(t; B) \\leftarrow \\frac{B}{\\max(I(t))} I(t)$; $B \\approx 2$\n",
    "\n",
    "3. $y_2(t) \\leftarrow y_1(t) \\cdot e^{i \\varphi_{non\\ linear}}(t; B)$\n",
    "\n",
    "4. $y_2(\\nu) \\leftarrow$ `fft`$(y_2(t))$\n",
    "\n",
    "With `fft` and `ifft` being, of course, the Fast Fourier Transform and its inverse. \n",
    "\n",
    "## Compressor\n",
    "Once the non-linear phase has been super-imposed, the signal travels through a compressor, that can be modelled as a block super-imposing once again a *linear* phase. Such linear phase is represented by: \n",
    "\n",
    "$$\n",
    "\\varphi_{compressor} = \\varphi_{compressor}(\\alpha_{GDD}, \\alpha_{TOD}, \\alpha_{FOD}, \\nu, \\nu_0) = \\frac12 \\alpha_{GDD} \\big(2\\pi (\\nu - \\nu_0)\\big)^2 +\n",
    "            \\frac 16 \\alpha_{TOD}  \\big(2\\pi (\\nu - \\nu_0)\\big)^3 + \\frac 1{24} \\alpha_{FOD} \\big(2\\pi(\\nu - \\nu_0)\\big)^4 $$\n",
    "            \n",
    "As it is possible to see the phase clearly depends on some parameters, namely $(\\alpha_{GDD}, \\alpha_{TOD}, \\alpha_{FOD})$. These should be considered as a parametrization of the whole system, i.e. as hyperparameters and, therefore *non-controlled* quantities, exactly as $B$. \n",
    "\n",
    "The super-imposition of the compressor phase can be modelled with the following equation:\n",
    "\n",
    "$$y_3(\\nu) = y_2(\\nu) \\cdot e^{i \\varphi_{compressor}}$$\n",
    "\n",
    "## FROG\n",
    "In this first implementation of the model, once $y_3(\\nu)$ is available it is represented in the time-domain (mainly leveraging Fourier transform). The time-based representation of the pulse is then compared with the Transform Limited pulse, which is the one obtained super-imposing a zero-phase to the initial spectral electric field. \n",
    "\n",
    "Once this is done, conceptually, a Feedback Signal is propagated backwards to adjust the control parameters so as to minimise such a difference. "
   ]
  },
  {
   "cell_type": "code",
   "execution_count": 1,
   "id": "c56aa071",
   "metadata": {},
   "outputs": [],
   "source": [
    "# these imports are necessary to import modules from directories one level back in the folder structure\n",
    "import sys\n",
    "import os\n",
    "import inspect\n",
    "import pandas as pd\n",
    "import matplotlib.pyplot as plt\n",
    "import numpy as np\n",
    "\n",
    "currentdir = os.path.dirname(os.path.abspath(inspect.getfile(inspect.currentframe())))\n",
    "parentdir = os.path.dirname(currentdir)\n",
    "sys.path.insert(0, parentdir)\n",
    "\n",
    "from utils import LaserModel as lm \n",
    "data_path = \"../data/LLNL_160809_freq.csv\""
   ]
  },
  {
   "cell_type": "code",
   "execution_count": 2,
   "id": "f484ef17",
   "metadata": {},
   "outputs": [],
   "source": [
    "# read the data\n",
    "df = pd.read_csv(data_path, header = None)\n",
    "df.columns = [\"Frequency (in THz)\", \"Wavelength (in nm)\", \"Intensity\", \"Phase (rad)\", \"Phase (cutted) (rad)\"] \n",
    "frequency, intensity = df.loc[:, \"Frequency (in THz)\"], df.loc[:, \"Intensity\"]"
   ]
  },
  {
   "cell_type": "code",
   "execution_count": 4,
   "id": "d2cd3b09",
   "metadata": {},
   "outputs": [],
   "source": [
    "lm = lm.LaserModel(frequency = frequency, intensity = intensity, cutoff = (351, 379))"
   ]
  },
  {
   "cell_type": "code",
   "execution_count": null,
   "id": "6211ea79",
   "metadata": {},
   "outputs": [],
   "source": [
    "fig, ax = plt.subplots()\n",
    "control = np.array([15, 30, 30])\n",
    "ax.plot(lm.forward_pass(control = control))"
   ]
  },
  {
   "cell_type": "code",
   "execution_count": 3,
   "id": "eaaffdbd",
   "metadata": {},
   "outputs": [],
   "source": []
  }
 ],
 "metadata": {
  "kernelspec": {
   "display_name": "Python 3.6.13 ('elienv')",
   "language": "python",
   "name": "python3"
  },
  "language_info": {
   "codemirror_mode": {
    "name": "ipython",
    "version": 3
   },
   "file_extension": ".py",
   "mimetype": "text/x-python",
   "name": "python",
   "nbconvert_exporter": "python",
   "pygments_lexer": "ipython3",
   "version": "3.6.13"
  },
  "vscode": {
   "interpreter": {
    "hash": "773193afd421d13e2821ca6c0d96ad71b4047236f8e511868631cb854773b939"
   }
  }
 },
 "nbformat": 4,
 "nbformat_minor": 5
}
