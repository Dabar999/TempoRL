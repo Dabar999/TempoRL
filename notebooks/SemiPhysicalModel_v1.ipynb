{
 "cells": [
  {
   "cell_type": "markdown",
   "id": "5842e7b7",
   "metadata": {},
   "source": [
    "This notebook presents the semi-physical model of the L1 laser.\n",
    "\n",
    "Author: Francesco Capuano, 2022 S17 summer intern @ ELI-beamlines, Prague\n",
    "\n",
    "# Motivation\n",
    "The goal of this project is to maximise second-harmonic efficiency. However, since it is also very much related to the shortest possible pulse shape, we started with developing a strategy to optimise a predefinite set of control parameters so as to minimise the difference between the obtained pulse shape (in the temporal domain) and a target one (which, by default, is the shortest one typically). \n",
    "\n",
    "However, since data are really expensive to empirically collect we resorted to model the underlying dynamics of the whole system, also considering that (even if not exhaustive) there is a significant amount of know-how concerned with the considered dynamics available.\n",
    "This knowledge about the actual physical process is presented in the following Figure. \n",
    "\n",
    "![](semi-physical_model.png)"
   ]
  },
  {
   "cell_type": "markdown",
   "id": "09cc5763",
   "metadata": {},
   "source": [
    "# Description\n",
    "\n",
    "## Stretcher\n",
    "A signal of the Eletric field represented in the frequency domain, $E(\\nu)$, enters the system from the left, where a phase produced by the **Stretcher** is super-imposed to it. The outcome of said superposition is a new frequency representation the very same electric field, in particular:  \n",
    "\n",
    "$$ y_1(\\nu) = E(\\nu) \\cdot e^{i \\varphi_{stretcher}}$$\n",
    "\n",
    "The phase $\\varphi_{stretcher}$ is obtained with a stretcher and it can be modelled using the following equation (which is obtained as a Taylor Expansion of the phase):\n",
    "\n",
    "$$\n",
    "\\varphi_{stretcher} = \\varphi_{stretcher}(GDD, TOD, FOD; \\nu, \\nu_0) = \\frac12 GDD \\big(2\\pi (\\nu - \\nu_0)\\big)^2 +\n",
    "            \\frac 16 TOD  \\big(2\\pi (\\nu - \\nu_0)\\big)^3 + \\frac 1{24} FOD \\big(2\\pi(\\nu - \\nu_0)\\big)^4 $$\n",
    "\n",
    "With $\\nu$ being the considered frequencies and $\\nu_0$ being the central carrier frequency (corresponding to the average between the half-max frequencies). \n",
    "\n",
    "As it is possible to see from the above Figure, even if the control quantities are not exactly $GDD, TOD$ and $FOD$, the actual control quantities are strictly related to these values. In particular, the actual *control* quantities $d_2, d_3$ and $d_4$ are linked to $GDD, TOD$ and $FOD$ via the following system of linear equations: \n",
    "\n",
    "$$\n",
    "\\begin{pmatrix}\n",
    "-\\frac{2 \\pi c}{\\nu_0^2} & 0 & 0 \\\\\n",
    "\\frac{4 \\pi c}{\\nu_0^3} & \\big(\\frac{2 \\pi c}{\\nu_0^2}\\big)^2 & 0 \\\\\n",
    "-\\frac{12 \\pi c}{\\nu_0^4} & \\frac{-24 (\\pi c)^2}{\\nu_0^5} & -\\big(\\frac{2 \\pi c}{\\nu_0^2}\\big)^3\n",
    "\\end{pmatrix}\n",
    "\\cdot\n",
    "\\begin{pmatrix}\n",
    "GDD \\\\\n",
    "TOD \\\\\n",
    "FOD\n",
    "\\end{pmatrix} \n",
    "= \n",
    "\\begin{pmatrix}\n",
    "d_2 \\\\\n",
    "d_3 \\\\\n",
    "d_4\n",
    "\\end{pmatrix} \n",
    "$$\n",
    "\n",
    "In our implementation of the code, this system is clearly solved using regular forward substitution. \n",
    "\n",
    "## DIRA \n",
    "Once the controlled phase is super-imposed to the incoming electric field, $y_1(\\nu)$ is then propagated through the DIRA block, in which a non-linear phase is accumulated by the signal. This non-linear phase can be modelled (in time only) as: \n",
    "\n",
    "$$\\varphi_{non\\ linear}(t; B) \\approx \\frac{B}{\\max(I(t))} I(t) $$\n",
    "\n",
    "with $I(t)$ being the intensity (in the time domain) and $B$ being the B-integral, a precise measure of non-linearity whose interpretation falls beyond the scopes of this analysis. However, it is important to note how $B$ has to be considered an hyperparameter of the whole system, i.e. a *non-controlled* quantity which is anyway influencing the dynamics of the system themselves. \n",
    "Since this non-linear phase is defined in time-only, its superposition to the incoming $y_1(\\nu)$ must take place in the time domain, therefore the DIRA-block can actually be modelled by the following steps: \n",
    "\n",
    "1. $y_1(t) \\leftarrow $ `ifft`$(y_1(\\nu))$; $I(t) \\leftarrow y_1(t)^2$\n",
    "\n",
    "2. $\\varphi_{non\\ linear}(t; B) \\leftarrow \\frac{B}{\\max(I(t))} I(t)$; $B \\approx 2$\n",
    "\n",
    "3. $y_2(t) \\leftarrow y_1(t) \\cdot e^{i \\varphi_{non\\ linear}}(t; B)$\n",
    "\n",
    "4. $y_2(\\nu) \\leftarrow$ `fft`$(y_2(t))$\n",
    "\n",
    "With `fft` and `ifft` being, of course, the Fast Fourier Transform and its inverse. \n",
    "\n",
    "## Compressor\n",
    "Once the non-linear phase has been super-imposed, the signal travels through a compressor, that can be modelled as a block super-imposing once again a *linear* phase. Such linear phase is represented by: \n",
    "\n",
    "$$\n",
    "\\varphi_{compressor} = \\varphi_{compressor}(\\alpha_{GDD}, \\alpha_{TOD}, \\alpha_{FOD}, \\nu, \\nu_0) = \\frac12 \\alpha_{GDD} \\big(2\\pi (\\nu - \\nu_0)\\big)^2 +\n",
    "            \\frac 16 \\alpha_{TOD}  \\big(2\\pi (\\nu - \\nu_0)\\big)^3 + \\frac 1{24} \\alpha_{FOD} \\big(2\\pi(\\nu - \\nu_0)\\big)^4 $$\n",
    "            \n",
    "As it is possible to see the phase clearly depends on some parameters, namely $(\\alpha_{GDD}, \\alpha_{TOD}, \\alpha_{FOD})$. These should be considered as a parametrization of the whole system, i.e. as hyperparameters and, therefore *non-controlled* quantities, exactly as $B$. \n",
    "\n",
    "The super-imposition of the compressor phase can be modelled with the following equation:\n",
    "\n",
    "$$y_3(\\nu) = y_2(\\nu) \\cdot e^{i \\varphi_{compressor}}$$\n",
    "\n",
    "## FROG\n",
    "In this first implementation of the model, once $y_3(\\nu)$ is available it is represented in the time-domain (mainly leveraging Fourier transform). The time-based representation of the pulse is then compared with the Transform Limited pulse, which is the one obtained super-imposing a zero-phase to the initial spectral electric field. \n",
    "\n",
    "Once this is done, conceptually, a Feedback Signal is propagated backwards to adjust the control parameters so as to minimise such a difference. "
   ]
  },
  {
   "cell_type": "code",
   "execution_count": 1,
   "id": "f63f7e44",
   "metadata": {},
   "outputs": [],
   "source": [
    "# these import are necessary to import modules from directories one level back in the folder structure\n",
    "import sys\n",
    "sys.path.append(\"../\")\n",
    "\n",
    "import os\n",
    "import pandas as pd\n",
    "import matplotlib.pyplot as plt\n",
    "import numpy as np\n",
    "\n",
    "from utils.LaserModel import LaserModel\n",
    "data_path = \"../data/LLNL_160809_freq.csv\""
   ]
  },
  {
   "cell_type": "code",
   "execution_count": 2,
   "id": "caba49ac",
   "metadata": {},
   "outputs": [],
   "source": [
    "# read the data\n",
    "df = pd.read_csv(data_path, header = None)\n",
    "df.columns = [\"Frequency (in THz)\", \"Wavelength (in nm)\", \"Intensity\", \"Phase (rad)\", \"Phase (cutted) (rad)\"] \n",
    "# the observations must be returned for increasing values of frequency\n",
    "df = df.sort_values(by = \"Frequency (in THz)\")\n",
    "\n",
    "frequency, intensity = df.loc[:, \"Frequency (in THz)\"].values, df.loc[:, \"Intensity\"].values\n",
    "field = np.sqrt(intensity)"
   ]
  },
  {
   "cell_type": "markdown",
   "id": "3a6a8a04",
   "metadata": {},
   "source": [
    "# Pre-processing activity\n",
    "The data considered undergo an initial phase a pre-processing that consists in a process of: \n",
    "1. **Data Cleaning - Spectrum Cleaning**: Only those frequencies for which non null values of the electric field are detected have to be considered in the analysis. However, before the instruments start detecting an actual field, measurement errors make the perceived field non null. To restrict the analysis to the portion of the spectrum which is made only by actual non-null frequencies a part of the signal is cut off. \n",
    "\n",
    "2. **Data Cleaning - Signal Augmentation**: The measurement instruments do not register the intensity at equidistant frequencies. This can worsen `fft` algorithm performance, therefore we use a simple Univariate Spline to interpolate the input data and a `linspace` to reconstruct the signal at equidistant points. Moreover, the signal is reconstructed at more points, effectively augmenting the quantity of available data\n",
    "\n",
    "Moreover, the central carrier frequency is also obtained using the correspoding method presented in the `physics.py` script. "
   ]
  },
  {
   "cell_type": "code",
   "execution_count": 3,
   "id": "cbd13bd2",
   "metadata": {},
   "outputs": [],
   "source": [
    "from utils.physics import *\n",
    "\n",
    "cutoff = np.array((351, 380)) * 10 **12\n",
    "# cutting off the signal\n",
    "frequency_clean, field_clean = cutoff_signal(frequency_cutoff = cutoff, frequency = frequency * 10**12, signal = field)\n",
    "# augmenting the signal\n",
    "frequency_clean, field_clean = equidistant_points(frequency = frequency_clean, signal = field_clean, num_points = 1000) # n_points defaults to 5e3\n",
    "# retrieving central carrier\n",
    "central_carrier = central_frequency(frequency = frequency_clean, signal = field_clean)\n"
   ]
  },
  {
   "cell_type": "code",
   "execution_count": 4,
   "id": "dabb8e2a",
   "metadata": {},
   "outputs": [
    {
     "data": {
      "image/png": "[encoded data removed]",
      "text/plain": [
       "<Figure size 720x576 with 1 Axes>"
      ]
     },
     "metadata": {
      "needs_background": "light"
     },
     "output_type": "display_data"
    }
   ],
   "source": [
    "fig, ax = plt.subplots(figsize = (10,8))\n",
    "\n",
    "ax.plot(frequency_clean, field_clean, lw = 3, color = \"tab:blue\", label = \"Cleaned Signal\")\n",
    "ax.scatter(frequency * 10**12, field, marker = \"+\", c = \"tab:red\")\n",
    "ax.plot(frequency * 10**12, field, lw = 1, c = \"tab:red\", label = \"Original Signal\")\n",
    "ax.vlines(x = central_carrier, ymin = 0, ymax=1.1, colors = \"tab:green\", label = \"Central Carrier\", )\n",
    "\n",
    "ax.set_xlabel(\"Frequency (in Hz)\", fontdict = {\"fontsize\":13})\n",
    "ax.set_ylabel(\"Electric Field\", fontdict = {\"fontsize\":13})\n",
    "ax.set_title(\"Data Preprocessing output\", fontdict = {\"fontsize\":13, \"fontweight\": \"bold\"})\n",
    "\n",
    "ax.annotate('{:.4e} Hz'.format(central_carrier), xy=(central_carrier - 0.25e14, 1.11), fontsize = 14)\n",
    "\n",
    "ax.set_xticks(ticks = frequency[::75]*10**12)\n",
    "ax.grid()\n",
    "\n",
    "ax.legend(fontsize = 12)\n",
    "\n",
    "plt.show()"
   ]
  },
  {
   "cell_type": "code",
   "execution_count": 5,
   "id": "6d09bcf6",
   "metadata": {},
   "outputs": [
    {
     "name": "stdout",
     "output_type": "stream",
     "text": [
      "Initial number of data points:  1027\n",
      "Total number of data points:  1000\n"
     ]
    }
   ],
   "source": [
    "print(\"Initial number of data points: \", len(frequency))\n",
    "print(\"Total number of data points: \", len(frequency_clean))"
   ]
  },
  {
   "cell_type": "markdown",
   "id": "0e18e67f",
   "metadata": {},
   "source": [
    "# Model usage"
   ]
  },
  {
   "cell_type": "code",
   "execution_count": 6,
   "id": "ed488081",
   "metadata": {},
   "outputs": [],
   "source": [
    "lm = LaserModel(frequency = frequency, \n",
    "                intensity = intensity, \n",
    "                cutoff = (351, 380), \n",
    "                B = 0,\n",
    "                compressor_params = np.array((30,30,30))) # completely fictional numbers"
   ]
  },
  {
   "cell_type": "code",
   "execution_count": 11,
   "id": "7854dd66",
   "metadata": {},
   "outputs": [
    {
     "name": "stdout",
     "output_type": "stream",
     "text": [
      "Using matplotlib backend: MacOSX\n"
     ]
    }
   ],
   "source": [
    "%matplotlib\n",
    "control = np.zeros(shape = (3,))\n",
    "\n",
    "fig, ax = plt.subplots(figsize = (10,8))\n",
    "time, intensity = lm.forward_pass(control = control)\n",
    "tl_time, tl_intensity = lm.transform_limited()\n",
    "\n",
    "mask = np.bitwise_and(time >= -0.05e-11, time <= 0.05e-11)\n",
    "mask_tl = np.bitwise_and(tl_time >= -0.05e-11, tl_time <= 0.05e-11)\n",
    "\n",
    "ax.plot(time[mask], intensity[mask], label = \"Control Output\")\n",
    "\n",
    "ax.plot(tl_time[mask_tl], tl_intensity[mask_tl], label = \"Transform Limited\")\n",
    "\n",
    "ax.set_xlabel(\"Time (in seconds)\", fontsize = 13)\n",
    "ax.set_ylabel(\"Intensity\", fontsize = 13)\n",
    "ax.set_title(\"Intensity in time\", fontweight = \"bold\", fontsize = 13)\n",
    "\n",
    "ax.legend(fontsize = 13)\n",
    "plt.show()"
   ]
  },
  {
   "cell_type": "code",
   "execution_count": 14,
   "id": "859c6e2c",
   "metadata": {},
   "outputs": [
    {
     "name": "stdout",
     "output_type": "stream",
     "text": [
      "Pass time equals to 8.1537e-03 seconds\n"
     ]
    }
   ],
   "source": [
    "# computing inference time (time for one forward pass)\n",
    "import time\n",
    "control = np.zeros(shape = (3,))\n",
    "start_time = time.time()\n",
    "_, _ = lm.forward_pass(control = control)\n",
    "print(\"Pass time equals to {:.4e} seconds\".format(time.time()-start_time))"
   ]
  }
 ],
 "metadata": {
  "kernelspec": {
   "display_name": "Python 3 (ipykernel)",
   "language": "python",
   "name": "python3"
  },
  "language_info": {
   "codemirror_mode": {
    "name": "ipython",
    "version": 3
   },
   "file_extension": ".py",
   "mimetype": "text/x-python",
   "name": "python",
   "nbconvert_exporter": "python",
   "pygments_lexer": "ipython3",
   "version": "3.7.13"
  },
  "vscode": {
   "interpreter": {
    "hash": "773193afd421d13e2821ca6c0d96ad71b4047236f8e511868631cb854773b939"
   }
  }
 },
 "nbformat": 4,
 "nbformat_minor": 5
}
