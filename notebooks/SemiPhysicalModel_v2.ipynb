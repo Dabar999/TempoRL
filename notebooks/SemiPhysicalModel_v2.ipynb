{
 "cells": [
  {
   "cell_type": "markdown",
   "id": "6aec8590",
   "metadata": {},
   "source": [
    "This notebook presents the semi-physical model of the L1 laser in its second version, based on PyTorch.\n",
    "\n",
    "Author: Francesco Capuano, 2022 S17 summer intern @ ELI-beamlines, Prague\n",
    "\n",
    "\n",
    "# Motivation\n",
    "\n",
    "The goal of this project is to maximise second-harmonic efficiency. However, since it is also very much related to the shortest possible pulse shape, we started with developing a strategy to optimise a predefinite set of control parameters so as to minimise the difference between the obtained pulse shape (in the temporal domain) and a target one (which, by default, is the shortest one typically). \n",
    "\n",
    "However, since data are really expensive to empirically collect we resorted to model the underlying dynamics of the whole system, also considering that (even if not exhaustive) there is a significant amount of know-how concerned with the considered dynamics available.\n",
    "This knowledge about the actual physical process is presented in the following Figure. \n",
    "\n",
    "![](img/semi-physical_model.png)"
   ]
  },
  {
   "cell_type": "markdown",
   "id": "14290e5f",
   "metadata": {},
   "source": [
    "The very same diagram can also be represented by means of a **computational graph**, presented in the following Figure: \n",
    "\n",
    "![](img/semiphysicalmodel-computational_graph.png)"
   ]
  },
  {
   "cell_type": "markdown",
   "id": "565ff970",
   "metadata": {},
   "source": [
    "This visualisation shows how the sequence of operations that do lead to the final temporal shape is the **succession of much more elementary operations**. \n",
    "\n",
    "This is particularly useful when auto-differentiation can be deployed. In this particular setting because, if one represents the semiphysical model as a computational graph, then it is possible to access, very cheaply in terms of computational time and effort (and with high analytical precision), to those **differential information** which are crucial to **apply methods such as Newton Method or any gradient-based method**.\n",
    "\n",
    "Surely enough, such a model is practically applicable only under the assumption that $y_3(\\nu)$ is a *good approximation* of $y_{REAL, 3}(\\nu)$. \n",
    "\n",
    "Luckily enough, various are the frameworks supporting auto-differentiation. One of this is **Pytorch**. Using it basically requires to rewrite the majority of the code present in the initial version of the semi-physical model, considering the data abstraction of this framework, i.e. **tensors** instead of **arrays**. "
   ]
  },
  {
   "cell_type": "code",
   "execution_count": 1,
   "id": "aadb966f",
   "metadata": {},
   "outputs": [],
   "source": [
    "# imports and data acquisition\n",
    "import numpy as np\n",
    "import torch\n",
    "from typing import Tuple\n",
    "from scipy.interpolate import UnivariateSpline\n",
    "import matplotlib.pyplot as plt\n",
    "\n",
    "# these import are necessary to import modules from directories one level back in the folder structure\n",
    "import sys\n",
    "sys.path.append(\"../\")\n",
    "\n",
    "import os\n",
    "import pandas as pd\n",
    "from scipy.constants import c\n",
    "\n",
    "from utils.LaserModel import LaserModel\n",
    "data_path = \"../data/L1_pump_spectrum.csv\"\n",
    "\n",
    "# read the data\n",
    "df = pd.read_csv(data_path, header = None)\n",
    "df.columns = [\"Wavelength (nm)\", \"Intensity\"]\n",
    "# converting Wavelength in Frequency\n",
    "df[\"Frequency (THz)\"] = df[\"Wavelength (nm)\"].apply(lambda wavelenght: 1e-12 * (c/(wavelenght * 1e-9)))\n",
    "# clipping everything that is negative\n",
    "df[\"Intensity\"] = df[\"Intensity\"].apply(lambda intensity: np.clip(intensity, a_min = 0, a_max = None))\n",
    "# the observations must be returned for increasing values of frequency\n",
    "df = df.sort_values(by = \"Frequency (THz)\")\n",
    "\n",
    "frequency, intensity = df.loc[:, \"Frequency (THz)\"].values, df.loc[:, \"Intensity\"].values\n",
    "intensity = (intensity - intensity.min()) / (intensity.max() - intensity.min())\n",
    "field = np.sqrt(intensity)"
   ]
  },
  {
   "cell_type": "markdown",
   "id": "b25b03db",
   "metadata": {},
   "source": [
    "Once the data are ingested it is possible to elaborate them as usual (i.e., using already defined methods) since no differential information about this step is necessary."
   ]
  },
  {
   "cell_type": "code",
   "execution_count": 2,
   "id": "ca5b793c",
   "metadata": {},
   "outputs": [],
   "source": [
    "from utils.physics import *\n",
    "# preprocessing\n",
    "cutoff = np.array((289.95, 291.91)) * 1e12\n",
    "# cutting off the signal\n",
    "frequency_clean, field_clean = cutoff_signal(frequency_cutoff = cutoff, frequency = frequency * 1e12,\n",
    "                                             signal = field)\n",
    "# augmenting the signal\n",
    "frequency_clean_aug, field_clean_aug = equidistant_points(frequency = frequency_clean,\n",
    "                                                          signal = field_clean,\n",
    "                                                          num_points = int(5e4)) # n_points defaults to 5e3\n",
    "# retrieving central carrier\n",
    "central_carrier = central_frequency(frequency = frequency_clean_aug, signal = field_clean_aug)"
   ]
  },
  {
   "cell_type": "code",
   "execution_count": 11,
   "id": "97575e7c",
   "metadata": {},
   "outputs": [
    {
     "ename": "AssertionError",
     "evalue": "Torch not compiled with CUDA enabled",
     "output_type": "error",
     "traceback": [
      "\u001b[0;31m---------------------------------------------------------------------------\u001b[0m",
      "\u001b[0;31mAssertionError\u001b[0m                            Traceback (most recent call last)",
      "\u001b[0;32m/var/folders/_q/f5yqvnj16qn6cpl52jqqlxbr0000gn/T/ipykernel_1422/4075268993.py\u001b[0m in \u001b[0;36m<module>\u001b[0;34m\u001b[0m\n\u001b[0;32m----> 1\u001b[0;31m \u001b[0mfrequency\u001b[0m\u001b[0;34m,\u001b[0m \u001b[0mfield\u001b[0m \u001b[0;34m=\u001b[0m \u001b[0mtorch\u001b[0m\u001b[0;34m.\u001b[0m\u001b[0mfrom_numpy\u001b[0m\u001b[0;34m(\u001b[0m\u001b[0mfrequency_clean_aug\u001b[0m\u001b[0;34m)\u001b[0m\u001b[0;34m.\u001b[0m\u001b[0mcuda\u001b[0m\u001b[0;34m(\u001b[0m\u001b[0;34m)\u001b[0m\u001b[0;34m,\u001b[0m \u001b[0mtorch\u001b[0m\u001b[0;34m.\u001b[0m\u001b[0mfrom_numpy\u001b[0m\u001b[0;34m(\u001b[0m\u001b[0mfield_clean_aug\u001b[0m\u001b[0;34m)\u001b[0m\u001b[0;34m.\u001b[0m\u001b[0mcuda\u001b[0m\u001b[0;34m(\u001b[0m\u001b[0;34m)\u001b[0m\u001b[0;34m\u001b[0m\u001b[0;34m\u001b[0m\u001b[0m\n\u001b[0m",
      "\u001b[0;32m~/opt/anaconda3/envs/elienv/lib/python3.10/site-packages/torch/cuda/__init__.py\u001b[0m in \u001b[0;36m_lazy_init\u001b[0;34m()\u001b[0m\n\u001b[1;32m    209\u001b[0m                 \"multiprocessing, you must use the 'spawn' start method\")\n\u001b[1;32m    210\u001b[0m         \u001b[0;32mif\u001b[0m \u001b[0;32mnot\u001b[0m \u001b[0mhasattr\u001b[0m\u001b[0;34m(\u001b[0m\u001b[0mtorch\u001b[0m\u001b[0;34m.\u001b[0m\u001b[0m_C\u001b[0m\u001b[0;34m,\u001b[0m \u001b[0;34m'_cuda_getDeviceCount'\u001b[0m\u001b[0;34m)\u001b[0m\u001b[0;34m:\u001b[0m\u001b[0;34m\u001b[0m\u001b[0;34m\u001b[0m\u001b[0m\n\u001b[0;32m--> 211\u001b[0;31m             \u001b[0;32mraise\u001b[0m \u001b[0mAssertionError\u001b[0m\u001b[0;34m(\u001b[0m\u001b[0;34m\"Torch not compiled with CUDA enabled\"\u001b[0m\u001b[0;34m)\u001b[0m\u001b[0;34m\u001b[0m\u001b[0;34m\u001b[0m\u001b[0m\n\u001b[0m\u001b[1;32m    212\u001b[0m         \u001b[0;32mif\u001b[0m \u001b[0m_cudart\u001b[0m \u001b[0;32mis\u001b[0m \u001b[0;32mNone\u001b[0m\u001b[0;34m:\u001b[0m\u001b[0;34m\u001b[0m\u001b[0;34m\u001b[0m\u001b[0m\n\u001b[1;32m    213\u001b[0m             raise AssertionError(\n",
      "\u001b[0;31mAssertionError\u001b[0m: Torch not compiled with CUDA enabled"
     ]
    }
   ],
   "source": [
    "frequency, field = torch.from_numpy(frequency_clean_aug).cuda(), torch.from_numpy(field_clean_aug).cuda()"
   ]
  },
  {
   "cell_type": "code",
   "execution_count": 5,
   "id": "72959538",
   "metadata": {},
   "outputs": [],
   "source": [
    "def phase_equation(frequency:torch.tensor, central_frequency:float, GDD:float, TOD:float, FOD:float) -> torch.tensor: \n",
    "    \"\"\"This function returns the phase with respect to the frequency and some control parameters. The various multiplicative\n",
    "    constants present in phase's formula derive mainly from the necessity of converting everything to SI uom.\n",
    "\n",
    "    Args:\n",
    "        frequency (torch.tensor): Tensor of frequencies considered (measured in Hz)\n",
    "        central_frequency (float): Central frequency, not angular, measured in Hz.\n",
    "        GDD (float): Group Delay Dispersion, measured in 10^{-30} s^2 (femtoseconds squared).\n",
    "        TOD (float): Control parameter 1, measured in {10^-45} s^3 (femtoseconds cubed). \n",
    "        FOD (float): Control parameter 1, measured in {10^-60} s^4 (femtoseconds to the fourth). \n",
    "\n",
    "    Returns:\n",
    "        torch.tensor: The phase with respect to the frequency, measured in radiants.\n",
    "    \"\"\"\n",
    "    phase = \\\n",
    "            (1/2)* GDD * (2*np.pi * (frequency - central_frequency))**2 + \\\n",
    "            (1/6)* TOD * (2*np.pi * (frequency - central_frequency))**3 + \\\n",
    "            (1/24)* FOD * (2*np.pi * (frequency - central_frequency))**4\n",
    "    return phase\n",
    "\n",
    "def mse(x:torch.tensor, y:torch.tensor)->float: \n",
    "    \"\"\"This function computes the MSE between x and y.\n",
    "\n",
    "    Args:\n",
    "        x (torch.tensor): First input array\n",
    "        y (torch.tensor): Second input array\n",
    "\n",
    "    Returns:\n",
    "        float: MSE value.\n",
    "    \"\"\"\n",
    "    x, y = x.reshape(-1,), y.reshape(-1,)\n",
    "    return ((x-y)**2).mean()\n",
    "\n",
    "def temporal_profile(frequency:torch.tensor, field:torch.tensor, phase:torch.tensor, npoints_pad:int=int(1e4), return_time:bool=True) -> Tuple[np.array, np.array]:\n",
    "    \"\"\"This function returns the temporal profile of a given signal considering the signal itself (in the frequency domain) and a given phase. \n",
    "    Padding is added so as to have more points and increase FFT algorithm output's quality. \n",
    "\n",
    "    Args:\n",
    "        frequency (torch.tensor): Array of frequencies considered (measured in Hz)\n",
    "        field (torch.tensor): Array of field measured in the frequency domain. \n",
    "        phase (torch.tensor): Array representing the phase considered in the frequency domain. \n",
    "        npoints_pad (int, optional): Number of points to be used in padding. Padding will be applied using half of this value on the\n",
    "        right and half on the left. Defaults to int(1e4).\n",
    "        return_time (bool, optional): Whether or not to return also the time frame of the signal to be used on the x-axis. Defaults to True. \n",
    "    Returns:\n",
    "        Tuple[np.array, np.array]: Returns either (time, intensity) (with time measured in in femtoseconds) or intensity only.\n",
    "    \"\"\"\n",
    "    step = torch.diff(frequency)[0]\n",
    "    time = torch.fft.fftshift(torch.fft.fftfreq(len(frequency) + npoints_pad, d=abs(step)))\n",
    "    \n",
    "    field_padded = torch.nn.functional.pad(field,\n",
    "                                           pad = (npoints_pad // 2, npoints_pad // 2),\n",
    "                                           mode = \"constant\",\n",
    "                                           value = 0)\n",
    "    phase_padded = torch.nn.functional.pad(phase,\n",
    "                                           pad = (npoints_pad // 2, npoints_pad // 2),\n",
    "                                           mode = \"constant\",\n",
    "                                           value = 0)\n",
    "\n",
    "    field_time = torch.fft.fftshift(torch.fft.fft(field_padded * torch.exp(1j * phase_padded))) # inverse FFT to go from frequency domain to temporal domain\n",
    "    intensity_time = torch.real(field_time * torch.conj(field_time)) # only for casting reasons\n",
    "\n",
    "    intensity_time = intensity_time / intensity_time.max() # normalizing\n",
    "    \n",
    "    # either returning time or not according to return_time\n",
    "    if not return_time: \n",
    "        return intensity_time\n",
    "    else: \n",
    "        return time, intensity_time"
   ]
  },
  {
   "cell_type": "code",
   "execution_count": null,
   "id": "8caddf3e",
   "metadata": {},
   "outputs": [],
   "source": []
  }
 ],
 "metadata": {
  "kernelspec": {
   "display_name": "Python 3 (ipykernel)",
   "language": "python",
   "name": "python3"
  },
  "language_info": {
   "codemirror_mode": {
    "name": "ipython",
    "version": 3
   },
   "file_extension": ".py",
   "mimetype": "text/x-python",
   "name": "python",
   "nbconvert_exporter": "python",
   "pygments_lexer": "ipython3",
   "version": "3.10.4"
  }
 },
 "nbformat": 4,
 "nbformat_minor": 5
}
