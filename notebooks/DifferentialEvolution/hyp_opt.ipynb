{
 "cells": [
  {
   "cell_type": "markdown",
   "id": "4c250e02",
   "metadata": {},
   "source": [
    "This notebook presents the application of Differential Evolution to the problem of optimally controlling the \n",
    "stretcher parameters of the L1 pump Laser. In particular, in this notebook, various loss functions are experimented in the sake of identifying the one yielding the optimal pulse shape. \n",
    "\n",
    "Author: Francesco Capuano, 2022 S17 summer intern @ ELI-beamlines, Prague"
   ]
  },
  {
   "cell_type": "markdown",
   "id": "b670ade6",
   "metadata": {},
   "source": [
    "# Setting\n",
    "The goal of this project is to maximise second-harmonic efficiency. \n",
    "\n",
    "However, since this metric is also very much related to the shortest possible pulse shape, we developed a strategy to optimise a predefinite set of control parameters so as to minimise the difference between the obtained pulse shape (in the temporal domain) and a target one (which is, by default, the shortest one).\n",
    "\n",
    "This process is very much intensive for what concerns the number of function evaluation we needed to use and, because of that, we resorted to use a custom-built fast-running forward model used to approximate/predict the temporal  profile of the pulse given a set of parameters. \n",
    "\n",
    "In particular, if one indicates with $\\psi = \\big( d_1, d_2, d_3 \\big)$ the control configuration of the stretcher and with $E(\\nu)$ the electric field in the frequency domain of the signal considered, then the fast running model we developed approximates $ \\tilde{\\tau}(\\psi; E(\\nu)) $, hopefully similar enough to the actual ${\\tau}(\\psi; E(\\nu))$ that can be collected only through practical observation on the real hardware. \n",
    "\n",
    "If one has a target temporal profile $\\tau^*$ of the pulse then it the problem can be framed as: \n",
    "\n",
    "$$\\min_{\\psi} L\\big[ \\tilde{\\tau}(\\psi; E(\\nu)), \\tau^*\\big]$$\n",
    "\n",
    "With $L$ being some sort of loss function. \n",
    "\n",
    "In our experiments among six different loss functions, the one that showed a better performance is Loss3, i.e.\n",
    "\n",
    "$$\n",
    "L\\big[ \\tilde{\\tau}(\\psi; E(\\nu)), \\tau^*\\big] = 0.3 \\frac{\\Vert \\tilde{\\tau}(\\psi) - \\tau^* \\Vert_{n < N} ^2 }{n} + 0.7 \\bigg(\\int_{-\\infty}^{\\infty} (\\tilde{\\tau}(\\psi) - \\tau^*) dt \\bigg)\n",
    "$$"
   ]
  },
  {
   "cell_type": "code",
   "execution_count": 4,
   "id": "3bb92526",
   "metadata": {
    "ExecuteTime": {
     "end_time": "2022-08-30T11:28:56.425212Z",
     "start_time": "2022-08-30T11:28:56.080020Z"
    }
   },
   "outputs": [],
   "source": [
    "# these imports are necessary to import modules from directories one level back in the folder structure\n",
    "import sys\n",
    "sys.path.append(\"../..\")\n",
    "\n",
    "from bayes_opt import BayesianOptimization\n",
    "from algorithms.L1_DifferentialEvolution import extract_data, model, diff_evolution\n",
    "from utils import physics\n",
    "from utils.losses import Losses\n",
    "from scipy.optimize import Bounds\n",
    "import numpy as np\n",
    "import matplotlib.pyplot as plt"
   ]
  },
  {
   "cell_type": "markdown",
   "id": "e63eca47",
   "metadata": {},
   "source": [
    "Here all the necessary elemets are imported. \n",
    "Please once more note that in this case the full tunable range for GDD, TOD and FOD is used instead of the one deriving from expert-rule around the possibility of changing these parameters into a credible region. "
   ]
  },
  {
   "cell_type": "code",
   "execution_count": 2,
   "id": "106e5d5d",
   "metadata": {
    "ExecuteTime": {
     "end_time": "2022-08-30T10:35:36.140899Z",
     "start_time": "2022-08-30T10:35:36.037261Z"
    }
   },
   "outputs": [],
   "source": [
    "frequency, intensity = extract_data() # extracting the desired information\n",
    "\n",
    "# compressor parameters - obtained as minus the stretcher one - TO BE FIXED WITH REAL ONES ONCE THEY ARE AVAILABLE\n",
    "COMPRESSOR = -1 * np.array((267.422 * 1e-24, -2.384 * 1e-36, 9.54893 * 1e-50)) # in s^2, s^3 and s^4 (SI units)\n",
    "# non linearity parameter\n",
    "B = 2\n",
    "# cutoff frequencies, in THz, used to remove noise - derived from visual inspection\n",
    "CUTOFF = (289.95, 291.91)\n",
    "# model instantiation\n",
    "l1_pump = model(frequency, intensity, COMPRESSOR, B, CUTOFF, num_points=int(5e3))\n",
    "\n",
    "losses = Losses(l1_pump)\n",
    "\n",
    "bounds_DE = Bounds(\n",
    "            # GDD         # TOD          # FOD\n",
    "    lb = (2.3522e-22, -1.003635e-34, 4.774465e-50),\n",
    "    ub = (2.99624e-22, 9.55955e-35, 1.4323395e-49)\n",
    ")\n",
    "\n",
    "bounds_matrix = np.vstack((bounds_DE.lb, bounds_DE.ub)).T\n",
    "disp_bounds = np.sort(l1_pump.translate_control(bounds_matrix, verse = \"to_disp\"))"
   ]
  },
  {
   "cell_type": "markdown",
   "id": "d129e7fe",
   "metadata": {},
   "source": [
    "In this case an extensive hyperparameter tuning is carried out using **Bayesian Optimisation** itself around the parameters of the Differential Evolutionary algorithm. "
   ]
  },
  {
   "cell_type": "code",
   "execution_count": 3,
   "id": "dbce16e6",
   "metadata": {
    "ExecuteTime": {
     "end_time": "2022-08-30T11:20:51.281582Z",
     "start_time": "2022-08-30T11:20:51.268785Z"
    },
    "code_folding": []
   },
   "outputs": [],
   "source": [
    "def outer_objfunc(mutation:float, cross_p:float, population_size:float) -> float: \n",
    "    \"\"\"\n",
    "    This is the outher objective function which is taking as input values characteristic of the \n",
    "    optimisation process.\n",
    "    For further documentantion on the relevance of these parameters and their effect on the optimisation \n",
    "    route check literature.\n",
    "    \"\"\"\n",
    "    population_size = int(population_size) # must be int\n",
    "    \n",
    "    candidate_best = diff_evolution(\n",
    "        objective_function = losses.loss3,\n",
    "        bounds = disp_bounds,\n",
    "        mutation = mutation, \n",
    "        cross_p = cross_p, \n",
    "        population_size = population_size,\n",
    "        verbose = 0, \n",
    "        maxit = 500, \n",
    "        print_every = 50\n",
    "    )\n",
    "    \n",
    "    return -1 * losses.loss3(candidate_best) # maximizing"
   ]
  },
  {
   "cell_type": "code",
   "execution_count": 6,
   "id": "67add9b7",
   "metadata": {
    "ExecuteTime": {
     "end_time": "2022-08-30T11:31:23.974014Z",
     "start_time": "2022-08-30T11:31:07.838415Z"
    }
   },
   "outputs": [
    {
     "name": "stdout",
     "output_type": "stream",
     "text": [
      "|   iter    |  target   |  cross_p  | mutation  | popula... |\n",
      "-------------------------------------------------------------\n",
      "Iteration 0 - Objective Function value: 25.330833540209845\n",
      "Iteration 50 - Objective Function value: 2.0259310629379343\n",
      "Iteration 100 - Objective Function value: 2.025921185687049\n"
     ]
    },
    {
     "ename": "KeyboardInterrupt",
     "evalue": "",
     "output_type": "error",
     "traceback": [
      "\u001b[0;31m---------------------------------------------------------------------------\u001b[0m",
      "\u001b[0;31mKeyError\u001b[0m                                  Traceback (most recent call last)",
      "File \u001b[0;32m~/opt/anaconda3/envs/elienv/lib/python3.10/site-packages/bayes_opt/target_space.py:191\u001b[0m, in \u001b[0;36mTargetSpace.probe\u001b[0;34m(self, params)\u001b[0m\n\u001b[1;32m    190\u001b[0m \u001b[38;5;28;01mtry\u001b[39;00m:\n\u001b[0;32m--> 191\u001b[0m     target \u001b[38;5;241m=\u001b[39m \u001b[38;5;28;43mself\u001b[39;49m\u001b[38;5;241;43m.\u001b[39;49m\u001b[43m_cache\u001b[49m\u001b[43m[\u001b[49m\u001b[43m_hashable\u001b[49m\u001b[43m(\u001b[49m\u001b[43mx\u001b[49m\u001b[43m)\u001b[49m\u001b[43m]\u001b[49m\n\u001b[1;32m    192\u001b[0m \u001b[38;5;28;01mexcept\u001b[39;00m \u001b[38;5;167;01mKeyError\u001b[39;00m:\n",
      "\u001b[0;31mKeyError\u001b[0m: (0.771320643266746, 0.5309204045455083, 35.345929397051016)",
      "\nDuring handling of the above exception, another exception occurred:\n",
      "\u001b[0;31mKeyboardInterrupt\u001b[0m                         Traceback (most recent call last)",
      "Input \u001b[0;32mIn [6]\u001b[0m, in \u001b[0;36m<cell line: 15>\u001b[0;34m()\u001b[0m\n\u001b[1;32m      7\u001b[0m optimizer \u001b[38;5;241m=\u001b[39m BayesianOptimization(\n\u001b[1;32m      8\u001b[0m     f \u001b[38;5;241m=\u001b[39m outer_objfunc, \n\u001b[1;32m      9\u001b[0m     pbounds \u001b[38;5;241m=\u001b[39m params_bounds, \n\u001b[1;32m     10\u001b[0m     random_state \u001b[38;5;241m=\u001b[39m \u001b[38;5;241m10\u001b[39m, \n\u001b[1;32m     11\u001b[0m     verbose \u001b[38;5;241m=\u001b[39m \u001b[38;5;241m2\u001b[39m\n\u001b[1;32m     12\u001b[0m )\n\u001b[1;32m     14\u001b[0m n_init, n_iter \u001b[38;5;241m=\u001b[39m \u001b[38;5;241m100\u001b[39m, \u001b[38;5;241m200\u001b[39m\n\u001b[0;32m---> 15\u001b[0m \u001b[43moptimizer\u001b[49m\u001b[38;5;241;43m.\u001b[39;49m\u001b[43mmaximize\u001b[49m\u001b[43m(\u001b[49m\u001b[43minit_points\u001b[49m\u001b[43m \u001b[49m\u001b[38;5;241;43m=\u001b[39;49m\u001b[43m \u001b[49m\u001b[43mn_init\u001b[49m\u001b[43m,\u001b[49m\u001b[43m \u001b[49m\u001b[43mn_iter\u001b[49m\u001b[43m \u001b[49m\u001b[38;5;241;43m=\u001b[39;49m\u001b[43m \u001b[49m\u001b[43mn_iter\u001b[49m\u001b[43m)\u001b[49m\n",
      "File \u001b[0;32m~/opt/anaconda3/envs/elienv/lib/python3.10/site-packages/bayes_opt/bayesian_optimization.py:185\u001b[0m, in \u001b[0;36mBayesianOptimization.maximize\u001b[0;34m(self, init_points, n_iter, acq, kappa, kappa_decay, kappa_decay_delay, xi, **gp_params)\u001b[0m\n\u001b[1;32m    182\u001b[0m     x_probe \u001b[38;5;241m=\u001b[39m \u001b[38;5;28mself\u001b[39m\u001b[38;5;241m.\u001b[39msuggest(util)\n\u001b[1;32m    183\u001b[0m     iteration \u001b[38;5;241m+\u001b[39m\u001b[38;5;241m=\u001b[39m \u001b[38;5;241m1\u001b[39m\n\u001b[0;32m--> 185\u001b[0m \u001b[38;5;28;43mself\u001b[39;49m\u001b[38;5;241;43m.\u001b[39;49m\u001b[43mprobe\u001b[49m\u001b[43m(\u001b[49m\u001b[43mx_probe\u001b[49m\u001b[43m,\u001b[49m\u001b[43m \u001b[49m\u001b[43mlazy\u001b[49m\u001b[38;5;241;43m=\u001b[39;49m\u001b[38;5;28;43;01mFalse\u001b[39;49;00m\u001b[43m)\u001b[49m\n\u001b[1;32m    187\u001b[0m \u001b[38;5;28;01mif\u001b[39;00m \u001b[38;5;28mself\u001b[39m\u001b[38;5;241m.\u001b[39m_bounds_transformer:\n\u001b[1;32m    188\u001b[0m     \u001b[38;5;28mself\u001b[39m\u001b[38;5;241m.\u001b[39mset_bounds(\n\u001b[1;32m    189\u001b[0m         \u001b[38;5;28mself\u001b[39m\u001b[38;5;241m.\u001b[39m_bounds_transformer\u001b[38;5;241m.\u001b[39mtransform(\u001b[38;5;28mself\u001b[39m\u001b[38;5;241m.\u001b[39m_space))\n",
      "File \u001b[0;32m~/opt/anaconda3/envs/elienv/lib/python3.10/site-packages/bayes_opt/bayesian_optimization.py:116\u001b[0m, in \u001b[0;36mBayesianOptimization.probe\u001b[0;34m(self, params, lazy)\u001b[0m\n\u001b[1;32m    114\u001b[0m     \u001b[38;5;28mself\u001b[39m\u001b[38;5;241m.\u001b[39m_queue\u001b[38;5;241m.\u001b[39madd(params)\n\u001b[1;32m    115\u001b[0m \u001b[38;5;28;01melse\u001b[39;00m:\n\u001b[0;32m--> 116\u001b[0m     \u001b[38;5;28;43mself\u001b[39;49m\u001b[38;5;241;43m.\u001b[39;49m\u001b[43m_space\u001b[49m\u001b[38;5;241;43m.\u001b[39;49m\u001b[43mprobe\u001b[49m\u001b[43m(\u001b[49m\u001b[43mparams\u001b[49m\u001b[43m)\u001b[49m\n\u001b[1;32m    117\u001b[0m     \u001b[38;5;28mself\u001b[39m\u001b[38;5;241m.\u001b[39mdispatch(Events\u001b[38;5;241m.\u001b[39mOPTIMIZATION_STEP)\n",
      "File \u001b[0;32m~/opt/anaconda3/envs/elienv/lib/python3.10/site-packages/bayes_opt/target_space.py:194\u001b[0m, in \u001b[0;36mTargetSpace.probe\u001b[0;34m(self, params)\u001b[0m\n\u001b[1;32m    192\u001b[0m \u001b[38;5;28;01mexcept\u001b[39;00m \u001b[38;5;167;01mKeyError\u001b[39;00m:\n\u001b[1;32m    193\u001b[0m     params \u001b[38;5;241m=\u001b[39m \u001b[38;5;28mdict\u001b[39m(\u001b[38;5;28mzip\u001b[39m(\u001b[38;5;28mself\u001b[39m\u001b[38;5;241m.\u001b[39m_keys, x))\n\u001b[0;32m--> 194\u001b[0m     target \u001b[38;5;241m=\u001b[39m \u001b[38;5;28;43mself\u001b[39;49m\u001b[38;5;241;43m.\u001b[39;49m\u001b[43mtarget_func\u001b[49m\u001b[43m(\u001b[49m\u001b[38;5;241;43m*\u001b[39;49m\u001b[38;5;241;43m*\u001b[39;49m\u001b[43mparams\u001b[49m\u001b[43m)\u001b[49m\n\u001b[1;32m    195\u001b[0m     \u001b[38;5;28mself\u001b[39m\u001b[38;5;241m.\u001b[39mregister(x, target)\n\u001b[1;32m    196\u001b[0m \u001b[38;5;28;01mreturn\u001b[39;00m target\n",
      "Input \u001b[0;32mIn [3]\u001b[0m, in \u001b[0;36mouter_objfunc\u001b[0;34m(mutation, cross_p, population_size)\u001b[0m\n\u001b[1;32m      2\u001b[0m \u001b[38;5;124;03m\"\"\"\u001b[39;00m\n\u001b[1;32m      3\u001b[0m \u001b[38;5;124;03mThis is the outher objective function which is taking as input values characteristic of the \u001b[39;00m\n\u001b[1;32m      4\u001b[0m \u001b[38;5;124;03moptimisation process.\u001b[39;00m\n\u001b[1;32m      5\u001b[0m \u001b[38;5;124;03mFor further documentantion on the relevance of these parameters and their effect on the optimisation \u001b[39;00m\n\u001b[1;32m      6\u001b[0m \u001b[38;5;124;03mroute check literature.\u001b[39;00m\n\u001b[1;32m      7\u001b[0m \u001b[38;5;124;03m\"\"\"\u001b[39;00m\n\u001b[1;32m      8\u001b[0m population_size \u001b[38;5;241m=\u001b[39m \u001b[38;5;28mint\u001b[39m(population_size) \u001b[38;5;66;03m# must be int\u001b[39;00m\n\u001b[0;32m---> 10\u001b[0m best3 \u001b[38;5;241m=\u001b[39m \u001b[43mdiff_evolution\u001b[49m\u001b[43m(\u001b[49m\n\u001b[1;32m     11\u001b[0m \u001b[43m    \u001b[49m\u001b[43mobjective_function\u001b[49m\u001b[43m \u001b[49m\u001b[38;5;241;43m=\u001b[39;49m\u001b[43m \u001b[49m\u001b[43mlosses\u001b[49m\u001b[38;5;241;43m.\u001b[39;49m\u001b[43mloss3\u001b[49m\u001b[43m,\u001b[49m\n\u001b[1;32m     12\u001b[0m \u001b[43m    \u001b[49m\u001b[43mbounds\u001b[49m\u001b[43m \u001b[49m\u001b[38;5;241;43m=\u001b[39;49m\u001b[43m \u001b[49m\u001b[43mdisp_bounds\u001b[49m\u001b[43m,\u001b[49m\n\u001b[1;32m     13\u001b[0m \u001b[43m    \u001b[49m\u001b[43mmutation\u001b[49m\u001b[43m \u001b[49m\u001b[38;5;241;43m=\u001b[39;49m\u001b[43m \u001b[49m\u001b[43mmutation\u001b[49m\u001b[43m,\u001b[49m\u001b[43m \u001b[49m\n\u001b[1;32m     14\u001b[0m \u001b[43m    \u001b[49m\u001b[43mcross_p\u001b[49m\u001b[43m \u001b[49m\u001b[38;5;241;43m=\u001b[39;49m\u001b[43m \u001b[49m\u001b[43mcross_p\u001b[49m\u001b[43m,\u001b[49m\u001b[43m \u001b[49m\n\u001b[1;32m     15\u001b[0m \u001b[43m    \u001b[49m\u001b[43mpopulation_size\u001b[49m\u001b[43m \u001b[49m\u001b[38;5;241;43m=\u001b[39;49m\u001b[43m \u001b[49m\u001b[43mpopulation_size\u001b[49m\u001b[43m,\u001b[49m\n\u001b[1;32m     16\u001b[0m \u001b[43m    \u001b[49m\u001b[43mverbose\u001b[49m\u001b[43m \u001b[49m\u001b[38;5;241;43m=\u001b[39;49m\u001b[43m \u001b[49m\u001b[38;5;241;43m1\u001b[39;49m\u001b[43m,\u001b[49m\u001b[43m \u001b[49m\n\u001b[1;32m     17\u001b[0m \u001b[43m    \u001b[49m\u001b[43mmaxit\u001b[49m\u001b[43m \u001b[49m\u001b[38;5;241;43m=\u001b[39;49m\u001b[43m \u001b[49m\u001b[38;5;241;43m500\u001b[39;49m\u001b[43m,\u001b[49m\u001b[43m \u001b[49m\n\u001b[1;32m     18\u001b[0m \u001b[43m    \u001b[49m\u001b[43mprint_every\u001b[49m\u001b[43m \u001b[49m\u001b[38;5;241;43m=\u001b[39;49m\u001b[43m \u001b[49m\u001b[38;5;241;43m50\u001b[39;49m\n\u001b[1;32m     19\u001b[0m \u001b[43m\u001b[49m\u001b[43m)\u001b[49m\n\u001b[1;32m     21\u001b[0m \u001b[38;5;28;01mreturn\u001b[39;00m \u001b[38;5;241m-\u001b[39m\u001b[38;5;241m1\u001b[39m \u001b[38;5;241m*\u001b[39m losses\u001b[38;5;241m.\u001b[39mloss3(best3)\n",
      "File \u001b[0;32m~/Dropbox (Politecnico Di Torino Studenti)/Mac/Desktop/ELI/ELIopt/notebooks/DifferentialEvolution/../../algorithms/L1_DifferentialEvolution.py:179\u001b[0m, in \u001b[0;36mdiff_evolution\u001b[0;34m(objective_function, bounds, mutation, cross_p, population_size, maxit, verbose, print_every)\u001b[0m\n\u001b[1;32m    177\u001b[0m trial_denorm \u001b[38;5;241m=\u001b[39m min_b \u001b[38;5;241m+\u001b[39m trial \u001b[38;5;241m*\u001b[39m diff\n\u001b[1;32m    178\u001b[0m \u001b[38;5;66;03m# evaluating the objective function at this best point\u001b[39;00m\n\u001b[0;32m--> 179\u001b[0m f \u001b[38;5;241m=\u001b[39m \u001b[43mobjective_function\u001b[49m\u001b[43m(\u001b[49m\u001b[43mtrial_denorm\u001b[49m\u001b[43m)\u001b[49m\n\u001b[1;32m    180\u001b[0m \u001b[38;5;28;01mif\u001b[39;00m f \u001b[38;5;241m<\u001b[39m fitness[j]: \u001b[38;5;66;03m# if trial point is good, save it\u001b[39;00m\n\u001b[1;32m    181\u001b[0m     fitness[j] \u001b[38;5;241m=\u001b[39m f \n",
      "File \u001b[0;32m~/Dropbox (Politecnico Di Torino Studenti)/Mac/Desktop/ELI/ELIopt/utils/losses.py:131\u001b[0m, in \u001b[0;36mLosses.loss3\u001b[0;34m(self, x)\u001b[0m\n\u001b[1;32m    121\u001b[0m \u001b[38;5;124;03m\"\"\"This function implements the third loss, i.e. a MSE masked to the portion of the array where the controlled temporal profile is above a certain\u001b[39;00m\n\u001b[1;32m    122\u001b[0m \u001b[38;5;124;03mvalue of threshold, combined with a distance measure related to the difference between the area underlined by the two pulses. \u001b[39;00m\n\u001b[1;32m    123\u001b[0m \u001b[38;5;124;03m\u001b[39;00m\n\u001b[0;32m   (...)\u001b[0m\n\u001b[1;32m    128\u001b[0m \u001b[38;5;124;03m    float: Error measure\u001b[39;00m\n\u001b[1;32m    129\u001b[0m \u001b[38;5;124;03m\"\"\"\u001b[39;00m\n\u001b[1;32m    130\u001b[0m w1, w2 \u001b[38;5;241m=\u001b[39m \u001b[38;5;241m0.3\u001b[39m, \u001b[38;5;241m0.7\u001b[39m\n\u001b[0;32m--> 131\u001b[0m controlled_profile \u001b[38;5;241m=\u001b[39m \u001b[38;5;28;43mself\u001b[39;49m\u001b[38;5;241;43m.\u001b[39;49m\u001b[43mlaser\u001b[49m\u001b[38;5;241;43m.\u001b[39;49m\u001b[43mforward_pass\u001b[49m\u001b[43m(\u001b[49m\u001b[43mx\u001b[49m\u001b[43m)\u001b[49m[\u001b[38;5;241m1\u001b[39m]\n\u001b[1;32m    132\u001b[0m mask \u001b[38;5;241m=\u001b[39m (controlled_profile \u001b[38;5;241m!=\u001b[39m \u001b[38;5;28mself\u001b[39m\u001b[38;5;241m.\u001b[39mtarget_profile) \u001b[38;5;241m&\u001b[39m (controlled_profile \u001b[38;5;241m>\u001b[39m \u001b[38;5;28mself\u001b[39m\u001b[38;5;241m.\u001b[39mtol)\n\u001b[1;32m    134\u001b[0m controlled_profile \u001b[38;5;241m=\u001b[39m controlled_profile[mask]\n",
      "File \u001b[0;32m~/Dropbox (Politecnico Di Torino Studenti)/Mac/Desktop/ELI/ELIopt/utils/LaserModel.py:267\u001b[0m, in \u001b[0;36mLaserModel.forward_pass\u001b[0;34m(self, control)\u001b[0m\n\u001b[1;32m    265\u001b[0m \u001b[38;5;28mself\u001b[39m\u001b[38;5;241m.\u001b[39mpreprocessing()\n\u001b[1;32m    266\u001b[0m \u001b[38;5;66;03m# obtaining y1\u001b[39;00m\n\u001b[0;32m--> 267\u001b[0m \u001b[38;5;28mself\u001b[39m\u001b[38;5;241m.\u001b[39my1 \u001b[38;5;241m=\u001b[39m \u001b[38;5;28;43mself\u001b[39;49m\u001b[38;5;241;43m.\u001b[39;49m\u001b[43mstretcher\u001b[49m\u001b[43m(\u001b[49m\u001b[43mcontrol\u001b[49m\u001b[43m \u001b[49m\u001b[38;5;241;43m=\u001b[39;49m\u001b[43m \u001b[49m\u001b[43mcontrol\u001b[49m\u001b[43m)\u001b[49m\n\u001b[1;32m    268\u001b[0m \u001b[38;5;66;03m# amplification takes always place\u001b[39;00m\n\u001b[1;32m    269\u001b[0m \u001b[38;5;28mself\u001b[39m\u001b[38;5;241m.\u001b[39my1 \u001b[38;5;241m=\u001b[39m \u001b[38;5;28mself\u001b[39m\u001b[38;5;241m.\u001b[39mamplification()\n",
      "File \u001b[0;32m~/Dropbox (Politecnico Di Torino Studenti)/Mac/Desktop/ELI/ELIopt/utils/LaserModel.py:176\u001b[0m, in \u001b[0;36mLaserModel.stretcher\u001b[0;34m(self, control)\u001b[0m\n\u001b[1;32m    174\u001b[0m GDD \u001b[38;5;241m=\u001b[39m d2 \u001b[38;5;241m/\u001b[39m a11; TOD \u001b[38;5;241m=\u001b[39m (d3 \u001b[38;5;241m-\u001b[39m a21 \u001b[38;5;241m*\u001b[39m GDD)\u001b[38;5;241m/\u001b[39m(a22); FOD \u001b[38;5;241m=\u001b[39m (d4 \u001b[38;5;241m-\u001b[39m a31 \u001b[38;5;241m*\u001b[39m GDD \u001b[38;5;241m-\u001b[39m a32 \u001b[38;5;241m*\u001b[39m TOD)\u001b[38;5;241m/\u001b[39m(a33)\n\u001b[1;32m    175\u001b[0m \u001b[38;5;66;03m# obtaining the phase \u001b[39;00m\n\u001b[0;32m--> 176\u001b[0m controlled_phase \u001b[38;5;241m=\u001b[39m \u001b[43mphase_equation\u001b[49m\u001b[43m(\u001b[49m\u001b[43mfrequency\u001b[49m\u001b[43m \u001b[49m\u001b[38;5;241;43m=\u001b[39;49m\u001b[43m \u001b[49m\u001b[38;5;28;43mself\u001b[39;49m\u001b[38;5;241;43m.\u001b[39;49m\u001b[43mfrequency\u001b[49m\u001b[43m,\u001b[49m\u001b[43m \u001b[49m\u001b[43mcentral_frequency\u001b[49m\u001b[43m \u001b[49m\u001b[38;5;241;43m=\u001b[39;49m\u001b[43m \u001b[49m\u001b[38;5;28;43mself\u001b[39;49m\u001b[38;5;241;43m.\u001b[39;49m\u001b[43mcentral_frequency\u001b[49m\u001b[43m,\u001b[49m\u001b[43m \u001b[49m\u001b[43mGDD\u001b[49m\u001b[43m \u001b[49m\u001b[38;5;241;43m=\u001b[39;49m\u001b[43m \u001b[49m\u001b[43mGDD\u001b[49m\u001b[43m,\u001b[49m\u001b[43m \u001b[49m\u001b[43mTOD\u001b[49m\u001b[43m \u001b[49m\u001b[38;5;241;43m=\u001b[39;49m\u001b[43m \u001b[49m\u001b[43mTOD\u001b[49m\u001b[43m,\u001b[49m\u001b[43m \u001b[49m\u001b[43mFOD\u001b[49m\u001b[43m \u001b[49m\u001b[38;5;241;43m=\u001b[39;49m\u001b[43m \u001b[49m\u001b[43mFOD\u001b[49m\u001b[43m)\u001b[49m\n\u001b[1;32m    178\u001b[0m \u001b[38;5;66;03m# imposing the phase on the actual field considered\u001b[39;00m\n\u001b[1;32m    179\u001b[0m \u001b[38;5;28;01mreturn\u001b[39;00m \u001b[38;5;28mself\u001b[39m\u001b[38;5;241m.\u001b[39mfield \u001b[38;5;241m*\u001b[39m np\u001b[38;5;241m.\u001b[39mexp(\u001b[38;5;241m1\u001b[39mj \u001b[38;5;241m*\u001b[39m controlled_phase)\n",
      "\u001b[0;31mKeyboardInterrupt\u001b[0m: "
     ]
    }
   ],
   "source": [
    "params_bounds = {\n",
    "    \"mutation\": (0.5, 1.99), \n",
    "    \"cross_p\": (0, 1), \n",
    "    \"population_size\": (10, 50)\n",
    "}\n",
    "\n",
    "optimizer = BayesianOptimization(\n",
    "    f = outer_objfunc, \n",
    "    pbounds = params_bounds, \n",
    "    random_state = 10, \n",
    "    verbose = 2\n",
    ")\n",
    "\n",
    "n_init, n_iter = 20, 100\n",
    "optimizer.maximize(init_points = n_init, n_iter = n_iter)"
   ]
  },
  {
   "cell_type": "code",
   "execution_count": null,
   "id": "272030d8",
   "metadata": {},
   "outputs": [],
   "source": []
  }
 ],
 "metadata": {
  "kernelspec": {
   "display_name": "Python 3 (ipykernel)",
   "language": "python",
   "name": "python3"
  },
  "language_info": {
   "codemirror_mode": {
    "name": "ipython",
    "version": 3
   },
   "file_extension": ".py",
   "mimetype": "text/x-python",
   "name": "python",
   "nbconvert_exporter": "python",
   "pygments_lexer": "ipython3",
   "version": "3.10.4"
  },
  "toc": {
   "base_numbering": 1,
   "nav_menu": {},
   "number_sections": true,
   "sideBar": true,
   "skip_h1_title": false,
   "title_cell": "Table of Contents",
   "title_sidebar": "Contents",
   "toc_cell": false,
   "toc_position": {},
   "toc_section_display": true,
   "toc_window_display": false
  },
  "varInspector": {
   "cols": {
    "lenName": 16,
    "lenType": 16,
    "lenVar": 40
   },
   "kernels_config": {
    "python": {
     "delete_cmd_postfix": "",
     "delete_cmd_prefix": "del ",
     "library": "var_list.py",
     "varRefreshCmd": "print(var_dic_list())"
    },
    "r": {
     "delete_cmd_postfix": ") ",
     "delete_cmd_prefix": "rm(",
     "library": "var_list.r",
     "varRefreshCmd": "cat(var_dic_list()) "
    }
   },
   "types_to_exclude": [
    "module",
    "function",
    "builtin_function_or_method",
    "instance",
    "_Feature"
   ],
   "window_display": false
  }
 },
 "nbformat": 4,
 "nbformat_minor": 5
}
