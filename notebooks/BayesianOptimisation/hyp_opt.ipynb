{
 "cells": [
  {
   "cell_type": "markdown",
   "id": "82d35163",
   "metadata": {},
   "source": [
    "This notebook presents the appplication of Bayesian Optimisation to the problem of optimally controlling the \n",
    "stretcher parameters of the L1 pump Laser. In particular, in this notebook, considering the results observed in `loss_function.ipynb` a phase of hyperparameter tuning is carried out using the best loss function found.\n",
    "\n",
    "Author: Francesco Capuano, 2022 S17 summer intern @ ELI-beamlines, Prague"
   ]
  },
  {
   "cell_type": "markdown",
   "id": "e283c12d",
   "metadata": {},
   "source": [
    "# Setting\n",
    "The goal of this project is to maximise second-harmonic efficiency. \n",
    "\n",
    "However, since this metric is also very much related to the shortest possible pulse shape, we developed a strategy to optimise a predefinite set of control parameters so as to minimise the difference between the obtained pulse shape (in the temporal domain) and a target one (which is, by default, the shortest one).\n",
    "\n",
    "This process is very much intensive for what concerns the number of function evaluation we needed to use and, because of that, we resorted to use a custom-built fast-running forward model used to approximate/predict the temporal  profile of the pulse given a set of parameters. \n",
    "\n",
    "In particular, if one indicates with $\\psi = \\big( d_1, d_2, d_3 \\big)$ the control configuration of the stretcher and with $E(\\nu)$ the electric field in the frequency domain of the signal considered, then the fast running model we developed approximates $ \\tilde{\\tau}(\\psi; E(\\nu)) $, hopefully similar enough to the actual ${\\tau}(\\psi; E(\\nu))$ that can be collected only through practical observation on the real hardware. \n",
    "\n",
    "If one has a target temporal profile $\\tau^*$ of the pulse then it the problem can be framed as: \n",
    "\n",
    "$$\\min_{\\psi} L\\big[ \\tilde{\\tau}(\\psi; E(\\nu)), \\tau^*\\big]$$\n",
    "\n",
    "With $L$ being some sort of loss function. \n",
    "\n",
    "Our experiments have shown that default Bayesian Optimization performs best if using as loss function the L1-Manhattan norm, defined in this case as: \n",
    "\n",
    "$$\n",
    "L\\big[ \\tilde{\\tau}(\\psi; E(\\nu)), \\tau^*\\big] = \\sum_{i}  \\big\\vert \\tilde{\\tau}(\\psi; E(\\nu))_i - \\tau^*_i \\big\\vert\n",
    "$$\n",
    "\n",
    "Considering the results obtained, we decide to analyse and experiment with this objective function."
   ]
  },
  {
   "cell_type": "code",
   "execution_count": 1,
   "id": "99f7d572",
   "metadata": {
    "ExecuteTime": {
     "end_time": "2022-08-26T14:40:02.905552Z",
     "start_time": "2022-08-26T14:39:59.251673Z"
    }
   },
   "outputs": [],
   "source": [
    "# these imports are necessary to import modules from directories one level back in the folder structure\n",
    "import sys\n",
    "sys.path.append(\"../..\")\n",
    "\n",
    "from algorithms.L1_BayesianOptimisation import *\n",
    "from utils import physics\n",
    "\n",
    "frequency, intensity = extract_data() # extracting the desired information\n",
    "\n",
    "# compressor parameters - obtained as minus the stretcher one - TO BE FIXED WITH REAL ONES ONCE THEY ARE AVAILABLE\n",
    "COMPRESSOR = -1 * np.array((267.422 * 1e-24, -2.384 * 1e-36, 9.54893 * 1e-50)) # in s^2, s^3 and s^4 (SI units)\n",
    "# non linearity parameter\n",
    "B = 2\n",
    "# cutoff frequencies, in THz, used to remove noise - derived from visual inspection\n",
    "CUTOFF = (289.95, 291.91)\n",
    "# model instantiation\n",
    "l1_pump = model(frequency, intensity, COMPRESSOR, B, CUTOFF, num_points=int(5e3))\n",
    "# pre-processed version of frequency and intensity\n",
    "frequency_clean, intensity_clean = l1_pump.spit_center()\n",
    "\n",
    "# target temporal profile shape\n",
    "_, target_profile = physics.temporal_profile(frequency_clean, np.sqrt(intensity_clean),\n",
    "                                             phase = np.zeros_like(frequency_clean),\n",
    "                                             npoints_pad = l1_pump.pad_points)\n",
    "\n",
    "temporal_profile = lambda d2, d3, d4: l1_pump.forward_pass(np.array((d2, d3, d4)))[1]\n",
    "\n",
    "GDDperc, TODperc, FODperc = 0.1, 0.2, 0.3\n",
    "# stretcher control bounds are centered in the compressor bounds and have a width related to a given percentage\n",
    "# (which can be though of as an hyperparameter as long as it is in the tunable interval)\n",
    "\n",
    "low_stretcher, high_stretcher = (-1 * COMPRESSOR * np.array((1 - GDDperc, 1 - TODperc, 1 - FODperc)), \n",
    "                                 -1 * COMPRESSOR * np.array((1 + GDDperc, 1 + TODperc, 1 + FODperc))\n",
    "                                )\n",
    "\n",
    "# stretcher control must be given in terms of dispersion coefficients so they must be translated into d2, d3 and d4. \n",
    "low_stretcher, high_stretcher = (l1_pump.translate_control(low_stretcher, verse = \"to_disp\"),\n",
    "                                 l1_pump.translate_control(high_stretcher, verse = \"to_disp\")\n",
    "                                )\n",
    "\n",
    "# these are the bounds for the parameter currently optimized - sign can change so sorting is used\n",
    "pbounds = {\n",
    "    \"d2\": np.sort((low_stretcher[0], high_stretcher[0])), \n",
    "    \"d3\": np.sort((low_stretcher[1], high_stretcher[1])), \n",
    "    \"d4\": np.sort((low_stretcher[2], high_stretcher[2]))\n",
    "}"
   ]
  },
  {
   "cell_type": "code",
   "execution_count": 2,
   "id": "d5d1931e",
   "metadata": {
    "ExecuteTime": {
     "end_time": "2022-08-26T14:46:15.945948Z",
     "start_time": "2022-08-26T14:46:15.941363Z"
    }
   },
   "outputs": [],
   "source": [
    "#loss-6\n",
    "def objective_function(d2, d3, d4): \n",
    "    tol = 1e-6 # zero tolerance\n",
    "    \n",
    "    controlled_profile = temporal_profile(d2, d3, d4)\n",
    "    mask = (controlled_profile != target_profile) & (controlled_profile > tol)\n",
    "    \n",
    "    controlled_profile = controlled_profile[mask]\n",
    "    target = target_profile[mask]\n",
    "    \n",
    "    return -1 * (np.abs(controlled_profile - target)).sum()"
   ]
  },
  {
   "cell_type": "code",
   "execution_count": null,
   "id": "f0a17877",
   "metadata": {},
   "outputs": [],
   "source": []
  }
 ],
 "metadata": {
  "kernelspec": {
   "display_name": "Python 3 (ipykernel)",
   "language": "python",
   "name": "python3"
  },
  "language_info": {
   "codemirror_mode": {
    "name": "ipython",
    "version": 3
   },
   "file_extension": ".py",
   "mimetype": "text/x-python",
   "name": "python",
   "nbconvert_exporter": "python",
   "pygments_lexer": "ipython3",
   "version": "3.10.4"
  },
  "toc": {
   "base_numbering": 1,
   "nav_menu": {},
   "number_sections": true,
   "sideBar": true,
   "skip_h1_title": false,
   "title_cell": "Table of Contents",
   "title_sidebar": "Contents",
   "toc_cell": false,
   "toc_position": {},
   "toc_section_display": true,
   "toc_window_display": false
  },
  "varInspector": {
   "cols": {
    "lenName": 16,
    "lenType": 16,
    "lenVar": 40
   },
   "kernels_config": {
    "python": {
     "delete_cmd_postfix": "",
     "delete_cmd_prefix": "del ",
     "library": "var_list.py",
     "varRefreshCmd": "print(var_dic_list())"
    },
    "r": {
     "delete_cmd_postfix": ") ",
     "delete_cmd_prefix": "rm(",
     "library": "var_list.r",
     "varRefreshCmd": "cat(var_dic_list()) "
    }
   },
   "types_to_exclude": [
    "module",
    "function",
    "builtin_function_or_method",
    "instance",
    "_Feature"
   ],
   "window_display": false
  }
 },
 "nbformat": 4,
 "nbformat_minor": 5
}
