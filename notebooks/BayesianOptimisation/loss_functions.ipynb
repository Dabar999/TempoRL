{
 "cells": [
  {
   "cell_type": "markdown",
   "id": "4c250e02",
   "metadata": {},
   "source": [
    "This notebook presents the appplication of Bayesian Optimisation to the problem of optimally controlling the \n",
    "stretcher parameters of the L1 pump Laser. In particular, in this notebook, various loss functions are experimented in the sake of identifying the one yielding the most similar pulse shape. \n",
    "\n",
    "Author: Francesco Capuano, 2022 S17 summer intern @ ELI-beamlines, Prague"
   ]
  },
  {
   "cell_type": "markdown",
   "id": "b670ade6",
   "metadata": {},
   "source": [
    "# Setting\n",
    "The goal of this project is to maximise second-harmonic efficiency. \n",
    "\n",
    "However, since this metric is also very much related to the shortest possible pulse shape, we developed a strategy to optimise a predefinite set of control parameters so as to minimise the difference between the obtained pulse shape (in the temporal domain) and a target one (which is, by default, the shortest one).\n",
    "\n",
    "This process is very much intensive for what concerns the number of function evaluation we needed to use and, because of that, we resorted to use a custom-built fast-running forward model used to approximate/predict the temporal  profile of the pulse given a set of parameters. \n",
    "\n",
    "In particular, if one indicates with $\\psi = \\big( d_1, d_2, d_3 \\big)$ the control configuration of the stretcher and with $E(\\nu)$ the electric field in the frequency domain of the signal considered, then the fast running model we developed approximates $ \\tilde{\\tau}(\\psi; E(\\nu)) $, hopefully similar enough to the actual ${\\tau}(\\psi; E(\\nu))$ that can be collected only through practical observation on the real hardware. \n",
    "\n",
    "If one has a target temporal profile $\\tau^*$ of the pulse then it the problem can be framed as: \n",
    "\n",
    "$$\\min_{\\psi} L\\big[ \\tilde{\\tau}(\\psi; E(\\nu)), \\tau^*\\big]$$\n",
    "\n",
    "With $L$ being some sort of loss function. \n",
    "\n",
    "The solution of this problem can be obtained, in principle, using Bayesian Optimisation. In this notebook, this is the approach that is tried out. \n",
    "\n",
    "Clearly enough, the solution to this problem  depends on the Loss function being used. "
   ]
  },
  {
   "cell_type": "code",
   "execution_count": 1,
   "id": "3bb92526",
   "metadata": {
    "ExecuteTime": {
     "end_time": "2022-08-29T12:17:00.752062Z",
     "start_time": "2022-08-29T12:16:59.251057Z"
    }
   },
   "outputs": [],
   "source": [
    "# these imports are necessary to import modules from directories one level back in the folder structure\n",
    "import sys\n",
    "sys.path.append(\"../..\")\n",
    "\n",
    "from algorithms.L1_BayesianOptimisation import *\n",
    "from utils import physics"
   ]
  },
  {
   "cell_type": "code",
   "execution_count": 2,
   "id": "106e5d5d",
   "metadata": {
    "ExecuteTime": {
     "end_time": "2022-08-29T12:17:00.869269Z",
     "start_time": "2022-08-29T12:17:00.754866Z"
    }
   },
   "outputs": [],
   "source": [
    "frequency, intensity = extract_data() # extracting the desired information\n",
    "\n",
    "# compressor parameters - obtained as minus the stretcher one - TO BE FIXED WITH REAL ONES ONCE THEY ARE AVAILABLE\n",
    "COMPRESSOR = -1 * np.array((267.422 * 1e-24, -2.384 * 1e-36, 9.54893 * 1e-50)) # in s^2, s^3 and s^4 (SI units)\n",
    "# non linearity parameter\n",
    "B = 2\n",
    "# cutoff frequencies, in THz, used to remove noise - derived from visual inspection\n",
    "CUTOFF = (289.95, 291.91)\n",
    "# model instantiation\n",
    "l1_pump = model(frequency, intensity, COMPRESSOR, B, CUTOFF, num_points=int(5e3))\n",
    "# pre-processed version of frequency and intensity\n",
    "frequency_clean, intensity_clean = l1_pump.spit_center()\n",
    "\n",
    "# target temporal profile shape\n",
    "target_time, target_profile = physics.temporal_profile(frequency_clean, physics.amplification(frequency_clean, intensity_clean),\n",
    "                                             phase = np.zeros_like(frequency_clean),\n",
    "                                             npoints_pad = l1_pump.pad_points)\n",
    "\n",
    "temporal_profile = lambda d2, d3, d4: l1_pump.forward_pass(np.array((d2, d3, d4)))[1]\n",
    "objective_function = lambda d2, d3, d4: -1 * physics.mse(temporal_profile(d2, d3, d4), target_profile)"
   ]
  },
  {
   "cell_type": "markdown",
   "id": "e251a101",
   "metadata": {},
   "source": [
    "The bounds of the optimisation process are defined considering that: \n",
    "\n",
    "1. The value of GDD is tunable only in a region which is a little bit more than $\\pm$ 10% of its nominal value.\n",
    "\n",
    "2. TOD is tunable practically without limits in the case in which the bounds are defined using percentages of the nominal values. \n",
    "\n",
    "3. FOD is tunable practically without limits in the case in which the bounds are defined using percentages of the nomnal values. "
   ]
  },
  {
   "cell_type": "code",
   "execution_count": 3,
   "id": "5eb2fa5c",
   "metadata": {
    "ExecuteTime": {
     "end_time": "2022-08-29T12:17:00.880037Z",
     "start_time": "2022-08-29T12:17:00.873764Z"
    }
   },
   "outputs": [],
   "source": [
    "GDDperc, TODperc, FODperc = 0.1, 0.2, 0.3\n",
    "# stretcher control bounds are centered in the compressor bounds and have a width related to a given percentage\n",
    "# (which can be though of as an hyperparameter as long as it is in the tunable interval)\n",
    "\n",
    "low_stretcher, high_stretcher = (-1 * COMPRESSOR * np.array((1 - GDDperc, 1 - TODperc, 1 - FODperc)), \n",
    "                                 -1 * COMPRESSOR * np.array((1 + GDDperc, 1 + TODperc, 1 + FODperc))\n",
    "                                )\n",
    "\n",
    "# stretcher control must be given in terms of dispersion coefficients so they must be translated into d2, d3 and d4. \n",
    "low_stretcher, high_stretcher = (l1_pump.translate_control(low_stretcher, verse = \"to_disp\"),\n",
    "                                 l1_pump.translate_control(high_stretcher, verse = \"to_disp\")\n",
    "                                )\n",
    "\n",
    "# these are the bounds for the parameter currently optimized - sign can change so sorting is used\n",
    "pbounds = {\n",
    "    \"d2\": np.sort((low_stretcher[0], high_stretcher[0])), \n",
    "    \"d3\": np.sort((low_stretcher[1], high_stretcher[1])), \n",
    "    \"d4\": np.sort((low_stretcher[2], high_stretcher[2]))\n",
    "}"
   ]
  },
  {
   "cell_type": "code",
   "execution_count": 4,
   "id": "8412323f",
   "metadata": {
    "ExecuteTime": {
     "end_time": "2022-08-29T12:18:10.605657Z",
     "start_time": "2022-08-29T12:17:00.884648Z"
    }
   },
   "outputs": [
    {
     "name": "stdout",
     "output_type": "stream",
     "text": [
      "|   iter    |  target   |    d2     |    d3     |    d4     |\n",
      "-------------------------------------------------------------\n",
      "| \u001b[95m 2       \u001b[0m | \u001b[95m-0.005855\u001b[0m | \u001b[95m-0.4505  \u001b[0m | \u001b[95m-6.578e+0\u001b[0m | \u001b[95m-5.744e+1\u001b[0m |\n",
      "| \u001b[95m 6       \u001b[0m | \u001b[95m-0.002343\u001b[0m | \u001b[95m-0.4634  \u001b[0m | \u001b[95m-5.95e+06\u001b[0m | \u001b[95m-5.541e+1\u001b[0m |\n",
      "| \u001b[95m 9       \u001b[0m | \u001b[95m-0.000897\u001b[0m | \u001b[95m-0.4796  \u001b[0m | \u001b[95m-6.759e+0\u001b[0m | \u001b[95m-4.556e+1\u001b[0m |\n",
      "| \u001b[95m 10      \u001b[0m | \u001b[95m-4.505e-0\u001b[0m | \u001b[95m-0.4729  \u001b[0m | \u001b[95m-6.15e+06\u001b[0m | \u001b[95m-4.606e+1\u001b[0m |\n",
      "| \u001b[95m 38      \u001b[0m | \u001b[95m-3.918e-0\u001b[0m | \u001b[95m-0.4729  \u001b[0m | \u001b[95m-6.086e+0\u001b[0m | \u001b[95m-5.942e+1\u001b[0m |\n",
      "| \u001b[95m 115     \u001b[0m | \u001b[95m-1.56e-05\u001b[0m | \u001b[95m-0.4736  \u001b[0m | \u001b[95m-5.421e+0\u001b[0m | \u001b[95m-5.174e+1\u001b[0m |\n",
      "| \u001b[95m 252     \u001b[0m | \u001b[95m-1.251e-0\u001b[0m | \u001b[95m-0.474   \u001b[0m | \u001b[95m-7.413e+0\u001b[0m | \u001b[95m-5.044e+1\u001b[0m |\n",
      "| \u001b[95m 306     \u001b[0m | \u001b[95m-7.504e-0\u001b[0m | \u001b[95m-0.4747  \u001b[0m | \u001b[95m-6.471e+0\u001b[0m | \u001b[95m-4.261e+1\u001b[0m |\n",
      "=============================================================\n"
     ]
    }
   ],
   "source": [
    "optimizer = BayesianOptimization(\n",
    "    f=objective_function,\n",
    "    pbounds=pbounds,\n",
    "    verbose=1, # verbose = 1 prints only when a maximum is observed, verbose = 0 is silent\n",
    "    random_state=10, # for reproducibility\n",
    ")\n",
    "\n",
    "# these are the actual hyperparameters of the optimization process\n",
    "n_init, n_iter = 200, 300\n",
    "\n",
    "optimizer.maximize(\n",
    "    init_points=n_init,\n",
    "    n_iter=n_iter,\n",
    ")"
   ]
  },
  {
   "cell_type": "code",
   "execution_count": 5,
   "id": "e50a8238",
   "metadata": {
    "ExecuteTime": {
     "end_time": "2022-08-29T12:18:10.625945Z",
     "start_time": "2022-08-29T12:18:10.611074Z"
    },
    "scrolled": true
   },
   "outputs": [
    {
     "name": "stdout",
     "output_type": "stream",
     "text": [
      "Final MSE between Control and Target: 7.5040e-06\n"
     ]
    }
   ],
   "source": [
    "# plotting the result obtained with Bayesian Optimization\n",
    "optimald2, optimald3, optimald4 = optimizer.max[\"params\"][\"d2\"], optimizer.max[\"params\"][\"d3\"], optimizer.max[\"params\"][\"d4\"]\n",
    "\n",
    "optimal_control = (optimald2, optimald3, optimald4)\n",
    "# applying optimal control found\n",
    "time_BO, profile_BO = l1_pump.forward_pass(optimal_control)\n",
    "\n",
    "print(\"Final MSE between Control and Target: {:.4e}\".format(-1*objective_function(optimald2, optimald3, optimald4)))"
   ]
  },
  {
   "cell_type": "markdown",
   "id": "b99d8307",
   "metadata": {},
   "source": [
    "Typically Bayesian Optimisation is really sample-efficient for what concerns the number of function evaluations so 350 iterations should really be enough. \n",
    "\n",
    "The result of such iterations are presented in the the following Figure. "
   ]
  },
  {
   "cell_type": "code",
   "execution_count": 6,
   "id": "b838053c",
   "metadata": {
    "ExecuteTime": {
     "end_time": "2022-08-29T12:18:10.654983Z",
     "start_time": "2022-08-29T12:18:10.629799Z"
    }
   },
   "outputs": [],
   "source": [
    "# output if non-linearity was absent from the system \n",
    "linear_opt_time, linear_opt_profile = l1_pump.forward_pass(\n",
    "    control = l1_pump.translate_control(\n",
    "        -1*COMPRESSOR, verse = \"to_disp\"\n",
    "    )\n",
    ")"
   ]
  },
  {
   "cell_type": "code",
   "execution_count": 7,
   "id": "982cf468",
   "metadata": {
    "ExecuteTime": {
     "end_time": "2022-08-29T12:18:11.616319Z",
     "start_time": "2022-08-29T12:18:10.661641Z"
    },
    "scrolled": false
   },
   "outputs": [
    {
     "data": {
      "image/png": "[encoded data removed]",
      "text/plain": [
       "<Figure size 1000x800 with 1 Axes>"
      ]
     },
     "metadata": {},
     "output_type": "display_data"
    }
   ],
   "source": [
    "control = np.array((optimizer.max[\"params\"][\"d2\"], optimizer.max[\"params\"][\"d3\"], optimizer.max[\"params\"][\"d4\"]))\n",
    "time_BO, profile_BO = l1_pump.forward_pass(control)\n",
    "profile_BO = np.roll(profile_BO, np.argmax(target_profile) - np.argmax(profile_BO))\n",
    "\n",
    "fig, ax = plt.subplots(figsize = (10, 8))\n",
    "ax.set_title(\"Pulse Optimization results\", fontsize = 12, fontweight = \"bold\")\n",
    "ax.plot(time_BO, profile_BO, label = \"Bayesian Optimization output\", lw = 4)\n",
    "ax.scatter(time_BO, target_profile, label = \"Target Pulse\", c = \"tab:grey\", marker = \"x\", s = 50)\n",
    "ax.scatter(linear_opt_time, np.roll(linear_opt_profile, \n",
    "                                    - linear_opt_profile.argmax() + target_profile.argmax()),\n",
    "           label = r\"$\\varphi_{stretcher} = - \\varphi_{compressor}$\", marker = \"o\", s = 25, c = \"k\")\n",
    "\n",
    "ax.set_xlabel(r\"Time (s)\", fontsize = 12); ax.set_ylabel(\"Intensity\", fontsize = 12)\n",
    "\n",
    "ax.legend(fontsize = 13)\n",
    "ax.set_xlim(left = -0.75e-11, right = +0.75e-11)\n",
    "fig.tight_layout()\n",
    "plt.show()"
   ]
  },
  {
   "cell_type": "markdown",
   "id": "a2d957af",
   "metadata": {},
   "source": [
    "The above Figure shows: \n",
    "1. *Target Pulse*: defined as the Transform Limited pulse (the one having $\\varphi = 0$) of the given spectrum. \n",
    "\n",
    "2. *The temporal profile of the controlled pulse when the phase of the stretcher is equal and opposite to the one of the compressor* (this would be the transform limited pulse if no non-linear effect were present in the system)\n",
    "\n",
    "3. *The Bayesian Optimisation output*, which is very different from the desired shape even if it certainly does approach a shape way more quasi-Gaussian than the ideal linear control. \n",
    "\n",
    "This however is valid for an optimization process that would use as loss function $\\frac 1N \\Vert t - t_{TL} \\Vert^2$, with $N$ being the number of points in the array (i.e., using the MSE error function). \n",
    "Surely enough other loss functions can be defined. In particular: \n",
    "\n",
    "1. One which **weights every error by the value of the intensity**, so as to reduce the weight of the marginal errors with respect to those large ones present in the central area of the pulse, i.e. $$ \\frac{\\Vert t (t - t_{TL})\\Vert^2}{t^T \\mathbb 1}$$\n",
    "\n",
    "2. One which computes the **MSE only for non-zero values**, and which therefore discards those long tails of the pulse.\n",
    "\n",
    "3. A mixture of (2) and a measure of **the mismatch in terms of area underlied by controlled and target pulse** (weighted in favour of difference of area).\n",
    "\n",
    "4. One which mixes (2) with a minimisation of the total sum of peak widhts (weighted in favour of difference of total width sum).\n",
    "\n",
    "5. One which minimises the pulse shape but prefers to **minimize the difference in FWHM** between the target pulse and the controlled one. \n",
    "\n",
    "6. One which is based on *L1-Manhattan norm*"
   ]
  },
  {
   "cell_type": "code",
   "execution_count": 8,
   "id": "d8b81b43",
   "metadata": {
    "ExecuteTime": {
     "end_time": "2022-08-29T12:18:11.625367Z",
     "start_time": "2022-08-29T12:18:11.620214Z"
    }
   },
   "outputs": [],
   "source": [
    "mse_pulse = profile_BO"
   ]
  },
  {
   "cell_type": "code",
   "execution_count": 9,
   "id": "c25186f1",
   "metadata": {
    "ExecuteTime": {
     "end_time": "2022-08-29T12:18:54.864167Z",
     "start_time": "2022-08-29T12:18:11.628065Z"
    }
   },
   "outputs": [
    {
     "name": "stdout",
     "output_type": "stream",
     "text": [
      "|   iter    |  target   |    d2     |    d3     |    d4     |\n",
      "-------------------------------------------------------------\n",
      "| \u001b[95m 2       \u001b[0m | \u001b[95m-0.005855\u001b[0m | \u001b[95m-0.4505  \u001b[0m | \u001b[95m-6.578e+0\u001b[0m | \u001b[95m-5.744e+1\u001b[0m |\n",
      "| \u001b[95m 6       \u001b[0m | \u001b[95m-0.002343\u001b[0m | \u001b[95m-0.4634  \u001b[0m | \u001b[95m-5.95e+06\u001b[0m | \u001b[95m-5.541e+1\u001b[0m |\n",
      "| \u001b[95m 9       \u001b[0m | \u001b[95m-0.000897\u001b[0m | \u001b[95m-0.4796  \u001b[0m | \u001b[95m-6.759e+0\u001b[0m | \u001b[95m-4.556e+1\u001b[0m |\n",
      "| \u001b[95m 10      \u001b[0m | \u001b[95m-4.505e-0\u001b[0m | \u001b[95m-0.4729  \u001b[0m | \u001b[95m-6.15e+06\u001b[0m | \u001b[95m-4.606e+1\u001b[0m |\n",
      "| \u001b[95m 38      \u001b[0m | \u001b[95m-3.918e-0\u001b[0m | \u001b[95m-0.4729  \u001b[0m | \u001b[95m-6.086e+0\u001b[0m | \u001b[95m-5.942e+1\u001b[0m |\n",
      "| \u001b[95m 115     \u001b[0m | \u001b[95m-1.56e-05\u001b[0m | \u001b[95m-0.4736  \u001b[0m | \u001b[95m-5.421e+0\u001b[0m | \u001b[95m-5.174e+1\u001b[0m |\n",
      "| \u001b[95m 252     \u001b[0m | \u001b[95m-1.251e-0\u001b[0m | \u001b[95m-0.474   \u001b[0m | \u001b[95m-7.413e+0\u001b[0m | \u001b[95m-5.044e+1\u001b[0m |\n",
      "| \u001b[95m 306     \u001b[0m | \u001b[95m-7.504e-0\u001b[0m | \u001b[95m-0.4747  \u001b[0m | \u001b[95m-6.471e+0\u001b[0m | \u001b[95m-4.261e+1\u001b[0m |\n"
     ]
    },
    {
     "ename": "KeyboardInterrupt",
     "evalue": "",
     "output_type": "error",
     "traceback": [
      "\u001b[0;31m---------------------------------------------------------------------------\u001b[0m",
      "\u001b[0;31mStopIteration\u001b[0m                             Traceback (most recent call last)",
      "File \u001b[0;32m~/opt/anaconda3/envs/elienv/lib/python3.10/site-packages/bayes_opt/bayesian_optimization.py:179\u001b[0m, in \u001b[0;36mBayesianOptimization.maximize\u001b[0;34m(self, init_points, n_iter, acq, kappa, kappa_decay, kappa_decay_delay, xi, **gp_params)\u001b[0m\n\u001b[1;32m    178\u001b[0m \u001b[38;5;28;01mtry\u001b[39;00m:\n\u001b[0;32m--> 179\u001b[0m     x_probe \u001b[38;5;241m=\u001b[39m \u001b[38;5;28;43mnext\u001b[39;49m\u001b[43m(\u001b[49m\u001b[38;5;28;43mself\u001b[39;49m\u001b[38;5;241;43m.\u001b[39;49m\u001b[43m_queue\u001b[49m\u001b[43m)\u001b[49m\n\u001b[1;32m    180\u001b[0m \u001b[38;5;28;01mexcept\u001b[39;00m \u001b[38;5;167;01mStopIteration\u001b[39;00m:\n",
      "File \u001b[0;32m~/opt/anaconda3/envs/elienv/lib/python3.10/site-packages/bayes_opt/bayesian_optimization.py:25\u001b[0m, in \u001b[0;36mQueue.__next__\u001b[0;34m(self)\u001b[0m\n\u001b[1;32m     24\u001b[0m \u001b[38;5;28;01mif\u001b[39;00m \u001b[38;5;28mself\u001b[39m\u001b[38;5;241m.\u001b[39mempty:\n\u001b[0;32m---> 25\u001b[0m     \u001b[38;5;28;01mraise\u001b[39;00m \u001b[38;5;167;01mStopIteration\u001b[39;00m(\u001b[38;5;124m\"\u001b[39m\u001b[38;5;124mQueue is empty, no more objects to retrieve.\u001b[39m\u001b[38;5;124m\"\u001b[39m)\n\u001b[1;32m     26\u001b[0m obj \u001b[38;5;241m=\u001b[39m \u001b[38;5;28mself\u001b[39m\u001b[38;5;241m.\u001b[39m_queue[\u001b[38;5;241m0\u001b[39m]\n",
      "\u001b[0;31mStopIteration\u001b[0m: Queue is empty, no more objects to retrieve.",
      "\nDuring handling of the above exception, another exception occurred:\n",
      "\u001b[0;31mKeyboardInterrupt\u001b[0m                         Traceback (most recent call last)",
      "Input \u001b[0;32mIn [9]\u001b[0m, in \u001b[0;36m<cell line: 11>\u001b[0;34m()\u001b[0m\n\u001b[1;32m      1\u001b[0m optimizer \u001b[38;5;241m=\u001b[39m BayesianOptimization(\n\u001b[1;32m      2\u001b[0m     f\u001b[38;5;241m=\u001b[39mobjective_function,\n\u001b[1;32m      3\u001b[0m     pbounds\u001b[38;5;241m=\u001b[39mpbounds,\n\u001b[1;32m      4\u001b[0m     verbose\u001b[38;5;241m=\u001b[39m\u001b[38;5;241m1\u001b[39m, \u001b[38;5;66;03m# verbose = 1 prints only when a maximum is observed, verbose = 0 is silent\u001b[39;00m\n\u001b[1;32m      5\u001b[0m     random_state\u001b[38;5;241m=\u001b[39m\u001b[38;5;241m10\u001b[39m, \u001b[38;5;66;03m# for reproducibility\u001b[39;00m\n\u001b[1;32m      6\u001b[0m )\n\u001b[1;32m      8\u001b[0m \u001b[38;5;66;03m# these are the actual hyperparameters of the optimization process\u001b[39;00m\n\u001b[1;32m      9\u001b[0m \u001b[38;5;66;03m# n_init, n_iter = 150, 200\u001b[39;00m\n\u001b[0;32m---> 11\u001b[0m \u001b[43moptimizer\u001b[49m\u001b[38;5;241;43m.\u001b[39;49m\u001b[43mmaximize\u001b[49m\u001b[43m(\u001b[49m\n\u001b[1;32m     12\u001b[0m \u001b[43m    \u001b[49m\u001b[43minit_points\u001b[49m\u001b[38;5;241;43m=\u001b[39;49m\u001b[43mn_init\u001b[49m\u001b[43m,\u001b[49m\n\u001b[1;32m     13\u001b[0m \u001b[43m    \u001b[49m\u001b[43mn_iter\u001b[49m\u001b[38;5;241;43m=\u001b[39;49m\u001b[43mn_iter\u001b[49m\u001b[43m,\u001b[49m\n\u001b[1;32m     14\u001b[0m \u001b[43m)\u001b[49m\n",
      "File \u001b[0;32m~/opt/anaconda3/envs/elienv/lib/python3.10/site-packages/bayes_opt/bayesian_optimization.py:182\u001b[0m, in \u001b[0;36mBayesianOptimization.maximize\u001b[0;34m(self, init_points, n_iter, acq, kappa, kappa_decay, kappa_decay_delay, xi, **gp_params)\u001b[0m\n\u001b[1;32m    180\u001b[0m \u001b[38;5;28;01mexcept\u001b[39;00m \u001b[38;5;167;01mStopIteration\u001b[39;00m:\n\u001b[1;32m    181\u001b[0m     util\u001b[38;5;241m.\u001b[39mupdate_params()\n\u001b[0;32m--> 182\u001b[0m     x_probe \u001b[38;5;241m=\u001b[39m \u001b[38;5;28;43mself\u001b[39;49m\u001b[38;5;241;43m.\u001b[39;49m\u001b[43msuggest\u001b[49m\u001b[43m(\u001b[49m\u001b[43mutil\u001b[49m\u001b[43m)\u001b[49m\n\u001b[1;32m    183\u001b[0m     iteration \u001b[38;5;241m+\u001b[39m\u001b[38;5;241m=\u001b[39m \u001b[38;5;241m1\u001b[39m\n\u001b[1;32m    185\u001b[0m \u001b[38;5;28mself\u001b[39m\u001b[38;5;241m.\u001b[39mprobe(x_probe, lazy\u001b[38;5;241m=\u001b[39m\u001b[38;5;28;01mFalse\u001b[39;00m)\n",
      "File \u001b[0;32m~/opt/anaconda3/envs/elienv/lib/python3.10/site-packages/bayes_opt/bayesian_optimization.py:131\u001b[0m, in \u001b[0;36mBayesianOptimization.suggest\u001b[0;34m(self, utility_function)\u001b[0m\n\u001b[1;32m    128\u001b[0m     \u001b[38;5;28mself\u001b[39m\u001b[38;5;241m.\u001b[39m_gp\u001b[38;5;241m.\u001b[39mfit(\u001b[38;5;28mself\u001b[39m\u001b[38;5;241m.\u001b[39m_space\u001b[38;5;241m.\u001b[39mparams, \u001b[38;5;28mself\u001b[39m\u001b[38;5;241m.\u001b[39m_space\u001b[38;5;241m.\u001b[39mtarget)\n\u001b[1;32m    130\u001b[0m \u001b[38;5;66;03m# Finding argmax of the acquisition function.\u001b[39;00m\n\u001b[0;32m--> 131\u001b[0m suggestion \u001b[38;5;241m=\u001b[39m \u001b[43macq_max\u001b[49m\u001b[43m(\u001b[49m\n\u001b[1;32m    132\u001b[0m \u001b[43m    \u001b[49m\u001b[43mac\u001b[49m\u001b[38;5;241;43m=\u001b[39;49m\u001b[43mutility_function\u001b[49m\u001b[38;5;241;43m.\u001b[39;49m\u001b[43mutility\u001b[49m\u001b[43m,\u001b[49m\n\u001b[1;32m    133\u001b[0m \u001b[43m    \u001b[49m\u001b[43mgp\u001b[49m\u001b[38;5;241;43m=\u001b[39;49m\u001b[38;5;28;43mself\u001b[39;49m\u001b[38;5;241;43m.\u001b[39;49m\u001b[43m_gp\u001b[49m\u001b[43m,\u001b[49m\n\u001b[1;32m    134\u001b[0m \u001b[43m    \u001b[49m\u001b[43my_max\u001b[49m\u001b[38;5;241;43m=\u001b[39;49m\u001b[38;5;28;43mself\u001b[39;49m\u001b[38;5;241;43m.\u001b[39;49m\u001b[43m_space\u001b[49m\u001b[38;5;241;43m.\u001b[39;49m\u001b[43mtarget\u001b[49m\u001b[38;5;241;43m.\u001b[39;49m\u001b[43mmax\u001b[49m\u001b[43m(\u001b[49m\u001b[43m)\u001b[49m\u001b[43m,\u001b[49m\n\u001b[1;32m    135\u001b[0m \u001b[43m    \u001b[49m\u001b[43mbounds\u001b[49m\u001b[38;5;241;43m=\u001b[39;49m\u001b[38;5;28;43mself\u001b[39;49m\u001b[38;5;241;43m.\u001b[39;49m\u001b[43m_space\u001b[49m\u001b[38;5;241;43m.\u001b[39;49m\u001b[43mbounds\u001b[49m\u001b[43m,\u001b[49m\n\u001b[1;32m    136\u001b[0m \u001b[43m    \u001b[49m\u001b[43mrandom_state\u001b[49m\u001b[38;5;241;43m=\u001b[39;49m\u001b[38;5;28;43mself\u001b[39;49m\u001b[38;5;241;43m.\u001b[39;49m\u001b[43m_random_state\u001b[49m\n\u001b[1;32m    137\u001b[0m \u001b[43m\u001b[49m\u001b[43m)\u001b[49m\n\u001b[1;32m    139\u001b[0m \u001b[38;5;28;01mreturn\u001b[39;00m \u001b[38;5;28mself\u001b[39m\u001b[38;5;241m.\u001b[39m_space\u001b[38;5;241m.\u001b[39marray_to_params(suggestion)\n",
      "File \u001b[0;32m~/opt/anaconda3/envs/elienv/lib/python3.10/site-packages/bayes_opt/util.py:55\u001b[0m, in \u001b[0;36macq_max\u001b[0;34m(ac, gp, y_max, bounds, random_state, n_warmup, n_iter)\u001b[0m\n\u001b[1;32m     51\u001b[0m x_seeds \u001b[38;5;241m=\u001b[39m random_state\u001b[38;5;241m.\u001b[39muniform(bounds[:, \u001b[38;5;241m0\u001b[39m], bounds[:, \u001b[38;5;241m1\u001b[39m],\n\u001b[1;32m     52\u001b[0m                                size\u001b[38;5;241m=\u001b[39m(n_iter, bounds\u001b[38;5;241m.\u001b[39mshape[\u001b[38;5;241m0\u001b[39m]))\n\u001b[1;32m     53\u001b[0m \u001b[38;5;28;01mfor\u001b[39;00m x_try \u001b[38;5;129;01min\u001b[39;00m x_seeds:\n\u001b[1;32m     54\u001b[0m     \u001b[38;5;66;03m# Find the minimum of minus the acquisition function\u001b[39;00m\n\u001b[0;32m---> 55\u001b[0m     res \u001b[38;5;241m=\u001b[39m \u001b[43mminimize\u001b[49m\u001b[43m(\u001b[49m\u001b[38;5;28;43;01mlambda\u001b[39;49;00m\u001b[43m \u001b[49m\u001b[43mx\u001b[49m\u001b[43m:\u001b[49m\u001b[43m \u001b[49m\u001b[38;5;241;43m-\u001b[39;49m\u001b[43mac\u001b[49m\u001b[43m(\u001b[49m\u001b[43mx\u001b[49m\u001b[38;5;241;43m.\u001b[39;49m\u001b[43mreshape\u001b[49m\u001b[43m(\u001b[49m\u001b[38;5;241;43m1\u001b[39;49m\u001b[43m,\u001b[49m\u001b[43m \u001b[49m\u001b[38;5;241;43m-\u001b[39;49m\u001b[38;5;241;43m1\u001b[39;49m\u001b[43m)\u001b[49m\u001b[43m,\u001b[49m\u001b[43m \u001b[49m\u001b[43mgp\u001b[49m\u001b[38;5;241;43m=\u001b[39;49m\u001b[43mgp\u001b[49m\u001b[43m,\u001b[49m\u001b[43m \u001b[49m\u001b[43my_max\u001b[49m\u001b[38;5;241;43m=\u001b[39;49m\u001b[43my_max\u001b[49m\u001b[43m)\u001b[49m\u001b[43m,\u001b[49m\n\u001b[1;32m     56\u001b[0m \u001b[43m                   \u001b[49m\u001b[43mx_try\u001b[49m\u001b[38;5;241;43m.\u001b[39;49m\u001b[43mreshape\u001b[49m\u001b[43m(\u001b[49m\u001b[38;5;241;43m1\u001b[39;49m\u001b[43m,\u001b[49m\u001b[43m \u001b[49m\u001b[38;5;241;43m-\u001b[39;49m\u001b[38;5;241;43m1\u001b[39;49m\u001b[43m)\u001b[49m\u001b[43m,\u001b[49m\n\u001b[1;32m     57\u001b[0m \u001b[43m                   \u001b[49m\u001b[43mbounds\u001b[49m\u001b[38;5;241;43m=\u001b[39;49m\u001b[43mbounds\u001b[49m\u001b[43m,\u001b[49m\n\u001b[1;32m     58\u001b[0m \u001b[43m                   \u001b[49m\u001b[43mmethod\u001b[49m\u001b[38;5;241;43m=\u001b[39;49m\u001b[38;5;124;43m\"\u001b[39;49m\u001b[38;5;124;43mL-BFGS-B\u001b[39;49m\u001b[38;5;124;43m\"\u001b[39;49m\u001b[43m)\u001b[49m\n\u001b[1;32m     60\u001b[0m     \u001b[38;5;66;03m# See if success\u001b[39;00m\n\u001b[1;32m     61\u001b[0m     \u001b[38;5;28;01mif\u001b[39;00m \u001b[38;5;129;01mnot\u001b[39;00m res\u001b[38;5;241m.\u001b[39msuccess:\n",
      "File \u001b[0;32m~/opt/anaconda3/envs/elienv/lib/python3.10/site-packages/scipy/optimize/_minimize.py:623\u001b[0m, in \u001b[0;36mminimize\u001b[0;34m(fun, x0, args, method, jac, hess, hessp, bounds, constraints, tol, callback, options)\u001b[0m\n\u001b[1;32m    620\u001b[0m     \u001b[38;5;28;01mreturn\u001b[39;00m _minimize_newtoncg(fun, x0, args, jac, hess, hessp, callback,\n\u001b[1;32m    621\u001b[0m                               \u001b[38;5;241m*\u001b[39m\u001b[38;5;241m*\u001b[39moptions)\n\u001b[1;32m    622\u001b[0m \u001b[38;5;28;01melif\u001b[39;00m meth \u001b[38;5;241m==\u001b[39m \u001b[38;5;124m'\u001b[39m\u001b[38;5;124ml-bfgs-b\u001b[39m\u001b[38;5;124m'\u001b[39m:\n\u001b[0;32m--> 623\u001b[0m     \u001b[38;5;28;01mreturn\u001b[39;00m \u001b[43m_minimize_lbfgsb\u001b[49m\u001b[43m(\u001b[49m\u001b[43mfun\u001b[49m\u001b[43m,\u001b[49m\u001b[43m \u001b[49m\u001b[43mx0\u001b[49m\u001b[43m,\u001b[49m\u001b[43m \u001b[49m\u001b[43margs\u001b[49m\u001b[43m,\u001b[49m\u001b[43m \u001b[49m\u001b[43mjac\u001b[49m\u001b[43m,\u001b[49m\u001b[43m \u001b[49m\u001b[43mbounds\u001b[49m\u001b[43m,\u001b[49m\n\u001b[1;32m    624\u001b[0m \u001b[43m                            \u001b[49m\u001b[43mcallback\u001b[49m\u001b[38;5;241;43m=\u001b[39;49m\u001b[43mcallback\u001b[49m\u001b[43m,\u001b[49m\u001b[43m \u001b[49m\u001b[38;5;241;43m*\u001b[39;49m\u001b[38;5;241;43m*\u001b[39;49m\u001b[43moptions\u001b[49m\u001b[43m)\u001b[49m\n\u001b[1;32m    625\u001b[0m \u001b[38;5;28;01melif\u001b[39;00m meth \u001b[38;5;241m==\u001b[39m \u001b[38;5;124m'\u001b[39m\u001b[38;5;124mtnc\u001b[39m\u001b[38;5;124m'\u001b[39m:\n\u001b[1;32m    626\u001b[0m     \u001b[38;5;28;01mreturn\u001b[39;00m _minimize_tnc(fun, x0, args, jac, bounds, callback\u001b[38;5;241m=\u001b[39mcallback,\n\u001b[1;32m    627\u001b[0m                          \u001b[38;5;241m*\u001b[39m\u001b[38;5;241m*\u001b[39moptions)\n",
      "File \u001b[0;32m~/opt/anaconda3/envs/elienv/lib/python3.10/site-packages/scipy/optimize/lbfgsb.py:306\u001b[0m, in \u001b[0;36m_minimize_lbfgsb\u001b[0;34m(fun, x0, args, jac, bounds, disp, maxcor, ftol, gtol, eps, maxfun, maxiter, iprint, callback, maxls, finite_diff_rel_step, **unknown_options)\u001b[0m\n\u001b[1;32m    303\u001b[0m     \u001b[38;5;28;01melse\u001b[39;00m:\n\u001b[1;32m    304\u001b[0m         iprint \u001b[38;5;241m=\u001b[39m disp\n\u001b[0;32m--> 306\u001b[0m sf \u001b[38;5;241m=\u001b[39m \u001b[43m_prepare_scalar_function\u001b[49m\u001b[43m(\u001b[49m\u001b[43mfun\u001b[49m\u001b[43m,\u001b[49m\u001b[43m \u001b[49m\u001b[43mx0\u001b[49m\u001b[43m,\u001b[49m\u001b[43m \u001b[49m\u001b[43mjac\u001b[49m\u001b[38;5;241;43m=\u001b[39;49m\u001b[43mjac\u001b[49m\u001b[43m,\u001b[49m\u001b[43m \u001b[49m\u001b[43margs\u001b[49m\u001b[38;5;241;43m=\u001b[39;49m\u001b[43margs\u001b[49m\u001b[43m,\u001b[49m\u001b[43m \u001b[49m\u001b[43mepsilon\u001b[49m\u001b[38;5;241;43m=\u001b[39;49m\u001b[43meps\u001b[49m\u001b[43m,\u001b[49m\n\u001b[1;32m    307\u001b[0m \u001b[43m                              \u001b[49m\u001b[43mbounds\u001b[49m\u001b[38;5;241;43m=\u001b[39;49m\u001b[43mnew_bounds\u001b[49m\u001b[43m,\u001b[49m\n\u001b[1;32m    308\u001b[0m \u001b[43m                              \u001b[49m\u001b[43mfinite_diff_rel_step\u001b[49m\u001b[38;5;241;43m=\u001b[39;49m\u001b[43mfinite_diff_rel_step\u001b[49m\u001b[43m)\u001b[49m\n\u001b[1;32m    310\u001b[0m func_and_grad \u001b[38;5;241m=\u001b[39m sf\u001b[38;5;241m.\u001b[39mfun_and_grad\n\u001b[1;32m    312\u001b[0m fortran_int \u001b[38;5;241m=\u001b[39m _lbfgsb\u001b[38;5;241m.\u001b[39mtypes\u001b[38;5;241m.\u001b[39mintvar\u001b[38;5;241m.\u001b[39mdtype\n",
      "File \u001b[0;32m~/opt/anaconda3/envs/elienv/lib/python3.10/site-packages/scipy/optimize/optimize.py:261\u001b[0m, in \u001b[0;36m_prepare_scalar_function\u001b[0;34m(fun, x0, jac, args, bounds, epsilon, finite_diff_rel_step, hess)\u001b[0m\n\u001b[1;32m    257\u001b[0m     bounds \u001b[38;5;241m=\u001b[39m (\u001b[38;5;241m-\u001b[39mnp\u001b[38;5;241m.\u001b[39minf, np\u001b[38;5;241m.\u001b[39minf)\n\u001b[1;32m    259\u001b[0m \u001b[38;5;66;03m# ScalarFunction caches. Reuse of fun(x) during grad\u001b[39;00m\n\u001b[1;32m    260\u001b[0m \u001b[38;5;66;03m# calculation reduces overall function evaluations.\u001b[39;00m\n\u001b[0;32m--> 261\u001b[0m sf \u001b[38;5;241m=\u001b[39m \u001b[43mScalarFunction\u001b[49m\u001b[43m(\u001b[49m\u001b[43mfun\u001b[49m\u001b[43m,\u001b[49m\u001b[43m \u001b[49m\u001b[43mx0\u001b[49m\u001b[43m,\u001b[49m\u001b[43m \u001b[49m\u001b[43margs\u001b[49m\u001b[43m,\u001b[49m\u001b[43m \u001b[49m\u001b[43mgrad\u001b[49m\u001b[43m,\u001b[49m\u001b[43m \u001b[49m\u001b[43mhess\u001b[49m\u001b[43m,\u001b[49m\n\u001b[1;32m    262\u001b[0m \u001b[43m                    \u001b[49m\u001b[43mfinite_diff_rel_step\u001b[49m\u001b[43m,\u001b[49m\u001b[43m \u001b[49m\u001b[43mbounds\u001b[49m\u001b[43m,\u001b[49m\u001b[43m \u001b[49m\u001b[43mepsilon\u001b[49m\u001b[38;5;241;43m=\u001b[39;49m\u001b[43mepsilon\u001b[49m\u001b[43m)\u001b[49m\n\u001b[1;32m    264\u001b[0m \u001b[38;5;28;01mreturn\u001b[39;00m sf\n",
      "File \u001b[0;32m~/opt/anaconda3/envs/elienv/lib/python3.10/site-packages/scipy/optimize/_differentiable_functions.py:159\u001b[0m, in \u001b[0;36mScalarFunction.__init__\u001b[0;34m(self, fun, x0, args, grad, hess, finite_diff_rel_step, finite_diff_bounds, epsilon)\u001b[0m\n\u001b[1;32m    155\u001b[0m         \u001b[38;5;28mself\u001b[39m\u001b[38;5;241m.\u001b[39mg \u001b[38;5;241m=\u001b[39m approx_derivative(fun_wrapped, \u001b[38;5;28mself\u001b[39m\u001b[38;5;241m.\u001b[39mx, f0\u001b[38;5;241m=\u001b[39m\u001b[38;5;28mself\u001b[39m\u001b[38;5;241m.\u001b[39mf,\n\u001b[1;32m    156\u001b[0m                                    \u001b[38;5;241m*\u001b[39m\u001b[38;5;241m*\u001b[39mfinite_diff_options)\n\u001b[1;32m    158\u001b[0m \u001b[38;5;28mself\u001b[39m\u001b[38;5;241m.\u001b[39m_update_grad_impl \u001b[38;5;241m=\u001b[39m update_grad\n\u001b[0;32m--> 159\u001b[0m \u001b[38;5;28;43mself\u001b[39;49m\u001b[38;5;241;43m.\u001b[39;49m\u001b[43m_update_grad\u001b[49m\u001b[43m(\u001b[49m\u001b[43m)\u001b[49m\n\u001b[1;32m    161\u001b[0m \u001b[38;5;66;03m# Hessian Evaluation\u001b[39;00m\n\u001b[1;32m    162\u001b[0m \u001b[38;5;28;01mif\u001b[39;00m callable(hess):\n",
      "File \u001b[0;32m~/opt/anaconda3/envs/elienv/lib/python3.10/site-packages/scipy/optimize/_differentiable_functions.py:238\u001b[0m, in \u001b[0;36mScalarFunction._update_grad\u001b[0;34m(self)\u001b[0m\n\u001b[1;32m    236\u001b[0m \u001b[38;5;28;01mdef\u001b[39;00m \u001b[38;5;21m_update_grad\u001b[39m(\u001b[38;5;28mself\u001b[39m):\n\u001b[1;32m    237\u001b[0m     \u001b[38;5;28;01mif\u001b[39;00m \u001b[38;5;129;01mnot\u001b[39;00m \u001b[38;5;28mself\u001b[39m\u001b[38;5;241m.\u001b[39mg_updated:\n\u001b[0;32m--> 238\u001b[0m         \u001b[38;5;28;43mself\u001b[39;49m\u001b[38;5;241;43m.\u001b[39;49m\u001b[43m_update_grad_impl\u001b[49m\u001b[43m(\u001b[49m\u001b[43m)\u001b[49m\n\u001b[1;32m    239\u001b[0m         \u001b[38;5;28mself\u001b[39m\u001b[38;5;241m.\u001b[39mg_updated \u001b[38;5;241m=\u001b[39m \u001b[38;5;28;01mTrue\u001b[39;00m\n",
      "File \u001b[0;32m~/opt/anaconda3/envs/elienv/lib/python3.10/site-packages/scipy/optimize/_differentiable_functions.py:155\u001b[0m, in \u001b[0;36mScalarFunction.__init__.<locals>.update_grad\u001b[0;34m()\u001b[0m\n\u001b[1;32m    153\u001b[0m \u001b[38;5;28mself\u001b[39m\u001b[38;5;241m.\u001b[39m_update_fun()\n\u001b[1;32m    154\u001b[0m \u001b[38;5;28mself\u001b[39m\u001b[38;5;241m.\u001b[39mngev \u001b[38;5;241m+\u001b[39m\u001b[38;5;241m=\u001b[39m \u001b[38;5;241m1\u001b[39m\n\u001b[0;32m--> 155\u001b[0m \u001b[38;5;28mself\u001b[39m\u001b[38;5;241m.\u001b[39mg \u001b[38;5;241m=\u001b[39m \u001b[43mapprox_derivative\u001b[49m\u001b[43m(\u001b[49m\u001b[43mfun_wrapped\u001b[49m\u001b[43m,\u001b[49m\u001b[43m \u001b[49m\u001b[38;5;28;43mself\u001b[39;49m\u001b[38;5;241;43m.\u001b[39;49m\u001b[43mx\u001b[49m\u001b[43m,\u001b[49m\u001b[43m \u001b[49m\u001b[43mf0\u001b[49m\u001b[38;5;241;43m=\u001b[39;49m\u001b[38;5;28;43mself\u001b[39;49m\u001b[38;5;241;43m.\u001b[39;49m\u001b[43mf\u001b[49m\u001b[43m,\u001b[49m\n\u001b[1;32m    156\u001b[0m \u001b[43m                           \u001b[49m\u001b[38;5;241;43m*\u001b[39;49m\u001b[38;5;241;43m*\u001b[39;49m\u001b[43mfinite_diff_options\u001b[49m\u001b[43m)\u001b[49m\n",
      "File \u001b[0;32m~/opt/anaconda3/envs/elienv/lib/python3.10/site-packages/scipy/optimize/_numdiff.py:486\u001b[0m, in \u001b[0;36mapprox_derivative\u001b[0;34m(fun, x0, method, rel_step, abs_step, f0, bounds, sparsity, as_linear_operator, args, kwargs)\u001b[0m\n\u001b[1;32m    483\u001b[0m     use_one_sided \u001b[38;5;241m=\u001b[39m \u001b[38;5;28;01mFalse\u001b[39;00m\n\u001b[1;32m    485\u001b[0m \u001b[38;5;28;01mif\u001b[39;00m sparsity \u001b[38;5;129;01mis\u001b[39;00m \u001b[38;5;28;01mNone\u001b[39;00m:\n\u001b[0;32m--> 486\u001b[0m     \u001b[38;5;28;01mreturn\u001b[39;00m \u001b[43m_dense_difference\u001b[49m\u001b[43m(\u001b[49m\u001b[43mfun_wrapped\u001b[49m\u001b[43m,\u001b[49m\u001b[43m \u001b[49m\u001b[43mx0\u001b[49m\u001b[43m,\u001b[49m\u001b[43m \u001b[49m\u001b[43mf0\u001b[49m\u001b[43m,\u001b[49m\u001b[43m \u001b[49m\u001b[43mh\u001b[49m\u001b[43m,\u001b[49m\n\u001b[1;32m    487\u001b[0m \u001b[43m                             \u001b[49m\u001b[43muse_one_sided\u001b[49m\u001b[43m,\u001b[49m\u001b[43m \u001b[49m\u001b[43mmethod\u001b[49m\u001b[43m)\u001b[49m\n\u001b[1;32m    488\u001b[0m \u001b[38;5;28;01melse\u001b[39;00m:\n\u001b[1;32m    489\u001b[0m     \u001b[38;5;28;01mif\u001b[39;00m \u001b[38;5;129;01mnot\u001b[39;00m issparse(sparsity) \u001b[38;5;129;01mand\u001b[39;00m \u001b[38;5;28mlen\u001b[39m(sparsity) \u001b[38;5;241m==\u001b[39m \u001b[38;5;241m2\u001b[39m:\n",
      "File \u001b[0;32m~/opt/anaconda3/envs/elienv/lib/python3.10/site-packages/scipy/optimize/_numdiff.py:557\u001b[0m, in \u001b[0;36m_dense_difference\u001b[0;34m(fun, x0, f0, h, use_one_sided, method)\u001b[0m\n\u001b[1;32m    555\u001b[0m     x \u001b[38;5;241m=\u001b[39m x0 \u001b[38;5;241m+\u001b[39m h_vecs[i]\n\u001b[1;32m    556\u001b[0m     dx \u001b[38;5;241m=\u001b[39m x[i] \u001b[38;5;241m-\u001b[39m x0[i]  \u001b[38;5;66;03m# Recompute dx as exactly representable number.\u001b[39;00m\n\u001b[0;32m--> 557\u001b[0m     df \u001b[38;5;241m=\u001b[39m \u001b[43mfun\u001b[49m\u001b[43m(\u001b[49m\u001b[43mx\u001b[49m\u001b[43m)\u001b[49m \u001b[38;5;241m-\u001b[39m f0\n\u001b[1;32m    558\u001b[0m \u001b[38;5;28;01melif\u001b[39;00m method \u001b[38;5;241m==\u001b[39m \u001b[38;5;124m'\u001b[39m\u001b[38;5;124m3-point\u001b[39m\u001b[38;5;124m'\u001b[39m \u001b[38;5;129;01mand\u001b[39;00m use_one_sided[i]:\n\u001b[1;32m    559\u001b[0m     x1 \u001b[38;5;241m=\u001b[39m x0 \u001b[38;5;241m+\u001b[39m h_vecs[i]\n",
      "File \u001b[0;32m~/opt/anaconda3/envs/elienv/lib/python3.10/site-packages/scipy/optimize/_numdiff.py:437\u001b[0m, in \u001b[0;36mapprox_derivative.<locals>.fun_wrapped\u001b[0;34m(x)\u001b[0m\n\u001b[1;32m    436\u001b[0m \u001b[38;5;28;01mdef\u001b[39;00m \u001b[38;5;21mfun_wrapped\u001b[39m(x):\n\u001b[0;32m--> 437\u001b[0m     f \u001b[38;5;241m=\u001b[39m np\u001b[38;5;241m.\u001b[39matleast_1d(\u001b[43mfun\u001b[49m\u001b[43m(\u001b[49m\u001b[43mx\u001b[49m\u001b[43m,\u001b[49m\u001b[43m \u001b[49m\u001b[38;5;241;43m*\u001b[39;49m\u001b[43margs\u001b[49m\u001b[43m,\u001b[49m\u001b[43m \u001b[49m\u001b[38;5;241;43m*\u001b[39;49m\u001b[38;5;241;43m*\u001b[39;49m\u001b[43mkwargs\u001b[49m\u001b[43m)\u001b[49m)\n\u001b[1;32m    438\u001b[0m     \u001b[38;5;28;01mif\u001b[39;00m f\u001b[38;5;241m.\u001b[39mndim \u001b[38;5;241m>\u001b[39m \u001b[38;5;241m1\u001b[39m:\n\u001b[1;32m    439\u001b[0m         \u001b[38;5;28;01mraise\u001b[39;00m \u001b[38;5;167;01mRuntimeError\u001b[39;00m(\u001b[38;5;124m\"\u001b[39m\u001b[38;5;124m`fun` return value has \u001b[39m\u001b[38;5;124m\"\u001b[39m\n\u001b[1;32m    440\u001b[0m                            \u001b[38;5;124m\"\u001b[39m\u001b[38;5;124mmore than 1 dimension.\u001b[39m\u001b[38;5;124m\"\u001b[39m)\n",
      "File \u001b[0;32m~/opt/anaconda3/envs/elienv/lib/python3.10/site-packages/scipy/optimize/_differentiable_functions.py:134\u001b[0m, in \u001b[0;36mScalarFunction.__init__.<locals>.fun_wrapped\u001b[0;34m(x)\u001b[0m\n\u001b[1;32m    130\u001b[0m \u001b[38;5;28mself\u001b[39m\u001b[38;5;241m.\u001b[39mnfev \u001b[38;5;241m+\u001b[39m\u001b[38;5;241m=\u001b[39m \u001b[38;5;241m1\u001b[39m\n\u001b[1;32m    131\u001b[0m \u001b[38;5;66;03m# Send a copy because the user may overwrite it.\u001b[39;00m\n\u001b[1;32m    132\u001b[0m \u001b[38;5;66;03m# Overwriting results in undefined behaviour because\u001b[39;00m\n\u001b[1;32m    133\u001b[0m \u001b[38;5;66;03m# fun(self.x) will change self.x, with the two no longer linked.\u001b[39;00m\n\u001b[0;32m--> 134\u001b[0m \u001b[38;5;28;01mreturn\u001b[39;00m \u001b[43mfun\u001b[49m\u001b[43m(\u001b[49m\u001b[43mnp\u001b[49m\u001b[38;5;241;43m.\u001b[39;49m\u001b[43mcopy\u001b[49m\u001b[43m(\u001b[49m\u001b[43mx\u001b[49m\u001b[43m)\u001b[49m\u001b[43m,\u001b[49m\u001b[43m \u001b[49m\u001b[38;5;241;43m*\u001b[39;49m\u001b[43margs\u001b[49m\u001b[43m)\u001b[49m\n",
      "File \u001b[0;32m~/opt/anaconda3/envs/elienv/lib/python3.10/site-packages/bayes_opt/util.py:55\u001b[0m, in \u001b[0;36macq_max.<locals>.<lambda>\u001b[0;34m(x)\u001b[0m\n\u001b[1;32m     51\u001b[0m x_seeds \u001b[38;5;241m=\u001b[39m random_state\u001b[38;5;241m.\u001b[39muniform(bounds[:, \u001b[38;5;241m0\u001b[39m], bounds[:, \u001b[38;5;241m1\u001b[39m],\n\u001b[1;32m     52\u001b[0m                                size\u001b[38;5;241m=\u001b[39m(n_iter, bounds\u001b[38;5;241m.\u001b[39mshape[\u001b[38;5;241m0\u001b[39m]))\n\u001b[1;32m     53\u001b[0m \u001b[38;5;28;01mfor\u001b[39;00m x_try \u001b[38;5;129;01min\u001b[39;00m x_seeds:\n\u001b[1;32m     54\u001b[0m     \u001b[38;5;66;03m# Find the minimum of minus the acquisition function\u001b[39;00m\n\u001b[0;32m---> 55\u001b[0m     res \u001b[38;5;241m=\u001b[39m minimize(\u001b[38;5;28;01mlambda\u001b[39;00m x: \u001b[38;5;241m-\u001b[39m\u001b[43mac\u001b[49m\u001b[43m(\u001b[49m\u001b[43mx\u001b[49m\u001b[38;5;241;43m.\u001b[39;49m\u001b[43mreshape\u001b[49m\u001b[43m(\u001b[49m\u001b[38;5;241;43m1\u001b[39;49m\u001b[43m,\u001b[49m\u001b[43m \u001b[49m\u001b[38;5;241;43m-\u001b[39;49m\u001b[38;5;241;43m1\u001b[39;49m\u001b[43m)\u001b[49m\u001b[43m,\u001b[49m\u001b[43m \u001b[49m\u001b[43mgp\u001b[49m\u001b[38;5;241;43m=\u001b[39;49m\u001b[43mgp\u001b[49m\u001b[43m,\u001b[49m\u001b[43m \u001b[49m\u001b[43my_max\u001b[49m\u001b[38;5;241;43m=\u001b[39;49m\u001b[43my_max\u001b[49m\u001b[43m)\u001b[49m,\n\u001b[1;32m     56\u001b[0m                    x_try\u001b[38;5;241m.\u001b[39mreshape(\u001b[38;5;241m1\u001b[39m, \u001b[38;5;241m-\u001b[39m\u001b[38;5;241m1\u001b[39m),\n\u001b[1;32m     57\u001b[0m                    bounds\u001b[38;5;241m=\u001b[39mbounds,\n\u001b[1;32m     58\u001b[0m                    method\u001b[38;5;241m=\u001b[39m\u001b[38;5;124m\"\u001b[39m\u001b[38;5;124mL-BFGS-B\u001b[39m\u001b[38;5;124m\"\u001b[39m)\n\u001b[1;32m     60\u001b[0m     \u001b[38;5;66;03m# See if success\u001b[39;00m\n\u001b[1;32m     61\u001b[0m     \u001b[38;5;28;01mif\u001b[39;00m \u001b[38;5;129;01mnot\u001b[39;00m res\u001b[38;5;241m.\u001b[39msuccess:\n",
      "File \u001b[0;32m~/opt/anaconda3/envs/elienv/lib/python3.10/site-packages/bayes_opt/util.py:105\u001b[0m, in \u001b[0;36mUtilityFunction.utility\u001b[0;34m(self, x, gp, y_max)\u001b[0m\n\u001b[1;32m    103\u001b[0m \u001b[38;5;28;01mdef\u001b[39;00m \u001b[38;5;21mutility\u001b[39m(\u001b[38;5;28mself\u001b[39m, x, gp, y_max):\n\u001b[1;32m    104\u001b[0m     \u001b[38;5;28;01mif\u001b[39;00m \u001b[38;5;28mself\u001b[39m\u001b[38;5;241m.\u001b[39mkind \u001b[38;5;241m==\u001b[39m \u001b[38;5;124m'\u001b[39m\u001b[38;5;124mucb\u001b[39m\u001b[38;5;124m'\u001b[39m:\n\u001b[0;32m--> 105\u001b[0m         \u001b[38;5;28;01mreturn\u001b[39;00m \u001b[38;5;28;43mself\u001b[39;49m\u001b[38;5;241;43m.\u001b[39;49m\u001b[43m_ucb\u001b[49m\u001b[43m(\u001b[49m\u001b[43mx\u001b[49m\u001b[43m,\u001b[49m\u001b[43m \u001b[49m\u001b[43mgp\u001b[49m\u001b[43m,\u001b[49m\u001b[43m \u001b[49m\u001b[38;5;28;43mself\u001b[39;49m\u001b[38;5;241;43m.\u001b[39;49m\u001b[43mkappa\u001b[49m\u001b[43m)\u001b[49m\n\u001b[1;32m    106\u001b[0m     \u001b[38;5;28;01mif\u001b[39;00m \u001b[38;5;28mself\u001b[39m\u001b[38;5;241m.\u001b[39mkind \u001b[38;5;241m==\u001b[39m \u001b[38;5;124m'\u001b[39m\u001b[38;5;124mei\u001b[39m\u001b[38;5;124m'\u001b[39m:\n\u001b[1;32m    107\u001b[0m         \u001b[38;5;28;01mreturn\u001b[39;00m \u001b[38;5;28mself\u001b[39m\u001b[38;5;241m.\u001b[39m_ei(x, gp, y_max, \u001b[38;5;28mself\u001b[39m\u001b[38;5;241m.\u001b[39mxi)\n",
      "File \u001b[0;32m~/opt/anaconda3/envs/elienv/lib/python3.10/site-packages/bayes_opt/util.py:115\u001b[0m, in \u001b[0;36mUtilityFunction._ucb\u001b[0;34m(x, gp, kappa)\u001b[0m\n\u001b[1;32m    113\u001b[0m \u001b[38;5;28;01mwith\u001b[39;00m warnings\u001b[38;5;241m.\u001b[39mcatch_warnings():\n\u001b[1;32m    114\u001b[0m     warnings\u001b[38;5;241m.\u001b[39msimplefilter(\u001b[38;5;124m\"\u001b[39m\u001b[38;5;124mignore\u001b[39m\u001b[38;5;124m\"\u001b[39m)\n\u001b[0;32m--> 115\u001b[0m     mean, std \u001b[38;5;241m=\u001b[39m \u001b[43mgp\u001b[49m\u001b[38;5;241;43m.\u001b[39;49m\u001b[43mpredict\u001b[49m\u001b[43m(\u001b[49m\u001b[43mx\u001b[49m\u001b[43m,\u001b[49m\u001b[43m \u001b[49m\u001b[43mreturn_std\u001b[49m\u001b[38;5;241;43m=\u001b[39;49m\u001b[38;5;28;43;01mTrue\u001b[39;49;00m\u001b[43m)\u001b[49m\n\u001b[1;32m    117\u001b[0m \u001b[38;5;28;01mreturn\u001b[39;00m mean \u001b[38;5;241m+\u001b[39m kappa \u001b[38;5;241m*\u001b[39m std\n",
      "File \u001b[0;32m~/opt/anaconda3/envs/elienv/lib/python3.10/site-packages/sklearn/gaussian_process/_gpr.py:398\u001b[0m, in \u001b[0;36mGaussianProcessRegressor.predict\u001b[0;34m(self, X, return_std, return_cov)\u001b[0m\n\u001b[1;32m    395\u001b[0m y_mean \u001b[38;5;241m=\u001b[39m \u001b[38;5;28mself\u001b[39m\u001b[38;5;241m.\u001b[39m_y_train_std \u001b[38;5;241m*\u001b[39m y_mean \u001b[38;5;241m+\u001b[39m \u001b[38;5;28mself\u001b[39m\u001b[38;5;241m.\u001b[39m_y_train_mean\n\u001b[1;32m    397\u001b[0m \u001b[38;5;66;03m# Alg 2.1, page 19, line 5 -> v = L \\ K(X_test, X_train)^T\u001b[39;00m\n\u001b[0;32m--> 398\u001b[0m V \u001b[38;5;241m=\u001b[39m \u001b[43msolve_triangular\u001b[49m\u001b[43m(\u001b[49m\n\u001b[1;32m    399\u001b[0m \u001b[43m    \u001b[49m\u001b[38;5;28;43mself\u001b[39;49m\u001b[38;5;241;43m.\u001b[39;49m\u001b[43mL_\u001b[49m\u001b[43m,\u001b[49m\u001b[43m \u001b[49m\u001b[43mK_trans\u001b[49m\u001b[38;5;241;43m.\u001b[39;49m\u001b[43mT\u001b[49m\u001b[43m,\u001b[49m\u001b[43m \u001b[49m\u001b[43mlower\u001b[49m\u001b[38;5;241;43m=\u001b[39;49m\u001b[43mGPR_CHOLESKY_LOWER\u001b[49m\u001b[43m,\u001b[49m\u001b[43m \u001b[49m\u001b[43mcheck_finite\u001b[49m\u001b[38;5;241;43m=\u001b[39;49m\u001b[38;5;28;43;01mFalse\u001b[39;49;00m\n\u001b[1;32m    400\u001b[0m \u001b[43m\u001b[49m\u001b[43m)\u001b[49m\n\u001b[1;32m    402\u001b[0m \u001b[38;5;28;01mif\u001b[39;00m return_cov:\n\u001b[1;32m    403\u001b[0m     \u001b[38;5;66;03m# Alg 2.1, page 19, line 6 -> K(X_test, X_test) - v^T. v\u001b[39;00m\n\u001b[1;32m    404\u001b[0m     y_cov \u001b[38;5;241m=\u001b[39m \u001b[38;5;28mself\u001b[39m\u001b[38;5;241m.\u001b[39mkernel_(X) \u001b[38;5;241m-\u001b[39m V\u001b[38;5;241m.\u001b[39mT \u001b[38;5;241m@\u001b[39m V\n",
      "File \u001b[0;32m~/opt/anaconda3/envs/elienv/lib/python3.10/site-packages/scipy/linalg/basic.py:351\u001b[0m, in \u001b[0;36msolve_triangular\u001b[0;34m(a, b, trans, lower, unit_diagonal, overwrite_b, debug, check_finite)\u001b[0m\n\u001b[1;32m    349\u001b[0m trtrs, \u001b[38;5;241m=\u001b[39m get_lapack_funcs((\u001b[38;5;124m'\u001b[39m\u001b[38;5;124mtrtrs\u001b[39m\u001b[38;5;124m'\u001b[39m,), (a1, b1))\n\u001b[1;32m    350\u001b[0m \u001b[38;5;28;01mif\u001b[39;00m a1\u001b[38;5;241m.\u001b[39mflags\u001b[38;5;241m.\u001b[39mf_contiguous \u001b[38;5;129;01mor\u001b[39;00m trans \u001b[38;5;241m==\u001b[39m \u001b[38;5;241m2\u001b[39m:\n\u001b[0;32m--> 351\u001b[0m     x, info \u001b[38;5;241m=\u001b[39m \u001b[43mtrtrs\u001b[49m\u001b[43m(\u001b[49m\u001b[43ma1\u001b[49m\u001b[43m,\u001b[49m\u001b[43m \u001b[49m\u001b[43mb1\u001b[49m\u001b[43m,\u001b[49m\u001b[43m \u001b[49m\u001b[43moverwrite_b\u001b[49m\u001b[38;5;241;43m=\u001b[39;49m\u001b[43moverwrite_b\u001b[49m\u001b[43m,\u001b[49m\u001b[43m \u001b[49m\u001b[43mlower\u001b[49m\u001b[38;5;241;43m=\u001b[39;49m\u001b[43mlower\u001b[49m\u001b[43m,\u001b[49m\n\u001b[1;32m    352\u001b[0m \u001b[43m                    \u001b[49m\u001b[43mtrans\u001b[49m\u001b[38;5;241;43m=\u001b[39;49m\u001b[43mtrans\u001b[49m\u001b[43m,\u001b[49m\u001b[43m \u001b[49m\u001b[43munitdiag\u001b[49m\u001b[38;5;241;43m=\u001b[39;49m\u001b[43munit_diagonal\u001b[49m\u001b[43m)\u001b[49m\n\u001b[1;32m    353\u001b[0m \u001b[38;5;28;01melse\u001b[39;00m:\n\u001b[1;32m    354\u001b[0m     \u001b[38;5;66;03m# transposed system is solved since trtrs expects Fortran ordering\u001b[39;00m\n\u001b[1;32m    355\u001b[0m     x, info \u001b[38;5;241m=\u001b[39m trtrs(a1\u001b[38;5;241m.\u001b[39mT, b1, overwrite_b\u001b[38;5;241m=\u001b[39moverwrite_b, lower\u001b[38;5;241m=\u001b[39m\u001b[38;5;129;01mnot\u001b[39;00m lower,\n\u001b[1;32m    356\u001b[0m                     trans\u001b[38;5;241m=\u001b[39m\u001b[38;5;129;01mnot\u001b[39;00m trans, unitdiag\u001b[38;5;241m=\u001b[39munit_diagonal)\n",
      "\u001b[0;31mKeyboardInterrupt\u001b[0m: "
     ]
    }
   ],
   "source": [
    "optimizer = BayesianOptimization(\n",
    "    f=objective_function,\n",
    "    pbounds=pbounds,\n",
    "    verbose=1, # verbose = 1 prints only when a maximum is observed, verbose = 0 is silent\n",
    "    random_state=10, # for reproducibility\n",
    ")\n",
    "\n",
    "# these are the actual hyperparameters of the optimization process\n",
    "# n_init, n_iter = 150, 200\n",
    "\n",
    "optimizer.maximize(\n",
    "    init_points=n_init,\n",
    "    n_iter=n_iter,\n",
    ")"
   ]
  },
  {
   "cell_type": "code",
   "execution_count": null,
   "id": "fa6f2dbd",
   "metadata": {
    "ExecuteTime": {
     "end_time": "2022-08-29T12:18:54.909381Z",
     "start_time": "2022-08-29T12:18:54.909359Z"
    }
   },
   "outputs": [],
   "source": [
    "# plotting the result obtained with Bayesian Optimization\n",
    "optimald2, optimald3, optimald4 = optimizer.max[\"params\"][\"d2\"], optimizer.max[\"params\"][\"d3\"], optimizer.max[\"params\"][\"d4\"]\n",
    "\n",
    "optimal_control = (optimald2, optimald3, optimald4)\n",
    "# applying optimal control found\n",
    "time_BO, profile_BO = l1_pump.forward_pass(optimal_control)\n",
    "\n",
    "print(\"Final MSE between Control and Target: {:.4e}\".format(-1*objective_function(optimald2, optimald3, optimald4)))"
   ]
  },
  {
   "cell_type": "code",
   "execution_count": null,
   "id": "be34d395",
   "metadata": {
    "ExecuteTime": {
     "end_time": "2022-08-29T12:18:54.913319Z",
     "start_time": "2022-08-29T12:18:54.913299Z"
    }
   },
   "outputs": [],
   "source": [
    "# output if non-linearity was absent from the system \n",
    "linear_opt_time, linear_opt_profile = l1_pump.forward_pass(\n",
    "    control = l1_pump.translate_control(\n",
    "        -1*COMPRESSOR, verse = \"to_disp\"\n",
    "    )\n",
    ")\n",
    "control = np.array((optimizer.max[\"params\"][\"d2\"], optimizer.max[\"params\"][\"d3\"], optimizer.max[\"params\"][\"d4\"]))\n",
    "time_BO, profile_BO = l1_pump.forward_pass(control)\n",
    "profile_BO = np.roll(profile_BO, np.argmax(target_profile) - np.argmax(profile_BO))\n",
    "\n",
    "fig, ax = plt.subplots(figsize = (10, 8))\n",
    "ax.set_title(\"Pulse Optimization results\", fontsize = 12, fontweight = \"bold\")\n",
    "ax.plot(time_BO, profile_BO, label = \"Bayesian Optimization output\", lw = 4)\n",
    "ax.scatter(time_BO, target_profile, label = \"Target Pulse\", c = \"tab:grey\", marker = \"x\", s = 50)\n",
    "ax.scatter(linear_opt_time, np.roll(linear_opt_profile, \n",
    "                                    - linear_opt_profile.argmax() + target_profile.argmax()),\n",
    "           label = r\"$\\varphi_{stretcher} = - \\varphi_{compressor}$\", marker = \"o\", s = 25, c = \"k\")\n",
    "\n",
    "ax.set_xlabel(r\"Time (s)\", fontsize = 12); ax.set_ylabel(\"Intensity\", fontsize = 12)\n",
    "\n",
    "ax.legend(fontsize = 13)\n",
    "ax.set_xlim(left = -0.75e-11, right = +0.75e-11)\n",
    "fig.tight_layout()\n",
    "plt.show()"
   ]
  },
  {
   "cell_type": "code",
   "execution_count": null,
   "id": "f73bdb36",
   "metadata": {
    "ExecuteTime": {
     "end_time": "2022-08-29T12:18:54.924864Z",
     "start_time": "2022-08-29T12:18:54.924841Z"
    }
   },
   "outputs": [],
   "source": [
    "loss1_pulse = profile_BO"
   ]
  },
  {
   "cell_type": "code",
   "execution_count": null,
   "id": "c5f0ab14",
   "metadata": {
    "ExecuteTime": {
     "end_time": "2022-08-29T12:18:54.930167Z",
     "start_time": "2022-08-29T12:18:54.930143Z"
    }
   },
   "outputs": [],
   "source": [
    "# loss-2\n",
    "def objective_function(d2, d3, d4): \n",
    "    tol = 1e-6 # zero tolerance\n",
    "    controlled_profile = temporal_profile(d2, d3, d4)\n",
    "    mask = (controlled_profile != target_profile) & (controlled_profile > tol)\n",
    "    \n",
    "    controlled_profile = controlled_profile[mask]\n",
    "    target = target_profile[mask]\n",
    "    \n",
    "    return -1 * ((controlled_profile - target)**2).mean()"
   ]
  },
  {
   "cell_type": "code",
   "execution_count": null,
   "id": "825bebb0",
   "metadata": {
    "ExecuteTime": {
     "end_time": "2022-08-29T12:18:54.933268Z",
     "start_time": "2022-08-29T12:18:54.933245Z"
    },
    "scrolled": false
   },
   "outputs": [],
   "source": [
    "optimizer = BayesianOptimization(\n",
    "    f=objective_function,\n",
    "    pbounds=pbounds,\n",
    "    verbose=1, # verbose = 1 prints only when a maximum is observed, verbose = 0 is silent\n",
    "    random_state=10, # for reproducibility\n",
    ")\n",
    "\n",
    "# these are the actual hyperparameters of the optimization process\n",
    "# n_init, n_iter = 150, 200\n",
    "\n",
    "optimizer.maximize(\n",
    "    init_points=n_init,\n",
    "    n_iter=n_iter,\n",
    ")"
   ]
  },
  {
   "cell_type": "code",
   "execution_count": null,
   "id": "a83e1e43",
   "metadata": {
    "ExecuteTime": {
     "end_time": "2022-08-29T12:18:54.936092Z",
     "start_time": "2022-08-29T12:18:54.936070Z"
    }
   },
   "outputs": [],
   "source": [
    "# plotting the result obtained with Bayesian Optimization\n",
    "optimald2, optimald3, optimald4 = optimizer.max[\"params\"][\"d2\"], optimizer.max[\"params\"][\"d3\"], optimizer.max[\"params\"][\"d4\"]\n",
    "\n",
    "optimal_control = (optimald2, optimald3, optimald4)\n",
    "# applying optimal control found\n",
    "time_BO, profile_BO = l1_pump.forward_pass(optimal_control)\n",
    "\n",
    "print(\"Final MSE between Control and Target: {:.4e}\".format(-1*objective_function(optimald2, optimald3, optimald4)))"
   ]
  },
  {
   "cell_type": "code",
   "execution_count": null,
   "id": "b2bbf4d4",
   "metadata": {
    "ExecuteTime": {
     "end_time": "2022-08-29T12:18:54.938645Z",
     "start_time": "2022-08-29T12:18:54.938624Z"
    }
   },
   "outputs": [],
   "source": [
    "# output if non-linearity was absent from the system \n",
    "linear_opt_time, linear_opt_profile = l1_pump.forward_pass(\n",
    "    control = l1_pump.translate_control(\n",
    "        -1*COMPRESSOR, verse = \"to_disp\"\n",
    "    )\n",
    ")\n",
    "control = np.array((optimizer.max[\"params\"][\"d2\"], optimizer.max[\"params\"][\"d3\"], optimizer.max[\"params\"][\"d4\"]))\n",
    "time_BO, profile_BO = l1_pump.forward_pass(control)\n",
    "profile_BO = np.roll(profile_BO, np.argmax(target_profile) - np.argmax(profile_BO))\n",
    "\n",
    "fig, ax = plt.subplots(figsize = (10, 8))\n",
    "ax.set_title(\"Pulse Optimization results\", fontsize = 12, fontweight = \"bold\")\n",
    "ax.plot(time_BO, profile_BO, label = \"Bayesian Optimization output\", lw = 4)\n",
    "ax.scatter(time_BO, target_profile, label = \"Target Pulse\", c = \"tab:grey\", marker = \"x\", s = 50)\n",
    "ax.scatter(linear_opt_time, np.roll(linear_opt_profile, \n",
    "                                    - linear_opt_profile.argmax() + target_profile.argmax()),\n",
    "           label = r\"$\\varphi_{stretcher} = - \\varphi_{compressor}$\", marker = \"o\", s = 25, c = \"k\")\n",
    "\n",
    "ax.set_xlabel(r\"Time (s)\", fontsize = 12); ax.set_ylabel(\"Intensity\", fontsize = 12)\n",
    "\n",
    "ax.legend(fontsize = 13)\n",
    "ax.set_xlim(left = -0.75e-11, right = +0.75e-11)\n",
    "fig.tight_layout()\n",
    "plt.show()"
   ]
  },
  {
   "cell_type": "code",
   "execution_count": null,
   "id": "60acb6fe",
   "metadata": {
    "ExecuteTime": {
     "end_time": "2022-08-29T12:18:54.941256Z",
     "start_time": "2022-08-29T12:18:54.941236Z"
    }
   },
   "outputs": [],
   "source": [
    "loss2_pulse = profile_BO"
   ]
  },
  {
   "cell_type": "code",
   "execution_count": null,
   "id": "080fea21",
   "metadata": {
    "ExecuteTime": {
     "end_time": "2022-08-29T12:18:54.944658Z",
     "start_time": "2022-08-29T12:18:54.944632Z"
    }
   },
   "outputs": [],
   "source": [
    "# loss-3\n",
    "def objective_function(d2, d3, d4): \n",
    "    tol = 1e-6 # zero tolerance\n",
    "    w1, w2 = 0.3, 0.7\n",
    "    controlled_profile = temporal_profile(d2, d3, d4)\n",
    "    mask = (controlled_profile != target_profile) & (controlled_profile > tol)\n",
    "    \n",
    "    controlled_profile = controlled_profile[mask]\n",
    "    target = target_profile[mask]\n",
    "    \n",
    "    return -1 * (w1 * ((controlled_profile - target)**2).mean() + w2 * (np.trapz(controlled_profile) - np.trapz(target)))"
   ]
  },
  {
   "cell_type": "code",
   "execution_count": null,
   "id": "af3d375f",
   "metadata": {
    "ExecuteTime": {
     "end_time": "2022-08-29T12:18:54.947106Z",
     "start_time": "2022-08-29T12:18:54.947085Z"
    }
   },
   "outputs": [],
   "source": [
    "optimizer = BayesianOptimization(\n",
    "    f=objective_function,\n",
    "    pbounds=pbounds,\n",
    "    verbose=1, # verbose = 1 prints only when a maximum is observed, verbose = 0 is silent\n",
    "    random_state=10, # for reproducibility\n",
    ")\n",
    "\n",
    "# these are the actual hyperparameters of the optimization process\n",
    "# n_init, n_iter = 150, 200\n",
    "\n",
    "optimizer.maximize(\n",
    "    init_points=n_init,\n",
    "    n_iter=n_iter,\n",
    ")"
   ]
  },
  {
   "cell_type": "code",
   "execution_count": null,
   "id": "d6bcf14a",
   "metadata": {
    "ExecuteTime": {
     "end_time": "2022-08-29T12:18:54.950285Z",
     "start_time": "2022-08-29T12:18:54.950261Z"
    }
   },
   "outputs": [],
   "source": [
    "# plotting the result obtained with Bayesian Optimization\n",
    "optimald2, optimald3, optimald4 = optimizer.max[\"params\"][\"d2\"], optimizer.max[\"params\"][\"d3\"], optimizer.max[\"params\"][\"d4\"]\n",
    "\n",
    "optimal_control = (optimald2, optimald3, optimald4)\n",
    "# applying optimal control found\n",
    "time_BO, profile_BO = l1_pump.forward_pass(optimal_control)\n",
    "\n",
    "print(\"Final MSE between Control and Target: {:.4e}\".format(-1*objective_function(optimald2, optimald3, optimald4)))"
   ]
  },
  {
   "cell_type": "code",
   "execution_count": null,
   "id": "c1953b9d",
   "metadata": {
    "ExecuteTime": {
     "end_time": "2022-08-29T12:18:54.954334Z",
     "start_time": "2022-08-29T12:18:54.954311Z"
    }
   },
   "outputs": [],
   "source": [
    "# output if non-linearity was absent from the system \n",
    "linear_opt_time, linear_opt_profile = l1_pump.forward_pass(\n",
    "    control = l1_pump.translate_control(\n",
    "        -1*COMPRESSOR, verse = \"to_disp\"\n",
    "    )\n",
    ")\n",
    "control = np.array((optimizer.max[\"params\"][\"d2\"], optimizer.max[\"params\"][\"d3\"], optimizer.max[\"params\"][\"d4\"]))\n",
    "time_BO, profile_BO = l1_pump.forward_pass(control)\n",
    "profile_BO = np.roll(profile_BO, np.argmax(target_profile) - np.argmax(profile_BO))\n",
    "\n",
    "fig, ax = plt.subplots(figsize = (10, 8))\n",
    "ax.set_title(\"Pulse Optimization results\", fontsize = 12, fontweight = \"bold\")\n",
    "ax.plot(time_BO, profile_BO, label = \"Bayesian Optimization output\", lw = 4)\n",
    "ax.scatter(time_BO, target_profile, label = \"Target Pulse\", c = \"tab:grey\", marker = \"x\", s = 50)\n",
    "\n",
    "ax.scatter(linear_opt_time, np.roll(linear_opt_profile, \n",
    "                                    - linear_opt_profile.argmax() + target_profile.argmax()),\n",
    "           label = r\"$\\varphi_{stretcher} = - \\varphi_{compressor}$\", marker = \"o\", s = 25, c = \"k\")\n",
    "\n",
    "ax.set_xlabel(r\"Time (s)\", fontsize = 12); ax.set_ylabel(\"Intensity\", fontsize = 12)\n",
    "\n",
    "ax.legend(fontsize = 13)\n",
    "ax.set_xlim(left = -0.75e-11, right = +0.75e-11)\n",
    "fig.tight_layout()\n",
    "plt.show()"
   ]
  },
  {
   "cell_type": "code",
   "execution_count": null,
   "id": "6e0b875c",
   "metadata": {
    "ExecuteTime": {
     "end_time": "2022-08-29T12:18:54.970994Z",
     "start_time": "2022-08-29T12:18:54.970966Z"
    }
   },
   "outputs": [],
   "source": [
    "loss3_pulse = profile_BO"
   ]
  },
  {
   "cell_type": "code",
   "execution_count": null,
   "id": "29c3d97e",
   "metadata": {
    "ExecuteTime": {
     "end_time": "2022-08-29T12:18:54.975808Z",
     "start_time": "2022-08-29T12:18:54.975785Z"
    }
   },
   "outputs": [],
   "source": [
    "from scipy.signal import find_peaks, peak_widths\n",
    "# loss-4\n",
    "def objective_function(d2, d3, d4): \n",
    "    tol = 1e-6 # zero tolerance\n",
    "    w1, w2 = 0.3, 0.7\n",
    "    controlled_profile = temporal_profile(d2, d3, d4)\n",
    "    mask = (controlled_profile != target_profile) & (controlled_profile > tol)\n",
    "    \n",
    "    controlled_profile = controlled_profile[mask]\n",
    "    target = target_profile[mask]\n",
    "    \n",
    "    control_peaks, _ = find_peaks(controlled_profile, height = (0.1, None))\n",
    "    target_peaks, _ = find_peaks(target, height = (0.1, None))\n",
    "    \n",
    "    control_width = peak_widths(controlled_profile, control_peaks)[0]\n",
    "    target_width = peak_widths(target, target_peaks)[0]\n",
    "    \n",
    "    mse_part = ((controlled_profile - target)**2).mean() \n",
    "    peak_part = (target_width.sum() - control_width.sum())**2\n",
    "    return -1 * (w1 * mse_part + w2 * peak_part)"
   ]
  },
  {
   "cell_type": "code",
   "execution_count": null,
   "id": "935d46c5",
   "metadata": {
    "ExecuteTime": {
     "end_time": "2022-08-29T12:18:54.978597Z",
     "start_time": "2022-08-29T12:18:54.978557Z"
    }
   },
   "outputs": [],
   "source": [
    "optimizer = BayesianOptimization(\n",
    "    f=objective_function,\n",
    "    pbounds=pbounds,\n",
    "    verbose=1, # verbose = 1 prints only when a maximum is observed, verbose = 0 is silent\n",
    "    random_state=10, # for reproducibility\n",
    ")\n",
    "\n",
    "# these are the actual hyperparameters of the optimization process\n",
    "# n_init, n_iter = 150, 200\n",
    "\n",
    "optimizer.maximize(\n",
    "    init_points=n_init,\n",
    "    n_iter=n_iter,\n",
    ")"
   ]
  },
  {
   "cell_type": "code",
   "execution_count": null,
   "id": "61b44267",
   "metadata": {
    "ExecuteTime": {
     "end_time": "2022-08-29T12:18:54.981623Z",
     "start_time": "2022-08-29T12:18:54.981605Z"
    }
   },
   "outputs": [],
   "source": [
    "# plotting the result obtained with Bayesian Optimization\n",
    "optimald2, optimald3, optimald4 = optimizer.max[\"params\"][\"d2\"], optimizer.max[\"params\"][\"d3\"], optimizer.max[\"params\"][\"d4\"]\n",
    "\n",
    "optimal_control = (optimald2, optimald3, optimald4)\n",
    "# applying optimal control found\n",
    "time_BO, profile_BO = l1_pump.forward_pass(optimal_control)\n",
    "\n",
    "print(\"Final MSE between Control and Target: {:.4e}\".format(-1*objective_function(optimald2, optimald3, optimald4)))"
   ]
  },
  {
   "cell_type": "code",
   "execution_count": null,
   "id": "2f6baa63",
   "metadata": {
    "ExecuteTime": {
     "end_time": "2022-08-29T12:18:54.983914Z",
     "start_time": "2022-08-29T12:18:54.983893Z"
    }
   },
   "outputs": [],
   "source": [
    "# output if non-linearity was absent from the system \n",
    "linear_opt_time, linear_opt_profile = l1_pump.forward_pass(\n",
    "    control = l1_pump.translate_control(\n",
    "        -1*COMPRESSOR, verse = \"to_disp\"\n",
    "    )\n",
    ")\n",
    "control = np.array((optimizer.max[\"params\"][\"d2\"], optimizer.max[\"params\"][\"d3\"], optimizer.max[\"params\"][\"d4\"]))\n",
    "time_BO, profile_BO = l1_pump.forward_pass(control)\n",
    "profile_BO = np.roll(profile_BO, np.argmax(target_profile) - np.argmax(profile_BO))\n",
    "\n",
    "fig, ax = plt.subplots(figsize = (10, 8))\n",
    "ax.set_title(\"Pulse Optimization results\", fontsize = 12, fontweight = \"bold\")\n",
    "ax.plot(time_BO, profile_BO, label = \"Bayesian Optimization output\", lw = 4)\n",
    "ax.scatter(time_BO, target_profile, label = \"Target Pulse\", c = \"tab:grey\", marker = \"x\", s = 50)\n",
    "\n",
    "ax.scatter(linear_opt_time, np.roll(linear_opt_profile, \n",
    "                                    - linear_opt_profile.argmax() + target_profile.argmax()),\n",
    "           label = r\"$\\varphi_{stretcher} = - \\varphi_{compressor}$\", marker = \"o\", s = 25, c = \"k\")\n",
    "\n",
    "ax.set_xlabel(r\"Time (s)\", fontsize = 12); ax.set_ylabel(\"Intensity\", fontsize = 12)\n",
    "\n",
    "ax.legend(fontsize = 13)\n",
    "ax.set_xlim(left = -0.75e-11, right = +0.75e-11)\n",
    "fig.tight_layout()\n",
    "plt.show()"
   ]
  },
  {
   "cell_type": "code",
   "execution_count": null,
   "id": "8c044660",
   "metadata": {
    "ExecuteTime": {
     "end_time": "2022-08-29T12:18:54.986603Z",
     "start_time": "2022-08-29T12:18:54.986580Z"
    }
   },
   "outputs": [],
   "source": [
    "loss4_pulse = profile_BO"
   ]
  },
  {
   "cell_type": "code",
   "execution_count": null,
   "id": "27e5d9d0",
   "metadata": {
    "ExecuteTime": {
     "end_time": "2022-08-29T12:18:54.989205Z",
     "start_time": "2022-08-29T12:18:54.989189Z"
    }
   },
   "outputs": [],
   "source": [
    "# loss-5\n",
    "from scipy.interpolate import UnivariateSpline\n",
    "\n",
    "target_time, target_profile = physics.temporal_profile(frequency_clean, physics.amplification(frequency_clean, intensity_clean),\n",
    "                                             phase = np.zeros_like(frequency_clean),\n",
    "                                             npoints_pad = l1_pump.pad_points)\n",
    "\n",
    "def objective_function(d2, d3, d4): \n",
    "    tol = 1e-6 # zero tolerance\n",
    "    w1, w2 = 0.1, 0.9\n",
    "    controlled_time, controlled_profile = l1_pump.forward_pass(np.array((d2, d3, d4)))\n",
    "    \n",
    "    control_roots = UnivariateSpline(\n",
    "        x = controlled_time, y = controlled_profile - (controlled_profile.max()/2), s = 0\n",
    "    ).roots()\n",
    "        \n",
    "    control_FWHM = np.abs(control_roots[0] - control_roots[-1])\n",
    "    target_FWHM = np.diff(UnivariateSpline(\n",
    "        x = target_time, y = target_profile - (target_profile.max()/2), s = 0\n",
    "    ).roots())\n",
    "    \n",
    "    mask = (controlled_profile != target_profile) & (controlled_profile > tol)\n",
    "    \n",
    "    controlled_profile = controlled_profile[mask]\n",
    "    target = target_profile[mask]\n",
    "    \n",
    "    shape_part = ((controlled_profile - target)**2).mean()\n",
    "    FWHM_part = np.abs((control_FWHM - target_FWHM).item())\n",
    "    \n",
    "    return -1 * (w1 * shape_part + w2 * FWHM_part)"
   ]
  },
  {
   "cell_type": "code",
   "execution_count": null,
   "id": "9645a603",
   "metadata": {
    "ExecuteTime": {
     "end_time": "2022-08-29T12:18:54.991480Z",
     "start_time": "2022-08-29T12:18:54.991449Z"
    }
   },
   "outputs": [],
   "source": [
    "optimizer = BayesianOptimization(\n",
    "    f=objective_function,\n",
    "    pbounds=pbounds,\n",
    "    verbose=1, # verbose = 1 prints only when a maximum is observed, verbose = 0 is silent\n",
    "    random_state=10, # for reproducibility\n",
    ")\n",
    "\n",
    "optimizer.maximize(\n",
    "    init_points=n_init,\n",
    "    n_iter=n_iter,\n",
    ")"
   ]
  },
  {
   "cell_type": "code",
   "execution_count": null,
   "id": "a797aa62",
   "metadata": {
    "ExecuteTime": {
     "end_time": "2022-08-29T12:18:54.993408Z",
     "start_time": "2022-08-29T12:18:54.993358Z"
    }
   },
   "outputs": [],
   "source": [
    "# plotting the result obtained with Bayesian Optimization\n",
    "optimald2, optimald3, optimald4 = optimizer.max[\"params\"][\"d2\"], optimizer.max[\"params\"][\"d3\"], optimizer.max[\"params\"][\"d4\"]\n",
    "\n",
    "optimal_control = (optimald2, optimald3, optimald4)\n",
    "# applying optimal control found\n",
    "time_BO, profile_BO = l1_pump.forward_pass(optimal_control)\n",
    "\n",
    "print(\"Final MSE between Control and Target: {:.4e}\".format(-1*objective_function(optimald2, optimald3, optimald4)))"
   ]
  },
  {
   "cell_type": "code",
   "execution_count": null,
   "id": "d25eab0a",
   "metadata": {
    "ExecuteTime": {
     "end_time": "2022-08-29T12:18:54.995829Z",
     "start_time": "2022-08-29T12:18:54.995808Z"
    }
   },
   "outputs": [],
   "source": [
    "# output if non-linearity was absent from the system \n",
    "linear_opt_time, linear_opt_profile = l1_pump.forward_pass(\n",
    "    control = l1_pump.translate_control(\n",
    "        -1*COMPRESSOR, verse = \"to_disp\"\n",
    "    )\n",
    ")\n",
    "control = np.array((optimizer.max[\"params\"][\"d2\"], optimizer.max[\"params\"][\"d3\"], optimizer.max[\"params\"][\"d4\"]))\n",
    "time_BO, profile_BO = l1_pump.forward_pass(control)\n",
    "profile_BO = np.roll(profile_BO, np.argmax(target_profile) - np.argmax(profile_BO))\n",
    "\n",
    "fig, ax = plt.subplots(figsize = (10, 8))\n",
    "ax.set_title(\"Pulse Optimization results\", fontsize = 12, fontweight = \"bold\")\n",
    "ax.plot(time_BO, profile_BO, label = \"Bayesian Optimization output\", lw = 4)\n",
    "ax.scatter(time_BO, target_profile, label = \"Target Pulse\", c = \"tab:grey\", marker = \"x\", s = 50)\n",
    "\n",
    "ax.scatter(linear_opt_time, np.roll(linear_opt_profile, \n",
    "                                    - linear_opt_profile.argmax() + target_profile.argmax()),\n",
    "           label = r\"$\\varphi_{stretcher} = - \\varphi_{compressor}$\", marker = \"o\", s = 25, c = \"k\")\n",
    "\n",
    "ax.set_xlabel(r\"Time (s)\", fontsize = 12); ax.set_ylabel(\"Intensity\", fontsize = 12)\n",
    "\n",
    "ax.legend(fontsize = 13)\n",
    "ax.set_xlim(left = -0.75e-11, right = +0.75e-11)\n",
    "fig.tight_layout()\n",
    "plt.show()"
   ]
  },
  {
   "cell_type": "code",
   "execution_count": null,
   "id": "ab08596d",
   "metadata": {
    "ExecuteTime": {
     "end_time": "2022-08-29T12:18:54.998766Z",
     "start_time": "2022-08-29T12:18:54.998749Z"
    }
   },
   "outputs": [],
   "source": [
    "loss5_pulse = profile_BO"
   ]
  },
  {
   "cell_type": "code",
   "execution_count": null,
   "id": "ab977867",
   "metadata": {
    "ExecuteTime": {
     "end_time": "2022-08-29T12:18:55.001233Z",
     "start_time": "2022-08-29T12:18:55.001212Z"
    }
   },
   "outputs": [],
   "source": [
    "#loss-6\n",
    "def objective_function(d2, d3, d4): \n",
    "    tol = 1e-6 # zero tolerance\n",
    "    \n",
    "    controlled_profile = temporal_profile(d2, d3, d4)\n",
    "    mask = (controlled_profile != target_profile) & (controlled_profile > tol)\n",
    "    \n",
    "    controlled_profile = controlled_profile[mask]\n",
    "    target = target_profile[mask]\n",
    "    \n",
    "    return -1 * (np.abs(controlled_profile - target)).sum()"
   ]
  },
  {
   "cell_type": "code",
   "execution_count": null,
   "id": "855da7f3",
   "metadata": {
    "ExecuteTime": {
     "end_time": "2022-08-29T12:18:55.002956Z",
     "start_time": "2022-08-29T12:18:55.002936Z"
    }
   },
   "outputs": [],
   "source": [
    "optimizer = BayesianOptimization(\n",
    "    f=objective_function,\n",
    "    pbounds=pbounds,\n",
    "    verbose=1, # verbose = 1 prints only when a maximum is observed, verbose = 0 is silent\n",
    "    random_state=10, # for reproducibility\n",
    ")\n",
    "\n",
    "# these are the actual hyperparameters of the optimization process\n",
    "# n_init, n_iter = 150, 200\n",
    "\n",
    "optimizer.maximize(\n",
    "    init_points=n_init,\n",
    "    n_iter=n_iter,\n",
    ")"
   ]
  },
  {
   "cell_type": "code",
   "execution_count": null,
   "id": "2e67823b",
   "metadata": {
    "ExecuteTime": {
     "end_time": "2022-08-29T12:18:55.005131Z",
     "start_time": "2022-08-29T12:18:55.005092Z"
    }
   },
   "outputs": [],
   "source": [
    "# plotting the result obtained with Bayesian Optimization\n",
    "optimald2, optimald3, optimald4 = optimizer.max[\"params\"][\"d2\"], optimizer.max[\"params\"][\"d3\"], optimizer.max[\"params\"][\"d4\"]\n",
    "\n",
    "optimal_control = (optimald2, optimald3, optimald4)\n",
    "# applying optimal control found\n",
    "time_BO, profile_BO = l1_pump.forward_pass(optimal_control)\n",
    "\n",
    "print(\"Final MSE between Control and Target: {:.4e}\".format(-1*objective_function(optimald2, optimald3, optimald4)))"
   ]
  },
  {
   "cell_type": "code",
   "execution_count": null,
   "id": "1526d23d",
   "metadata": {
    "ExecuteTime": {
     "end_time": "2022-08-29T12:18:55.008513Z",
     "start_time": "2022-08-29T12:18:55.008487Z"
    }
   },
   "outputs": [],
   "source": [
    "# output if non-linearity was absent from the system \n",
    "linear_opt_time, linear_opt_profile = l1_pump.forward_pass(\n",
    "    control = l1_pump.translate_control(\n",
    "        -1*COMPRESSOR, verse = \"to_disp\"\n",
    "    )\n",
    ")\n",
    "control = np.array((optimizer.max[\"params\"][\"d2\"], optimizer.max[\"params\"][\"d3\"], optimizer.max[\"params\"][\"d4\"]))\n",
    "time_BO, profile_BO = l1_pump.forward_pass(control)\n",
    "profile_BO = np.roll(profile_BO, np.argmax(target_profile) - np.argmax(profile_BO))\n",
    "\n",
    "fig, ax = plt.subplots(figsize = (10, 8))\n",
    "ax.set_title(\"Pulse Optimization results\", fontsize = 12, fontweight = \"bold\")\n",
    "ax.plot(time_BO, profile_BO, label = \"Bayesian Optimization output\", lw = 4)\n",
    "ax.scatter(time_BO, target_profile, label = \"Target Pulse\", c = \"tab:grey\", marker = \"x\", s = 50)\n",
    "\n",
    "ax.scatter(linear_opt_time, np.roll(linear_opt_profile, \n",
    "                                    - linear_opt_profile.argmax() + target_profile.argmax()),\n",
    "           label = r\"$\\varphi_{stretcher} = - \\varphi_{compressor}$\", marker = \"o\", s = 25, c = \"k\")\n",
    "\n",
    "ax.set_xlabel(r\"Time (s)\", fontsize = 12); ax.set_ylabel(\"Intensity\", fontsize = 12)\n",
    "\n",
    "ax.legend(fontsize = 13)\n",
    "ax.set_xlim(left = -0.75e-11, right = +0.75e-11)\n",
    "fig.tight_layout()\n",
    "plt.show()"
   ]
  },
  {
   "cell_type": "code",
   "execution_count": null,
   "id": "1ba9258a",
   "metadata": {
    "ExecuteTime": {
     "end_time": "2022-08-29T12:18:55.010592Z",
     "start_time": "2022-08-29T12:18:55.010571Z"
    }
   },
   "outputs": [],
   "source": [
    "loss6_pulse = profile_BO"
   ]
  },
  {
   "cell_type": "markdown",
   "id": "c20792c8",
   "metadata": {},
   "source": [
    "The different loss functions have given different results."
   ]
  },
  {
   "cell_type": "code",
   "execution_count": null,
   "id": "12a26432",
   "metadata": {
    "ExecuteTime": {
     "end_time": "2022-08-29T12:18:55.013612Z",
     "start_time": "2022-08-29T12:18:55.013596Z"
    },
    "scrolled": false
   },
   "outputs": [],
   "source": [
    "# final comparison\n",
    "fig, ax = plt.subplots(nrows = 3, ncols = 2, figsize = (10,8))\n",
    "\n",
    "ax[0,0].scatter(time_BO, target_profile, label = \"Target Pulse\", c = \"tab:grey\", marker = \"x\", s = 15)\n",
    "ax[0,0].plot(time_BO, np.roll(loss1_pulse, - loss1_pulse.argmax() + target_profile.argmax()), label = \"Loss1\", lw = 1.5)\n",
    "\n",
    "ax[1,0].scatter(time_BO, target_profile, label = \"Target Pulse\", c = \"tab:grey\", marker = \"x\", s = 15)\n",
    "ax[1,0].plot(time_BO, np.roll(loss2_pulse, - loss2_pulse.argmax() + target_profile.argmax()), label = \"Loss2\", lw = 1.5)\n",
    "\n",
    "ax[2,0].plot(time_BO, np.roll(loss3_pulse, - loss3_pulse.argmax() + target_profile.argmax()), label = \"Loss3\", lw = 1.5)\n",
    "ax[2,0].scatter(time_BO, target_profile, label = \"Target Pulse\", c = \"tab:grey\", marker = \"x\", s = 15)\n",
    "\n",
    "ax[0,1].scatter(time_BO, target_profile, label = \"Target Pulse\", c = \"tab:grey\", marker = \"x\", s = 15)\n",
    "ax[0,1].plot(time_BO, np.roll(loss4_pulse, - loss4_pulse.argmax() + target_profile.argmax()), label = \"Loss4\", lw = 1.5)\n",
    "\n",
    "ax[1,1].scatter(time_BO, target_profile, label = \"Target Pulse\", c = \"tab:grey\", marker = \"x\", s = 15)\n",
    "ax[1,1].plot(time_BO, np.roll(loss5_pulse, - loss5_pulse.argmax() + target_profile.argmax()), label = \"Loss5\", lw = 1.5)\n",
    "\n",
    "ax[2,1].plot(time_BO, np.roll(loss6_pulse, - loss6_pulse.argmax() + target_profile.argmax()), label = \"Loss6\", lw = 1.5)\n",
    "ax[2,1].scatter(time_BO, target_profile, label = \"Target Pulse\", c = \"tab:grey\", marker = \"x\", s = 15)\n",
    "\n",
    "fig.suptitle(\"Optimal pulse shape obtained with various loss functions\", fontweight = \"bold\", fontsize = 14)\n",
    "\n",
    "ax[0,0].set_xlabel(\"Time (s)\", fontsize = 13); ax[0,0].set_ylabel(\"Intensity\", fontsize = 13)\n",
    "ax[1,0].set_xlabel(\"Time (s)\", fontsize = 13); ax[1,0].set_ylabel(\"Intensity\", fontsize = 13)\n",
    "ax[2,0].set_xlabel(\"Time (s)\", fontsize = 13); ax[2,0].set_ylabel(\"Intensity\", fontsize = 13)\n",
    "ax[0,1].set_xlabel(\"Time (s)\", fontsize = 13); ax[0,1].set_ylabel(\"Intensity\", fontsize = 13)\n",
    "ax[1,1].set_xlabel(\"Time (s)\", fontsize = 13); ax[1,1].set_ylabel(\"Intensity\", fontsize = 13)\n",
    "ax[2,1].set_xlabel(\"Time (s)\", fontsize = 13); ax[2,1].set_ylabel(\"Intensity\", fontsize = 13)\n",
    "\n",
    "ax[0,0].legend();\n",
    "ax[1,0].legend();\n",
    "ax[2,0].legend();\n",
    "ax[0,1].legend();\n",
    "ax[1,1].legend();\n",
    "ax[2,1].legend();\n",
    "\n",
    "ax[0,0].set_xlim(left = -0.75e-11, right = +0.75e-11)\n",
    "ax[1,0].set_xlim(left = -0.75e-11, right = +0.75e-11)\n",
    "ax[2,0].set_xlim(left = -0.75e-11, right = +0.75e-11)\n",
    "ax[0,1].set_xlim(left = -0.75e-11, right = +0.75e-11)\n",
    "ax[1,1].set_xlim(left = -0.75e-11, right = +0.75e-11)\n",
    "ax[2,1].set_xlim(left = -0.75e-11, right = +0.75e-11)\n",
    "\n",
    "fig.tight_layout()\n",
    "\n",
    "plt.show()"
   ]
  },
  {
   "cell_type": "markdown",
   "id": "cb3810d4",
   "metadata": {},
   "source": [
    "None of the objective functions which have been tried out has shown to be good enough to stimulate convergence, so it is necessary to try out other approaches or (far more important) go on with a phase of hyper-parameter tuning for the optimizer once a promising objective function has been developed. \n",
    "\n",
    "The sixth loss function (L1-Manhattan Norm) has been proven to be the best one so far, so hyperparameter tuning will be studied on this very loss function. \n",
    "\n",
    "However, these experiments should be interpreted by the standpoint of the actual difficulty of defyning parts so relevant of the problem (such as the objective function, indeed). This is something that makes me doubt about the effectviness of these approaches (whose outcome heavily relies on human choices which are very likely to be suboptimal), and makes me think that, maybe, approaches based on *Reinforcement Learning* would serve the scope better."
   ]
  }
 ],
 "metadata": {
  "kernelspec": {
   "display_name": "Python 3 (ipykernel)",
   "language": "python",
   "name": "python3"
  },
  "language_info": {
   "codemirror_mode": {
    "name": "ipython",
    "version": 3
   },
   "file_extension": ".py",
   "mimetype": "text/x-python",
   "name": "python",
   "nbconvert_exporter": "python",
   "pygments_lexer": "ipython3",
   "version": "3.10.4"
  },
  "toc": {
   "base_numbering": 1,
   "nav_menu": {},
   "number_sections": true,
   "sideBar": true,
   "skip_h1_title": false,
   "title_cell": "Table of Contents",
   "title_sidebar": "Contents",
   "toc_cell": false,
   "toc_position": {},
   "toc_section_display": true,
   "toc_window_display": false
  },
  "varInspector": {
   "cols": {
    "lenName": 16,
    "lenType": 16,
    "lenVar": 40
   },
   "kernels_config": {
    "python": {
     "delete_cmd_postfix": "",
     "delete_cmd_prefix": "del ",
     "library": "var_list.py",
     "varRefreshCmd": "print(var_dic_list())"
    },
    "r": {
     "delete_cmd_postfix": ") ",
     "delete_cmd_prefix": "rm(",
     "library": "var_list.r",
     "varRefreshCmd": "cat(var_dic_list()) "
    }
   },
   "types_to_exclude": [
    "module",
    "function",
    "builtin_function_or_method",
    "instance",
    "_Feature"
   ],
   "window_display": false
  },
  "vscode": {
   "interpreter": {
    "hash": "773193afd421d13e2821ca6c0d96ad71b4047236f8e511868631cb854773b939"
   }
  }
 },
 "nbformat": 4,
 "nbformat_minor": 5
}
