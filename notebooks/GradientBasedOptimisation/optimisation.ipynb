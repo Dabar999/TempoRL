{
 "cells": [
  {
   "cell_type": "markdown",
   "id": "37896c37",
   "metadata": {},
   "source": [
    "This notebook presents an application semi-physical model of the L1 laser in its second version, based on PyTorch.\n",
    "In particular, in this notebook the optimization process of the control parameters is solved using such a model. \n",
    "\n",
    "Author: Francesco Capuano, 2022 S17 summer intern @ ELI-beamlines, Prague\n",
    "\n",
    "\n",
    "# Motivation\n",
    "\n",
    "The goal of this project is to maximise second-harmonic efficiency. However, since this metric is also very much related to the shortest possible pulse shape, we started with developing a strategy to optimise a predefinite set of control parameters so as to minimise the difference between the obtained pulse shape (in the temporal domain) and a target one (which, by default, is the shortest one typically). \n",
    "\n",
    "However, since data are really expensive to empirically collect we resorted to model the underlying dynamics of the whole system, also considering that (even if not exhaustive) there is a significant amount of know-how concerned with the considered dynamics available.\n",
    "\n",
    "After this model is obtained, it is possible to use it to obtain the desired control parameters."
   ]
  },
  {
   "cell_type": "code",
   "execution_count": 1,
   "id": "d19cdb86",
   "metadata": {
    "ExecuteTime": {
     "end_time": "2022-09-05T15:09:26.013885Z",
     "start_time": "2022-09-05T15:09:23.105669Z"
    }
   },
   "outputs": [],
   "source": [
    "import torch\n",
    "# these import are necessary to import modules from directories one level back in the folder structure\n",
    "import sys\n",
    "sys.path.append(\"../..\")\n",
    "from utils.se import get_project_root\n",
    "from algorithms.L1_BayesianOptimisation import extract_data\n",
    "import matplotlib.pyplot as plt\n",
    "from scipy.optimize import Bounds\n",
    "import numpy as np\n",
    "\n",
    "frequency, field = extract_data()"
   ]
  },
  {
   "cell_type": "markdown",
   "id": "246a9508",
   "metadata": {},
   "source": [
    "The preprocessing steps do not depend on the control parameters, therefore they can take place even in numpy"
   ]
  },
  {
   "cell_type": "code",
   "execution_count": 2,
   "id": "4001629e",
   "metadata": {
    "ExecuteTime": {
     "end_time": "2022-09-05T15:09:26.058918Z",
     "start_time": "2022-09-05T15:09:26.051471Z"
    }
   },
   "outputs": [],
   "source": [
    "# preprocessing steps\n",
    "from utils.physics import *\n",
    "# preprocessing\n",
    "cutoff = np.array((289.95, 291.91)) * 1e12\n",
    "# cutting off the signal\n",
    "frequency_clean, field_clean = cutoff_signal(frequency_cutoff = cutoff, frequency = frequency * 1e12,\n",
    "                                             signal = field)\n",
    "# augmenting the signal\n",
    "frequency_clean_aug, field_clean_aug = equidistant_points(frequency = frequency_clean,\n",
    "                                                          signal = field_clean,\n",
    "                                                          num_points = int(3e3)) # n_points defaults to 5e3\n",
    "# retrieving central carrier\n",
    "central_carrier = central_frequency(frequency = frequency_clean_aug, signal = field_clean_aug)"
   ]
  },
  {
   "cell_type": "markdown",
   "id": "a1c1fc9c",
   "metadata": {},
   "source": [
    "However, to be used in the Computational Laser model, their tensor version is required"
   ]
  },
  {
   "cell_type": "code",
   "execution_count": 3,
   "id": "7d9a6f51",
   "metadata": {
    "ExecuteTime": {
     "end_time": "2022-09-05T15:09:26.124475Z",
     "start_time": "2022-09-05T15:09:26.096717Z"
    }
   },
   "outputs": [],
   "source": [
    "from utils.LaserModel_torch import ComputationalLaser as CL\n",
    "\n",
    "intensity = torch.from_numpy(field ** 2)\n",
    "frequency, field = torch.from_numpy(frequency_clean_aug), torch.from_numpy(field_clean_aug)\n",
    "compressor_params = -1 * torch.tensor([267.422 * 1e-24, -2.384 * 1e-36, 9.54893 * 1e-50], dtype = torch.double)\n",
    "\n",
    "laser = CL(frequency = frequency * 1e-12, field = field, compressor_params = compressor_params)\n",
    "target_time, target_profile = laser.transform_limited()"
   ]
  },
  {
   "cell_type": "code",
   "execution_count": 4,
   "id": "e0860ee8",
   "metadata": {
    "ExecuteTime": {
     "end_time": "2022-09-05T15:09:26.183295Z",
     "start_time": "2022-09-05T15:09:26.175300Z"
    }
   },
   "outputs": [],
   "source": [
    "def L1Loss(GDD, TOD): \n",
    "    \"\"\"\n",
    "    This function computes the L1-Loss corresponding to a given value of GDD and TOD.\n",
    "    \"\"\"\n",
    "    control = torch.stack([GDD,TOD,torch.tensor(9.54893 * 1e-50)]).requires_grad_(True)\n",
    "    _, controlled_profile = laser.forward_pass(control)\n",
    "    return (torch.abs(controlled_profile - target_profile)).sum()"
   ]
  },
  {
   "cell_type": "code",
   "execution_count": 5,
   "id": "46086d0d",
   "metadata": {
    "ExecuteTime": {
     "end_time": "2022-09-05T15:09:27.383547Z",
     "start_time": "2022-09-05T15:09:27.377096Z"
    }
   },
   "outputs": [],
   "source": [
    "from scipy.optimize import Bounds\n",
    "bounds_control = Bounds(\n",
    "                    # GDD         # TOD          # FOD\n",
    "            lb = (2.3522e-22, -1.003635e-34, 4.774465e-50),\n",
    "            ub = (2.99624e-22, 9.55955e-35, 1.4323395e-49)\n",
    "        )\n",
    "\n",
    "first_two_lower, first_two_upper = bounds_control.lb[:2], bounds_control.ub[:2]\n",
    "bounds = torch.from_numpy(np.vstack((first_two_lower, first_two_upper)).T)\n",
    "\n",
    "nsteps = 1000\n",
    "GDD_linspace = torch.linspace(start = bounds[0,0], end = bounds[0,1], steps = nsteps)\n",
    "TOD_linspace = torch.linspace(start = bounds[1,0], end = bounds[1,1], steps = nsteps)\n",
    "GDD_mesh, TOD_mesh = torch.meshgrid(GDD_linspace, TOD_linspace, indexing = \"ij\")\n",
    "\n",
    "TL_grid = torch.empty(size = (nsteps, nsteps))"
   ]
  },
  {
   "cell_type": "code",
   "execution_count": 14,
   "id": "890ea9e3",
   "metadata": {
    "ExecuteTime": {
     "end_time": "2022-09-05T15:12:27.804888Z",
     "start_time": "2022-09-05T15:12:27.748187Z"
    },
    "code_folding": []
   },
   "outputs": [
    {
     "name": "stderr",
     "output_type": "stream",
     "text": [
      "100%|███████████████████████████████████████| 100/100 [00:00<00:00, 4601.29it/s]\n"
     ]
    }
   ],
   "source": [
    "# populating the mesh grid with values of L1 Loss per each combination of GDD and TOD considered\n",
    "combinations = []\n",
    "for i in tqdm(range(len(GDD_linspace))): \n",
    "    gdd = GDD_linspace[i]\n",
    "    for j in range(len(TOD_linspace)): \n",
    "        tod = TOD_linspace[j]\n",
    "        TL_grid[i,j] = L1Loss(gdd, tod)\n",
    "        combinations.append((gdd, tod))"
   ]
  },
  {
   "cell_type": "markdown",
   "id": "2577e00a",
   "metadata": {},
   "source": [
    "The objective function could also be plotted when considered as a function of **GDD** and **TOD** only."
   ]
  },
  {
   "cell_type": "code",
   "execution_count": null,
   "id": "59bd3df0",
   "metadata": {
    "ExecuteTime": {
     "end_time": "2022-09-05T14:49:52.309459Z",
     "start_time": "2022-09-05T14:49:51.532503Z"
    }
   },
   "outputs": [],
   "source": [
    "my_map = \"plasma\"\n",
    "fig = plt.figure()\n",
    "ax = plt.axes(projection='3d')\n",
    "\n",
    "ax.set_xlabel(r\"$GDD$\"); ax.set_ylabel(r\"$TOD$\"); ax.set_zlabel(\"L1-Norm of Error\")\n",
    "\n",
    "surf = ax.plot_surface(GDD_mesh.numpy(), TOD_mesh.numpy(), TL_grid.numpy(), cmap = my_map)\n",
    "\n",
    "ax.set_title(\"Objective Function Landscape\", fontweight = \"bold\")\n",
    "fig.colorbar(surf, shrink = 0.5)\n",
    "\n",
    "fig.tight_layout()\n",
    "plt.show()"
   ]
  },
  {
   "cell_type": "code",
   "execution_count": null,
   "id": "3b16ee0b",
   "metadata": {
    "ExecuteTime": {
     "end_time": "2022-09-05T14:49:52.608639Z",
     "start_time": "2022-09-05T14:49:52.312784Z"
    }
   },
   "outputs": [],
   "source": [
    "fig, ax = plt.subplots()\n",
    "\n",
    "cset = ax.contourf(\n",
    "    GDD_mesh.numpy(), \n",
    "    TOD_mesh.numpy(), \n",
    "    TL_grid.numpy(), \n",
    "    offset = TL_grid.numpy().min(),\n",
    "    cmap = my_map\n",
    ")\n",
    "\n",
    "fig.colorbar(cset)"
   ]
  },
  {
   "cell_type": "code",
   "execution_count": null,
   "id": "622d7883",
   "metadata": {
    "ExecuteTime": {
     "end_time": "2022-09-05T14:49:52.619828Z",
     "start_time": "2022-09-05T14:49:52.613246Z"
    }
   },
   "outputs": [],
   "source": [
    "def adagrad(\n",
    "    f,\n",
    "    x:torch.tensor,\n",
    "    eta_0:float=1.,\n",
    "    maxit:int=int(1e3),\n",
    "    tolgrad:float=1e-6,\n",
    "    eps:float=1e-6)->Tuple[torch.tensor, torch.tensor]:\n",
    "    \n",
    "    \"\"\"\n",
    "    This function implements ADAGRAD optimisation algorithm.\n",
    "    \"\"\"\n",
    "    k = 0\n",
    "    xk = x\n",
    "    # giving gradient to xk\n",
    "    f(xk).backward()\n",
    "    \n",
    "    points = torch.zeros(size = (maxit, len(x)))\n",
    "    grads = torch.zeros(maxit)\n",
    "    \n",
    "    grad_k = xk.grad\n",
    "    \n",
    "    sum_grad_squared = grad_k ** 2\n",
    "    lr = eta_0 / torch.sqrt(eps + sum_grad_squared)\n",
    "    \n",
    "    for k in (pbar := tqdm(range(maxit))): \n",
    "        # store & display information\n",
    "        points[k, :] = xk.detach()\n",
    "        grads[k] = norm(grad_k)\n",
    "        pbar.set_description(\"It. {} - Norm Grad {:4e}\".format(k+1, norm(grad_k)))\n",
    "        # update position      \n",
    "        xk = (xk - lr * grad_k).detach().requires_grad_(True)\n",
    "        # compute gradient at new position\n",
    "        f(xk).backward()\n",
    "        grad_k = xk.grad\n",
    "        # adapt learning rate\n",
    "        sum_grad_squared += grad_k ** 2\n",
    "        lr = eta_0 / torch.sqrt(eps + sum_grad_squared)\n",
    "        # reiterate (if not converged)\n",
    "        if norm(grad_k) <= tolgrad: \n",
    "            points = points[:, :k]\n",
    "            grads = grads[:k]\n",
    "            break\n",
    "        else: \n",
    "            k += 1\n",
    "            continue"
   ]
  },
  {
   "cell_type": "code",
   "execution_count": null,
   "id": "07615ee5",
   "metadata": {},
   "outputs": [],
   "source": []
  }
 ],
 "metadata": {
  "kernelspec": {
   "display_name": "Python 3 (ipykernel)",
   "language": "python",
   "name": "python3"
  },
  "language_info": {
   "codemirror_mode": {
    "name": "ipython",
    "version": 3
   },
   "file_extension": ".py",
   "mimetype": "text/x-python",
   "name": "python",
   "nbconvert_exporter": "python",
   "pygments_lexer": "ipython3",
   "version": "3.10.4"
  },
  "toc": {
   "base_numbering": 1,
   "nav_menu": {},
   "number_sections": true,
   "sideBar": true,
   "skip_h1_title": false,
   "title_cell": "Table of Contents",
   "title_sidebar": "Contents",
   "toc_cell": false,
   "toc_position": {},
   "toc_section_display": true,
   "toc_window_display": false
  },
  "varInspector": {
   "cols": {
    "lenName": 16,
    "lenType": 16,
    "lenVar": 40
   },
   "kernels_config": {
    "python": {
     "delete_cmd_postfix": "",
     "delete_cmd_prefix": "del ",
     "library": "var_list.py",
     "varRefreshCmd": "print(var_dic_list())"
    },
    "r": {
     "delete_cmd_postfix": ") ",
     "delete_cmd_prefix": "rm(",
     "library": "var_list.r",
     "varRefreshCmd": "cat(var_dic_list()) "
    }
   },
   "types_to_exclude": [
    "module",
    "function",
    "builtin_function_or_method",
    "instance",
    "_Feature"
   ],
   "window_display": false
  }
 },
 "nbformat": 4,
 "nbformat_minor": 5
}
