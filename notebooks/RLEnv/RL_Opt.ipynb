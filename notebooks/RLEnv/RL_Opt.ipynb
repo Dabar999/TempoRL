{
 "cells": [
  {
   "cell_type": "markdown",
   "id": "70bdf1f4-3cb3-47ee-b405-dcb50197a416",
   "metadata": {},
   "source": [
    "This notebook presents the Laser environment elaborated following the `gym` API developed to carry out pulse optimisation using Reinforcement Learning (RL).\n",
    "\n",
    "Author: Francesco Capuano, 2022 S17 summer intern @ ELI-beamlines, Prague"
   ]
  },
  {
   "cell_type": "code",
   "execution_count": 1,
   "id": "99c4631e-9837-420e-92a7-bae0bf11ff7a",
   "metadata": {},
   "outputs": [],
   "source": [
    "import sys\n",
    "import os\n",
    "sys.path.append(os.path.abspath('../..'))\n",
    "# importing the custom environment\n",
    "from environment.laser_env import LaserEnv\n",
    "from environment.env_utils.LaserModel_wrapper import *"
   ]
  },
  {
   "cell_type": "markdown",
   "id": "a5c17481-b2e9-440d-a37e-5bfa2c277e6d",
   "metadata": {},
   "source": [
    "The `LaserEnv` environment is defined as a wrapper around two main components presented in this repo: \n",
    "\n",
    "1. `LaserModel_torch`\n",
    "\n",
    "2. `PulseEmbedder`\n",
    "\n",
    "In particular, the object `LaserModel_wrapper` combines these two objects to obtain something which can be used in a reliable way as environment for RL agents.\n",
    "In the following cell, this environment is used to train a PPO agent to perform the considered task."
   ]
  },
  {
   "cell_type": "code",
   "execution_count": 2,
   "id": "02892e2c-6038-4f0e-b237-2b9f9f85582d",
   "metadata": {},
   "outputs": [],
   "source": [
    "from stable_baselines3 import PPO\n",
    "\n",
    "env = LaserEnv()\n",
    "model_PPO = PPO(\"MlpPolicy\", env, verbose=2)\n",
    "model_PPO.learn(total_timesteps=int(5e4))\n",
    "\n",
    "model_PPO.save(\"model_Sep20\")"
   ]
  }
 ],
 "metadata": {
  "kernelspec": {
   "display_name": "Python 3 (ipykernel)",
   "language": "python",
   "name": "python3"
  },
  "language_info": {
   "codemirror_mode": {
    "name": "ipython",
    "version": 3
   },
   "file_extension": ".py",
   "mimetype": "text/x-python",
   "name": "python",
   "nbconvert_exporter": "python",
   "pygments_lexer": "ipython3",
   "version": "3.10.4"
  }
 },
 "nbformat": 4,
 "nbformat_minor": 5
}
