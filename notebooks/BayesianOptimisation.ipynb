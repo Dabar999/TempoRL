{
 "cells": [
  {
   "cell_type": "markdown",
   "id": "3a017ecd",
   "metadata": {},
   "source": [
    "This notebook presents the appplication of Bayesian Optimisation to the problem of optimally controlling the \n",
    "stretcher parameters of the L1 pump Laser.\n",
    "\n",
    "Author: Francesco Capuano, 2022 S17 summer intern @ ELI-beamlines, Prague"
   ]
  },
  {
   "cell_type": "markdown",
   "id": "e4bcd5b9",
   "metadata": {},
   "source": [
    "# Setting\n",
    "The goal of this project is to maximise second-harmonic efficiency. \n",
    "\n",
    "However, since this metric is also very much related to the shortest possible pulse shape, we developed a strategy to optimise a predefinite set of control parameters so as to minimise the difference between the obtained pulse shape (in the temporal domain) and a target one (which is, by default, the shortest one).\n",
    "\n",
    "This process is very much intensive for what concerns the number of function evaluation we needed to use and, because of that, we resorted to use a custom-built fast-running forward model used to approximate/predict the temporal  profile of the pulse given a set of parameters. \n",
    "\n",
    "In particular, if one indicates with $\\psi = \\big( d_1, d_2, d_3 \\big)$ the control configuration of the stretcher and with $E(\\nu)$ the electric field in the frequency domain of the signal considered, then the fast running model we developed approximates $ \\tilde{\\tau}(\\psi; E(\\nu)) $, hopefully similar enough to the actual ${\\tau}(\\psi; E(\\nu))$ that can be collected only through practical observation on the real hardware. \n",
    "\n",
    "If one has a target temporal profile $\\tau^*$ of the pulse then it the problem can be framed as: \n",
    "\n",
    "$$\\min_{\\psi} L\\big[ \\tilde{\\tau}(\\psi; E(\\nu)), \\tau^*\\big]$$\n",
    "\n",
    "With $L$ being some sort of loss function. \n",
    "\n",
    "The solution of this problem can be obtained, in principle, using Bayesian Optimisation. In this notebook, this is the approach that is tried out. \n",
    "\n",
    "Clearly enough, the solution to this problem  depends on the Loss function being used. "
   ]
  },
  {
   "cell_type": "code",
   "execution_count": 1,
   "id": "a0d044f0",
   "metadata": {},
   "outputs": [],
   "source": [
    "# these imports are necessary to import modules from directories one level back in the folder structure\n",
    "import sys\n",
    "sys.path.append(\"..\")\n",
    "\n",
    "from algorithms.L1_BayesianOptimisation import *\n",
    "from utils import physics"
   ]
  },
  {
   "cell_type": "code",
   "execution_count": 2,
   "id": "3e79a154",
   "metadata": {},
   "outputs": [
    {
     "name": "stdout",
     "output_type": "stream",
     "text": [
      "/Users/francescocapuano/Dropbox (Politecnico Di Torino Studenti)/Mac/Desktop/ELI/ELIopt/data/L1_pump_spectrum.csv\n"
     ]
    }
   ],
   "source": [
    "frequency, intensity = extract_data() # extracting the desired information\n",
    "\n",
    "# compressor parameters - obtained as minus the stretcher one - TO BE FIXED WITH REAL ONES ONCE THEY ARE AVAILABLE\n",
    "COMPRESSOR = -1 * np.array((267.422 * 1e-24, -2.384 * 1e-36, 9.54893 * 1e-50)) # in s^2, s^3 and s^4 (SI units)\n",
    "# non linearity parameter\n",
    "B = 2\n",
    "# cutoff frequencies, in THz, used to remove noise - derived from visual inspection\n",
    "CUTOFF = (289.95, 291.91)\n",
    "# model instantiation\n",
    "l1_pump = model(frequency, intensity, COMPRESSOR, B, CUTOFF, num_points=int(5e3))\n",
    "# pre-processed version of frequency and intensity\n",
    "frequency_clean, intensity_clean = l1_pump.spit_center()\n",
    "\n",
    "# target temporal profile shape\n",
    "_, target_profile = physics.temporal_profile(frequency_clean, np.sqrt(intensity_clean),\n",
    "                                             phase = np.zeros_like(frequency_clean),\n",
    "                                             npoints_pad = l1_pump.pad_points)\n",
    "\n",
    "temporal_profile = lambda d2, d3, d4: l1_pump.forward_pass(np.array((d2, d3, d4)))[1]\n",
    "objective_function = lambda d2, d3, d4: -1 * physics.mse(temporal_profile(d2, d3, d4), target_profile)"
   ]
  },
  {
   "cell_type": "markdown",
   "id": "c49a1280",
   "metadata": {},
   "source": [
    "The bounds of the optimisation process are defined considering that: \n",
    "\n",
    "1. The value of GDD is tunable only in a region which is a little bit more than $\\pm$ 10% of its nominal value.\n",
    "\n",
    "2. TOD is tunable practically without limits in the case in which the bounds are defined using percentages of the nominal values. \n",
    "\n",
    "3. FOD is tunable practically without limits in the case in which the bounds are defined using percentages of the nomnal values. "
   ]
  },
  {
   "cell_type": "code",
   "execution_count": 3,
   "id": "5611499e",
   "metadata": {},
   "outputs": [],
   "source": [
    "GDDperc, TODperc, FODperc = 0.1, 0.2, 0.3\n",
    "# stretcher control bounds are centered in the compressor bounds and have a width related to a given percentage\n",
    "# (which can be though of as an hyperparameter as long as it is in the tunable interval)\n",
    "\n",
    "low_stretcher, high_stretcher = (-1 * COMPRESSOR * np.array((1 - GDDperc, 1 - TODperc, 1 - FODperc)), \n",
    "                                 -1 * COMPRESSOR * np.array((1 + GDDperc, 1 + TODperc, 1 + FODperc))\n",
    "                                )\n",
    "\n",
    "# stretcher control must be given in terms of dispersion coefficients so they must be translated into d2, d3 and d4. \n",
    "low_stretcher, high_stretcher = (l1_pump.translate_control(low_stretcher, verse = \"to_disp\"),\n",
    "                                 l1_pump.translate_control(high_stretcher, verse = \"to_disp\")\n",
    "                                )\n",
    "\n",
    "# these are the bounds for the parameter currently optimized - sign can change so sorting is used\n",
    "pbounds = {\n",
    "    \"d2\": np.sort((low_stretcher[0], high_stretcher[0])), \n",
    "    \"d3\": np.sort((low_stretcher[1], high_stretcher[1])), \n",
    "    \"d4\": np.sort((low_stretcher[2], high_stretcher[2]))\n",
    "}"
   ]
  },
  {
   "cell_type": "code",
   "execution_count": 4,
   "id": "62b65582",
   "metadata": {},
   "outputs": [
    {
     "name": "stdout",
     "output_type": "stream",
     "text": [
      "|   iter    |  target   |    d2     |    d3     |    d4     |\n",
      "-------------------------------------------------------------\n",
      "| \u001b[95m 2       \u001b[0m | \u001b[95m-0.008716\u001b[0m | \u001b[95m-0.4505  \u001b[0m | \u001b[95m-6.578e+0\u001b[0m | \u001b[95m-5.744e+1\u001b[0m |\n",
      "| \u001b[95m 3       \u001b[0m | \u001b[95m-0.004994\u001b[0m | \u001b[95m-0.5027  \u001b[0m | \u001b[95m-5.841e+0\u001b[0m | \u001b[95m-5.912e+1\u001b[0m |\n",
      "| \u001b[95m 6       \u001b[0m | \u001b[95m-0.004145\u001b[0m | \u001b[95m-0.4634  \u001b[0m | \u001b[95m-5.95e+06\u001b[0m | \u001b[95m-5.541e+1\u001b[0m |\n",
      "| \u001b[95m 9       \u001b[0m | \u001b[95m-0.000605\u001b[0m | \u001b[95m-0.4796  \u001b[0m | \u001b[95m-6.759e+0\u001b[0m | \u001b[95m-4.556e+1\u001b[0m |\n",
      "| \u001b[95m 16      \u001b[0m | \u001b[95m-0.000276\u001b[0m | \u001b[95m-0.4746  \u001b[0m | \u001b[95m-7.896e+0\u001b[0m | \u001b[95m-4.477e+1\u001b[0m |\n",
      "=============================================================\n"
     ]
    }
   ],
   "source": [
    "optimizer = BayesianOptimization(\n",
    "    f=objective_function,\n",
    "    pbounds=pbounds,\n",
    "    verbose=1, # verbose = 1 prints only when a maximum is observed, verbose = 0 is silent\n",
    "    random_state=10, # for reproducibility\n",
    ")\n",
    "\n",
    "# these are the actual hyperparameters of the optimization process\n",
    "n_init, n_iter = 100, 400\n",
    "\n",
    "optimizer.maximize(\n",
    "    init_points=n_init,\n",
    "    n_iter=n_iter,\n",
    ")"
   ]
  },
  {
   "cell_type": "code",
   "execution_count": null,
   "id": "6ab7faac",
   "metadata": {
    "scrolled": true
   },
   "outputs": [],
   "source": [
    "# plotting the result obtained with Bayesian Optimization\n",
    "optimald2, optimald3, optimald4 = optimizer.max[\"params\"][\"d2\"], optimizer.max[\"params\"][\"d3\"], optimizer.max[\"params\"][\"d4\"]\n",
    "\n",
    "optimal_control = (optimald2, optimald3, optimald4)\n",
    "# applying optimal control found\n",
    "time_BO, profile_BO = l1_pump.forward_pass(optimal_control)\n",
    "\n",
    "print(\"Final MSE between Control and Target: {:.4e}\".format(-1*objective_function(optimald2, optimald3, optimald4)))"
   ]
  },
  {
   "cell_type": "markdown",
   "id": "2417412e",
   "metadata": {},
   "source": [
    "Typically Bayesian Optimisation is really sample-efficient for what concerns the number of function evaluations so 350 iterations should really be enough. \n",
    "\n",
    "The result of such iterations are presented in the the following Figure. "
   ]
  },
  {
   "cell_type": "code",
   "execution_count": null,
   "id": "df5b77c2",
   "metadata": {},
   "outputs": [],
   "source": [
    "# output if non-linearity was absent from the system \n",
    "linear_opt_time, linear_opt_profile = l1_pump.forward_pass(\n",
    "    control = l1_pump.translate_control(\n",
    "        -1*COMPRESSOR, verse = \"to_disp\"\n",
    "    )\n",
    ")"
   ]
  },
  {
   "cell_type": "code",
   "execution_count": null,
   "id": "327d1076",
   "metadata": {
    "scrolled": false
   },
   "outputs": [],
   "source": [
    "control = np.array((optimizer.max[\"params\"][\"d2\"], optimizer.max[\"params\"][\"d3\"], optimizer.max[\"params\"][\"d4\"]))\n",
    "time_BO, profile_BO = l1_pump.forward_pass(control)\n",
    "profile_BO = np.roll(profile_BO, np.argmax(target_profile) - np.argmax(profile_BO))\n",
    "\n",
    "fig, ax = plt.subplots(figsize = (10, 8))\n",
    "ax.set_title(\"Pulse Optimization results\", fontsize = 12, fontweight = \"bold\")\n",
    "ax.plot(time_BO, profile_BO, label = \"Bayesian Optimization output\", lw = 4)\n",
    "ax.scatter(time_BO, target_profile, label = \"Target Pulse\", c = \"tab:grey\", marker = \"x\", s = 50)\n",
    "ax.scatter(linear_opt_time, np.roll(linear_opt_profile, \n",
    "                                    - linear_opt_profile.argmax() + target_profile.argmax()),\n",
    "           label = r\"$\\varphi_{stretcher} = - \\varphi_{compressor}$\", marker = \"o\", s = 25, c = \"k\")\n",
    "\n",
    "ax.set_xlabel(r\"Time (s)\", fontsize = 12); ax.set_ylabel(\"Intensity\", fontsize = 12)\n",
    "\n",
    "ax.legend(fontsize = 13)\n",
    "ax.set_xlim(left = -0.75e-11, right = +0.75e-11)\n",
    "fig.tight_layout()\n",
    "plt.show()"
   ]
  },
  {
   "cell_type": "markdown",
   "id": "074752ab",
   "metadata": {},
   "source": [
    "The above Figure shows: \n",
    "1. *Target Pulse*: defined as the Transform Limited pulse (the one having $\\varphi = 0$) of the given spectrum. \n",
    "\n",
    "2. *The temporal profile of the controlled pulse when the phase of the stretcher is equal and opposite to the one of the compressor* (this would be the transform limited pulse if no non-linear effect were present in the system)\n",
    "\n",
    "3. *The Bayesian Optimisation output*, which is very different from the desired shape even if it certainly does approach a shape way more quasi-Gaussian than the ideal linear control. \n",
    "\n",
    "This however is valid for an optimization process that would use as loss function $\\frac 1N \\Vert t - t_{TL} \\Vert^2$, with $N$ being the number of points in the array (i.e., using the MSE error function). \n",
    "Surely enough other loss functions can be defined. In particular: \n",
    "\n",
    "1. One which **weights every error by the value of the intensity**, so as to reduce the weight of the marginal errors with respect to those large ones present in the central area of the pulse, i.e. $$ \\frac{\\Vert t (t - t_{TL})\\Vert^2}{t^T \\mathbb 1}$$\n",
    "\n",
    "2. One which computes the **MSE only for non-zero values**, and which therefore discards those long tails of the pulse.\n",
    "\n",
    "3. A mixture of (2) and a measure of **the mismatch in terms of area underlied by controlled and target pulse** (weighted in favour of difference of area).\n",
    "\n",
    "4. One which mixes (2) with a minimisation of the total sum of peak widhts (weighted in favour of difference of total width sum).\n",
    "\n",
    "5. One which minimises the pulse shape but prefers to **minimize the difference in FWHM** between the target pulse and the controlled one. \n",
    "\n",
    "6. One which is based on *L1-Manhattan norm*"
   ]
  },
  {
   "cell_type": "code",
   "execution_count": null,
   "id": "cf80c227",
   "metadata": {},
   "outputs": [],
   "source": [
    "mse_pulse = profile_BO"
   ]
  },
  {
   "cell_type": "code",
   "execution_count": null,
   "id": "2e34829c",
   "metadata": {},
   "outputs": [],
   "source": [
    "# loss-1\n",
    "def objective_function(d2, d3, d4): \n",
    "    controlled_profile = temporal_profile(d2, d3, d4)\n",
    "    return -1 * (controlled_profile * (controlled_profile - target_profile)**2).sum()/controlled_profile.sum()"
   ]
  },
  {
   "cell_type": "code",
   "execution_count": null,
   "id": "e4acd3e7",
   "metadata": {},
   "outputs": [],
   "source": [
    "optimizer = BayesianOptimization(\n",
    "    f=objective_function,\n",
    "    pbounds=pbounds,\n",
    "    verbose=1, # verbose = 1 prints only when a maximum is observed, verbose = 0 is silent\n",
    "    random_state=10, # for reproducibility\n",
    ")\n",
    "\n",
    "# these are the actual hyperparameters of the optimization process\n",
    "# n_init, n_iter = 150, 200\n",
    "\n",
    "optimizer.maximize(\n",
    "    init_points=n_init,\n",
    "    n_iter=n_iter,\n",
    ")"
   ]
  },
  {
   "cell_type": "code",
   "execution_count": null,
   "id": "3379181e",
   "metadata": {},
   "outputs": [],
   "source": [
    "# plotting the result obtained with Bayesian Optimization\n",
    "optimald2, optimald3, optimald4 = optimizer.max[\"params\"][\"d2\"], optimizer.max[\"params\"][\"d3\"], optimizer.max[\"params\"][\"d4\"]\n",
    "\n",
    "optimal_control = (optimald2, optimald3, optimald4)\n",
    "# applying optimal control found\n",
    "time_BO, profile_BO = l1_pump.forward_pass(optimal_control)\n",
    "\n",
    "print(\"Final MSE between Control and Target: {:.4e}\".format(-1*objective_function(optimald2, optimald3, optimald4)))"
   ]
  },
  {
   "cell_type": "code",
   "execution_count": null,
   "id": "f26bfe88",
   "metadata": {},
   "outputs": [],
   "source": [
    "# output if non-linearity was absent from the system \n",
    "linear_opt_time, linear_opt_profile = l1_pump.forward_pass(\n",
    "    control = l1_pump.translate_control(\n",
    "        -1*COMPRESSOR, verse = \"to_disp\"\n",
    "    )\n",
    ")\n",
    "control = np.array((optimizer.max[\"params\"][\"d2\"], optimizer.max[\"params\"][\"d3\"], optimizer.max[\"params\"][\"d4\"]))\n",
    "time_BO, profile_BO = l1_pump.forward_pass(control)\n",
    "profile_BO = np.roll(profile_BO, np.argmax(target_profile) - np.argmax(profile_BO))\n",
    "\n",
    "fig, ax = plt.subplots(figsize = (10, 8))\n",
    "ax.set_title(\"Pulse Optimization results\", fontsize = 12, fontweight = \"bold\")\n",
    "ax.plot(time_BO, profile_BO, label = \"Bayesian Optimization output\", lw = 4)\n",
    "ax.scatter(time_BO, target_profile, label = \"Target Pulse\", c = \"tab:grey\", marker = \"x\", s = 50)\n",
    "ax.scatter(linear_opt_time, np.roll(linear_opt_profile, \n",
    "                                    - linear_opt_profile.argmax() + target_profile.argmax()),\n",
    "           label = r\"$\\varphi_{stretcher} = - \\varphi_{compressor}$\", marker = \"o\", s = 25, c = \"k\")\n",
    "\n",
    "ax.set_xlabel(r\"Time (s)\", fontsize = 12); ax.set_ylabel(\"Intensity\", fontsize = 12)\n",
    "\n",
    "ax.legend(fontsize = 13)\n",
    "ax.set_xlim(left = -0.75e-11, right = +0.75e-11)\n",
    "fig.tight_layout()\n",
    "plt.show()"
   ]
  },
  {
   "cell_type": "code",
   "execution_count": null,
   "id": "6c3f6c3d",
   "metadata": {},
   "outputs": [],
   "source": [
    "loss1_pulse = profile_BO"
   ]
  },
  {
   "cell_type": "code",
   "execution_count": null,
   "id": "c9824c4d",
   "metadata": {},
   "outputs": [],
   "source": [
    "# loss-2\n",
    "def objective_function(d2, d3, d4): \n",
    "    tol = 1e-6 # zero tolerance\n",
    "    controlled_profile = temporal_profile(d2, d3, d4)\n",
    "    mask = (controlled_profile != target_profile) & (controlled_profile > tol)\n",
    "    \n",
    "    controlled_profile = controlled_profile[mask]\n",
    "    target = target_profile[mask]\n",
    "    \n",
    "    return -1 * ((controlled_profile - target)**2).mean()"
   ]
  },
  {
   "cell_type": "code",
   "execution_count": null,
   "id": "830b9883",
   "metadata": {
    "scrolled": false
   },
   "outputs": [],
   "source": [
    "optimizer = BayesianOptimization(\n",
    "    f=objective_function,\n",
    "    pbounds=pbounds,\n",
    "    verbose=1, # verbose = 1 prints only when a maximum is observed, verbose = 0 is silent\n",
    "    random_state=10, # for reproducibility\n",
    ")\n",
    "\n",
    "# these are the actual hyperparameters of the optimization process\n",
    "# n_init, n_iter = 150, 200\n",
    "\n",
    "optimizer.maximize(\n",
    "    init_points=n_init,\n",
    "    n_iter=n_iter,\n",
    ")"
   ]
  },
  {
   "cell_type": "code",
   "execution_count": null,
   "id": "390cf6ac",
   "metadata": {},
   "outputs": [],
   "source": [
    "# plotting the result obtained with Bayesian Optimization\n",
    "optimald2, optimald3, optimald4 = optimizer.max[\"params\"][\"d2\"], optimizer.max[\"params\"][\"d3\"], optimizer.max[\"params\"][\"d4\"]\n",
    "\n",
    "optimal_control = (optimald2, optimald3, optimald4)\n",
    "# applying optimal control found\n",
    "time_BO, profile_BO = l1_pump.forward_pass(optimal_control)\n",
    "\n",
    "print(\"Final MSE between Control and Target: {:.4e}\".format(-1*objective_function(optimald2, optimald3, optimald4)))"
   ]
  },
  {
   "cell_type": "code",
   "execution_count": null,
   "id": "e571a12d",
   "metadata": {},
   "outputs": [],
   "source": [
    "# output if non-linearity was absent from the system \n",
    "linear_opt_time, linear_opt_profile = l1_pump.forward_pass(\n",
    "    control = l1_pump.translate_control(\n",
    "        -1*COMPRESSOR, verse = \"to_disp\"\n",
    "    )\n",
    ")\n",
    "control = np.array((optimizer.max[\"params\"][\"d2\"], optimizer.max[\"params\"][\"d3\"], optimizer.max[\"params\"][\"d4\"]))\n",
    "time_BO, profile_BO = l1_pump.forward_pass(control)\n",
    "profile_BO = np.roll(profile_BO, np.argmax(target_profile) - np.argmax(profile_BO))\n",
    "\n",
    "fig, ax = plt.subplots(figsize = (10, 8))\n",
    "ax.set_title(\"Pulse Optimization results\", fontsize = 12, fontweight = \"bold\")\n",
    "ax.plot(time_BO, profile_BO, label = \"Bayesian Optimization output\", lw = 4)\n",
    "ax.scatter(time_BO, target_profile, label = \"Target Pulse\", c = \"tab:grey\", marker = \"x\", s = 50)\n",
    "ax.scatter(linear_opt_time, np.roll(linear_opt_profile, \n",
    "                                    - linear_opt_profile.argmax() + target_profile.argmax()),\n",
    "           label = r\"$\\varphi_{stretcher} = - \\varphi_{compressor}$\", marker = \"o\", s = 25, c = \"k\")\n",
    "\n",
    "ax.set_xlabel(r\"Time (s)\", fontsize = 12); ax.set_ylabel(\"Intensity\", fontsize = 12)\n",
    "\n",
    "ax.legend(fontsize = 13)\n",
    "ax.set_xlim(left = -0.75e-11, right = +0.75e-11)\n",
    "fig.tight_layout()\n",
    "plt.show()"
   ]
  },
  {
   "cell_type": "code",
   "execution_count": null,
   "id": "b412c2db",
   "metadata": {},
   "outputs": [],
   "source": [
    "loss2_pulse = profile_BO"
   ]
  },
  {
   "cell_type": "code",
   "execution_count": null,
   "id": "72a1cf01",
   "metadata": {},
   "outputs": [],
   "source": [
    "# loss-3\n",
    "def objective_function(d2, d3, d4): \n",
    "    tol = 1e-6 # zero tolerance\n",
    "    w1, w2 = 0.3, 0.7\n",
    "    controlled_profile = temporal_profile(d2, d3, d4)\n",
    "    mask = (controlled_profile != target_profile) & (controlled_profile > tol)\n",
    "    \n",
    "    controlled_profile = controlled_profile[mask]\n",
    "    target = target_profile[mask]\n",
    "    \n",
    "    return -1 * (w1 * ((controlled_profile - target)**2).mean() + w2 * (np.trapz(controlled_profile) - np.trapz(target)))"
   ]
  },
  {
   "cell_type": "code",
   "execution_count": null,
   "id": "82876d55",
   "metadata": {},
   "outputs": [],
   "source": [
    "optimizer = BayesianOptimization(\n",
    "    f=objective_function,\n",
    "    pbounds=pbounds,\n",
    "    verbose=1, # verbose = 1 prints only when a maximum is observed, verbose = 0 is silent\n",
    "    random_state=10, # for reproducibility\n",
    ")\n",
    "\n",
    "# these are the actual hyperparameters of the optimization process\n",
    "# n_init, n_iter = 150, 200\n",
    "\n",
    "optimizer.maximize(\n",
    "    init_points=n_init,\n",
    "    n_iter=n_iter,\n",
    ")"
   ]
  },
  {
   "cell_type": "code",
   "execution_count": null,
   "id": "b8530308",
   "metadata": {},
   "outputs": [],
   "source": [
    "# plotting the result obtained with Bayesian Optimization\n",
    "optimald2, optimald3, optimald4 = optimizer.max[\"params\"][\"d2\"], optimizer.max[\"params\"][\"d3\"], optimizer.max[\"params\"][\"d4\"]\n",
    "\n",
    "optimal_control = (optimald2, optimald3, optimald4)\n",
    "# applying optimal control found\n",
    "time_BO, profile_BO = l1_pump.forward_pass(optimal_control)\n",
    "\n",
    "print(\"Final MSE between Control and Target: {:.4e}\".format(-1*objective_function(optimald2, optimald3, optimald4)))"
   ]
  },
  {
   "cell_type": "code",
   "execution_count": null,
   "id": "839da7aa",
   "metadata": {},
   "outputs": [],
   "source": [
    "# output if non-linearity was absent from the system \n",
    "linear_opt_time, linear_opt_profile = l1_pump.forward_pass(\n",
    "    control = l1_pump.translate_control(\n",
    "        -1*COMPRESSOR, verse = \"to_disp\"\n",
    "    )\n",
    ")\n",
    "control = np.array((optimizer.max[\"params\"][\"d2\"], optimizer.max[\"params\"][\"d3\"], optimizer.max[\"params\"][\"d4\"]))\n",
    "time_BO, profile_BO = l1_pump.forward_pass(control)\n",
    "profile_BO = np.roll(profile_BO, np.argmax(target_profile) - np.argmax(profile_BO))\n",
    "\n",
    "fig, ax = plt.subplots(figsize = (10, 8))\n",
    "ax.set_title(\"Pulse Optimization results\", fontsize = 12, fontweight = \"bold\")\n",
    "ax.plot(time_BO, profile_BO, label = \"Bayesian Optimization output\", lw = 4)\n",
    "ax.scatter(time_BO, target_profile, label = \"Target Pulse\", c = \"tab:grey\", marker = \"x\", s = 50)\n",
    "\n",
    "ax.scatter(linear_opt_time, np.roll(linear_opt_profile, \n",
    "                                    - linear_opt_profile.argmax() + target_profile.argmax()),\n",
    "           label = r\"$\\varphi_{stretcher} = - \\varphi_{compressor}$\", marker = \"o\", s = 25, c = \"k\")\n",
    "\n",
    "ax.set_xlabel(r\"Time (s)\", fontsize = 12); ax.set_ylabel(\"Intensity\", fontsize = 12)\n",
    "\n",
    "ax.legend(fontsize = 13)\n",
    "ax.set_xlim(left = -0.75e-11, right = +0.75e-11)\n",
    "fig.tight_layout()\n",
    "plt.show()"
   ]
  },
  {
   "cell_type": "code",
   "execution_count": null,
   "id": "50e8c4c3",
   "metadata": {},
   "outputs": [],
   "source": [
    "loss3_pulse = profile_BO"
   ]
  },
  {
   "cell_type": "code",
   "execution_count": null,
   "id": "ef245d5a",
   "metadata": {},
   "outputs": [],
   "source": [
    "from scipy.signal import find_peaks, peak_widths\n",
    "# loss-4\n",
    "def objective_function(d2, d3, d4): \n",
    "    tol = 1e-6 # zero tolerance\n",
    "    w1, w2 = 0.3, 0.7\n",
    "    controlled_profile = temporal_profile(d2, d3, d4)\n",
    "    mask = (controlled_profile != target_profile) & (controlled_profile > tol)\n",
    "    \n",
    "    controlled_profile = controlled_profile[mask]\n",
    "    target = target_profile[mask]\n",
    "    \n",
    "    control_peaks, _ = find_peaks(controlled_profile, height = (0.1, None))\n",
    "    target_peaks, _ = find_peaks(target, height = (0.1, None))\n",
    "    \n",
    "    control_width = peak_widths(controlled_profile, control_peaks)[0]\n",
    "    target_width = peak_widths(target, target_peaks)[0]\n",
    "    \n",
    "    mse_part = ((controlled_profile - target)**2).mean() \n",
    "    peak_part = (target_width.sum() - control_width.sum())**2\n",
    "    return -1 * (w1 * mse_part + w2 * peak_part)"
   ]
  },
  {
   "cell_type": "code",
   "execution_count": null,
   "id": "f61cc6ca",
   "metadata": {},
   "outputs": [],
   "source": [
    "optimizer = BayesianOptimization(\n",
    "    f=objective_function,\n",
    "    pbounds=pbounds,\n",
    "    verbose=1, # verbose = 1 prints only when a maximum is observed, verbose = 0 is silent\n",
    "    random_state=10, # for reproducibility\n",
    ")\n",
    "\n",
    "# these are the actual hyperparameters of the optimization process\n",
    "# n_init, n_iter = 150, 200\n",
    "\n",
    "optimizer.maximize(\n",
    "    init_points=n_init,\n",
    "    n_iter=n_iter,\n",
    ")"
   ]
  },
  {
   "cell_type": "code",
   "execution_count": null,
   "id": "47ef7a2d",
   "metadata": {},
   "outputs": [],
   "source": [
    "# plotting the result obtained with Bayesian Optimization\n",
    "optimald2, optimald3, optimald4 = optimizer.max[\"params\"][\"d2\"], optimizer.max[\"params\"][\"d3\"], optimizer.max[\"params\"][\"d4\"]\n",
    "\n",
    "optimal_control = (optimald2, optimald3, optimald4)\n",
    "# applying optimal control found\n",
    "time_BO, profile_BO = l1_pump.forward_pass(optimal_control)\n",
    "\n",
    "print(\"Final MSE between Control and Target: {:.4e}\".format(-1*objective_function(optimald2, optimald3, optimald4)))"
   ]
  },
  {
   "cell_type": "code",
   "execution_count": null,
   "id": "2e0e4c07",
   "metadata": {},
   "outputs": [],
   "source": [
    "# output if non-linearity was absent from the system \n",
    "linear_opt_time, linear_opt_profile = l1_pump.forward_pass(\n",
    "    control = l1_pump.translate_control(\n",
    "        -1*COMPRESSOR, verse = \"to_disp\"\n",
    "    )\n",
    ")\n",
    "control = np.array((optimizer.max[\"params\"][\"d2\"], optimizer.max[\"params\"][\"d3\"], optimizer.max[\"params\"][\"d4\"]))\n",
    "time_BO, profile_BO = l1_pump.forward_pass(control)\n",
    "profile_BO = np.roll(profile_BO, np.argmax(target_profile) - np.argmax(profile_BO))\n",
    "\n",
    "fig, ax = plt.subplots(figsize = (10, 8))\n",
    "ax.set_title(\"Pulse Optimization results\", fontsize = 12, fontweight = \"bold\")\n",
    "ax.plot(time_BO, profile_BO, label = \"Bayesian Optimization output\", lw = 4)\n",
    "ax.scatter(time_BO, target_profile, label = \"Target Pulse\", c = \"tab:grey\", marker = \"x\", s = 50)\n",
    "\n",
    "ax.scatter(linear_opt_time, np.roll(linear_opt_profile, \n",
    "                                    - linear_opt_profile.argmax() + target_profile.argmax()),\n",
    "           label = r\"$\\varphi_{stretcher} = - \\varphi_{compressor}$\", marker = \"o\", s = 25, c = \"k\")\n",
    "\n",
    "ax.set_xlabel(r\"Time (s)\", fontsize = 12); ax.set_ylabel(\"Intensity\", fontsize = 12)\n",
    "\n",
    "ax.legend(fontsize = 13)\n",
    "ax.set_xlim(left = -0.75e-11, right = +0.75e-11)\n",
    "fig.tight_layout()\n",
    "plt.show()"
   ]
  },
  {
   "cell_type": "code",
   "execution_count": null,
   "id": "dc31ac4d",
   "metadata": {},
   "outputs": [],
   "source": [
    "loss4_pulse = profile_BO"
   ]
  },
  {
   "cell_type": "code",
   "execution_count": null,
   "id": "e6ba2e1f",
   "metadata": {},
   "outputs": [],
   "source": [
    "# loss-5\n",
    "from scipy.interpolate import UnivariateSpline\n",
    "\n",
    "target_time, target_profile = physics.temporal_profile(frequency_clean, np.sqrt(intensity_clean),\n",
    "                                             phase = np.zeros_like(frequency_clean),\n",
    "                                             npoints_pad = l1_pump.pad_points)\n",
    "\n",
    "def objective_function(d2, d3, d4): \n",
    "    tol = 1e-6 # zero tolerance\n",
    "    w1, w2 = 0.1, 0.9\n",
    "    controlled_time, controlled_profile = l1_pump.forward_pass(np.array((d2, d3, d4)))\n",
    "    \n",
    "    control_roots = UnivariateSpline(\n",
    "        x = controlled_time, y = controlled_profile - (controlled_profile.max()/2), s = 0\n",
    "    ).roots()\n",
    "        \n",
    "    control_FWHM = np.abs(control_roots[0] - control_roots[-1])\n",
    "    target_FWHM = np.diff(UnivariateSpline(\n",
    "        x = target_time, y = target_profile - (target_profile.max()/2), s = 0\n",
    "    ).roots())\n",
    "    \n",
    "    mask = (controlled_profile != target_profile) & (controlled_profile > tol)\n",
    "    \n",
    "    controlled_profile = controlled_profile[mask]\n",
    "    target = target_profile[mask]\n",
    "    \n",
    "    shape_part = ((controlled_profile - target)**2).mean()\n",
    "    FWHM_part = np.abs((control_FWHM - target_FWHM).item())\n",
    "    \n",
    "    return -1 * (w1 * shape_part + w2 * FWHM_part)"
   ]
  },
  {
   "cell_type": "code",
   "execution_count": null,
   "id": "82882409",
   "metadata": {},
   "outputs": [],
   "source": [
    "optimizer = BayesianOptimization(\n",
    "    f=objective_function,\n",
    "    pbounds=pbounds,\n",
    "    verbose=1, # verbose = 1 prints only when a maximum is observed, verbose = 0 is silent\n",
    "    random_state=10, # for reproducibility\n",
    ")\n",
    "\n",
    "# these are the actual hyperparameters of the optimization process\n",
    "# n_init, n_iter = 150, 200\n",
    "\n",
    "optimizer.maximize(\n",
    "    init_points=n_init,\n",
    "    n_iter=n_iter,\n",
    ")"
   ]
  },
  {
   "cell_type": "code",
   "execution_count": null,
   "id": "750ef867",
   "metadata": {},
   "outputs": [],
   "source": [
    "# plotting the result obtained with Bayesian Optimization\n",
    "optimald2, optimald3, optimald4 = optimizer.max[\"params\"][\"d2\"], optimizer.max[\"params\"][\"d3\"], optimizer.max[\"params\"][\"d4\"]\n",
    "\n",
    "optimal_control = (optimald2, optimald3, optimald4)\n",
    "# applying optimal control found\n",
    "time_BO, profile_BO = l1_pump.forward_pass(optimal_control)\n",
    "\n",
    "print(\"Final MSE between Control and Target: {:.4e}\".format(-1*objective_function(optimald2, optimald3, optimald4)))"
   ]
  },
  {
   "cell_type": "code",
   "execution_count": null,
   "id": "e2e8a232",
   "metadata": {},
   "outputs": [],
   "source": [
    "# output if non-linearity was absent from the system \n",
    "linear_opt_time, linear_opt_profile = l1_pump.forward_pass(\n",
    "    control = l1_pump.translate_control(\n",
    "        -1*COMPRESSOR, verse = \"to_disp\"\n",
    "    )\n",
    ")\n",
    "control = np.array((optimizer.max[\"params\"][\"d2\"], optimizer.max[\"params\"][\"d3\"], optimizer.max[\"params\"][\"d4\"]))\n",
    "time_BO, profile_BO = l1_pump.forward_pass(control)\n",
    "profile_BO = np.roll(profile_BO, np.argmax(target_profile) - np.argmax(profile_BO))\n",
    "\n",
    "fig, ax = plt.subplots(figsize = (10, 8))\n",
    "ax.set_title(\"Pulse Optimization results\", fontsize = 12, fontweight = \"bold\")\n",
    "ax.plot(time_BO, profile_BO, label = \"Bayesian Optimization output\", lw = 4)\n",
    "ax.scatter(time_BO, target_profile, label = \"Target Pulse\", c = \"tab:grey\", marker = \"x\", s = 50)\n",
    "\n",
    "ax.scatter(linear_opt_time, np.roll(linear_opt_profile, \n",
    "                                    - linear_opt_profile.argmax() + target_profile.argmax()),\n",
    "           label = r\"$\\varphi_{stretcher} = - \\varphi_{compressor}$\", marker = \"o\", s = 25, c = \"k\")\n",
    "\n",
    "ax.set_xlabel(r\"Time (s)\", fontsize = 12); ax.set_ylabel(\"Intensity\", fontsize = 12)\n",
    "\n",
    "ax.legend(fontsize = 13)\n",
    "ax.set_xlim(left = -0.75e-11, right = +0.75e-11)\n",
    "fig.tight_layout()\n",
    "plt.show()"
   ]
  },
  {
   "cell_type": "code",
   "execution_count": null,
   "id": "7600f5b6",
   "metadata": {},
   "outputs": [],
   "source": [
    "loss5_pulse = profile_BO"
   ]
  },
  {
   "cell_type": "code",
   "execution_count": null,
   "id": "0b735230",
   "metadata": {},
   "outputs": [],
   "source": [
    "#loss-6\n",
    "def objective_function(d2, d3, d4): \n",
    "    tol = 1e-6 # zero tolerance\n",
    "    w1, w2 = 0.1, 0.9\n",
    "    \n",
    "    controlled_profile = temporal_profile(d2, d3, d4)\n",
    "    mask = (controlled_profile != target_profile) & (controlled_profile > tol)\n",
    "    \n",
    "    controlled_profile = controlled_profile[mask]\n",
    "    target = target_profile[mask]\n",
    "    \n",
    "\n",
    "    return -1 * (np.abs(controlled_profile - target)).sum()"
   ]
  },
  {
   "cell_type": "code",
   "execution_count": null,
   "id": "63b3eea1",
   "metadata": {},
   "outputs": [],
   "source": [
    "optimizer = BayesianOptimization(\n",
    "    f=objective_function,\n",
    "    pbounds=pbounds,\n",
    "    verbose=1, # verbose = 1 prints only when a maximum is observed, verbose = 0 is silent\n",
    "    random_state=10, # for reproducibility\n",
    ")\n",
    "\n",
    "# these are the actual hyperparameters of the optimization process\n",
    "# n_init, n_iter = 150, 200\n",
    "\n",
    "optimizer.maximize(\n",
    "    init_points=n_init,\n",
    "    n_iter=n_iter,\n",
    ")"
   ]
  },
  {
   "cell_type": "code",
   "execution_count": null,
   "id": "0a9254f5",
   "metadata": {},
   "outputs": [],
   "source": [
    "# plotting the result obtained with Bayesian Optimization\n",
    "optimald2, optimald3, optimald4 = optimizer.max[\"params\"][\"d2\"], optimizer.max[\"params\"][\"d3\"], optimizer.max[\"params\"][\"d4\"]\n",
    "\n",
    "optimal_control = (optimald2, optimald3, optimald4)\n",
    "# applying optimal control found\n",
    "time_BO, profile_BO = l1_pump.forward_pass(optimal_control)\n",
    "\n",
    "print(\"Final MSE between Control and Target: {:.4e}\".format(-1*objective_function(optimald2, optimald3, optimald4)))"
   ]
  },
  {
   "cell_type": "code",
   "execution_count": null,
   "id": "2b4f3bfe",
   "metadata": {},
   "outputs": [],
   "source": [
    "# output if non-linearity was absent from the system \n",
    "linear_opt_time, linear_opt_profile = l1_pump.forward_pass(\n",
    "    control = l1_pump.translate_control(\n",
    "        -1*COMPRESSOR, verse = \"to_disp\"\n",
    "    )\n",
    ")\n",
    "control = np.array((optimizer.max[\"params\"][\"d2\"], optimizer.max[\"params\"][\"d3\"], optimizer.max[\"params\"][\"d4\"]))\n",
    "time_BO, profile_BO = l1_pump.forward_pass(control)\n",
    "profile_BO = np.roll(profile_BO, np.argmax(target_profile) - np.argmax(profile_BO))\n",
    "\n",
    "fig, ax = plt.subplots(figsize = (10, 8))\n",
    "ax.set_title(\"Pulse Optimization results\", fontsize = 12, fontweight = \"bold\")\n",
    "ax.plot(time_BO, profile_BO, label = \"Bayesian Optimization output\", lw = 4)\n",
    "ax.scatter(time_BO, target_profile, label = \"Target Pulse\", c = \"tab:grey\", marker = \"x\", s = 50)\n",
    "\n",
    "ax.scatter(linear_opt_time, np.roll(linear_opt_profile, \n",
    "                                    - linear_opt_profile.argmax() + target_profile.argmax()),\n",
    "           label = r\"$\\varphi_{stretcher} = - \\varphi_{compressor}$\", marker = \"o\", s = 25, c = \"k\")\n",
    "\n",
    "ax.set_xlabel(r\"Time (s)\", fontsize = 12); ax.set_ylabel(\"Intensity\", fontsize = 12)\n",
    "\n",
    "ax.legend(fontsize = 13)\n",
    "ax.set_xlim(left = -0.75e-11, right = +0.75e-11)\n",
    "fig.tight_layout()\n",
    "plt.show()"
   ]
  },
  {
   "cell_type": "code",
   "execution_count": null,
   "id": "4358017f",
   "metadata": {},
   "outputs": [],
   "source": [
    "loss6_pulse = profile_BO"
   ]
  },
  {
   "cell_type": "markdown",
   "id": "b2a72d7f",
   "metadata": {},
   "source": [
    "The different loss functions have given different results."
   ]
  },
  {
   "cell_type": "code",
   "execution_count": null,
   "id": "63f0c4bc",
   "metadata": {
    "scrolled": false
   },
   "outputs": [],
   "source": [
    "# final comparison\n",
    "fig, ax = plt.subplots(figsize = (10,8))\n",
    "ax.plot(time_BO, np.roll(mse_pulse, - mse_pulse.argmax() + target_profile.argmax()), label = \"Naive MSE\")\n",
    "\n",
    "ax.plot(time_BO, np.roll(loss1_pulse, - loss1_pulse.argmax() + target_profile.argmax()), label = \"Loss1\", lw = 3)\n",
    "ax.plot(time_BO, np.roll(loss2_pulse, - loss2_pulse.argmax() + target_profile.argmax()), label = \"Loss2\", lw = 3)\n",
    "ax.plot(time_BO, np.roll(loss3_pulse, - loss3_pulse.argmax() + target_profile.argmax()), label = \"Loss3\", lw = 3)\n",
    "ax.plot(time_BO, np.roll(loss4_pulse, - loss4_pulse.argmax() + target_profile.argmax()), label = \"Loss4\", lw = 3)\n",
    "ax.plot(time_BO, np.roll(loss5_pulse, - loss5_pulse.argmax() + target_profile.argmax()), label = \"Loss5\", lw = 3)\n",
    "ax.plot(time_BO, np.roll(loss6_pulse, - loss6_pulse.argmax() + target_profile.argmax()), label = \"Loss6\", lw = 3)\n",
    "\n",
    "ax.scatter(time_BO, target_profile, label = \"Target Pulse\", c = \"tab:grey\", marker = \"x\", s = 50)\n",
    "\n",
    "ax.set_xlabel(\"Time (s)\", fontsize = 13); ax.set_ylabel(\"Intensity\", fontsize = 13)\n",
    "ax.set_title(\"Optimal pulse shape obtained with various loss functions\", fontweight = \"bold\", fontsize = 14)\n",
    "\n",
    "ax.legend(fontsize = 12)\n",
    "ax.set_xlim(left = -0.75e-11, right = +0.75e-11)\n",
    "plt.show()"
   ]
  },
  {
   "cell_type": "markdown",
   "id": "e5a944e9",
   "metadata": {},
   "source": [
    "None of the objective functions which have been tried out has shown to be good enough to stimulate convergence, so it is necessary to try out other approaches or (far more important) go on with a phase of hyper-parameter tuning for the optimizer once a promising objective function has been developed. \n",
    "\n",
    "The sixth loss function (L1-Manhattan Norm) has been proven to be the best one so far, so hyperparameter tuning will be studied on this very loss function. \n",
    "\n",
    "However, these experiments should be interpreted by the standpoint of the actual difficulty of defyning parts so relevant of the problem (such as the objective function, indeed). This is something that makes me doubt about the effectviness of these approaches (whose outcome heavily relies on human choices which are very likely to be suboptimal), and makes me think that, maybe, approaches based on *Reinforcement Learning* would serve the scope better."
   ]
  },
  {
   "cell_type": "code",
   "execution_count": null,
   "id": "0c92789a",
   "metadata": {},
   "outputs": [],
   "source": []
  }
 ],
 "metadata": {
  "kernelspec": {
   "display_name": "Python 3 (ipykernel)",
   "language": "python",
   "name": "python3"
  },
  "language_info": {
   "codemirror_mode": {
    "name": "ipython",
    "version": 3
   },
   "file_extension": ".py",
   "mimetype": "text/x-python",
   "name": "python",
   "nbconvert_exporter": "python",
   "pygments_lexer": "ipython3",
   "version": "3.10.4"
  },
  "vscode": {
   "interpreter": {
    "hash": "773193afd421d13e2821ca6c0d96ad71b4047236f8e511868631cb854773b939"
   }
  }
 },
 "nbformat": 4,
 "nbformat_minor": 5
}
