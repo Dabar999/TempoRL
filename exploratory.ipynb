{
 "cells": [
  {
   "cell_type": "code",
   "execution_count": 3,
   "metadata": {},
   "outputs": [],
   "source": [
    "import pandas as pd\n",
    "import numpy as np\n",
    "import os\n",
    "import matplotlib.pyplot as plt"
   ]
  },
  {
   "cell_type": "markdown",
   "metadata": {},
   "source": [
    "# Dataframe columns\n",
    "The following dataframe has columns which do have the following meaning:\n",
    " \n",
    "0. Frequency (in THz). This is the **independent variable** which is influencing the overall procedure. \n",
    "\n",
    "1. Wavelength (in nm, can be directly derived from frequency of course).\n",
    "\n",
    "2. Intensity (defined as the **metric of interest**, intensity is very significant for this analysis). Please consider that the square root of the intensity can be analysed as the Electric Field. \n",
    "\n",
    "3. Phase (between minus and plus infinity).\n",
    "\n",
    "4. **Phase cutted** (with respect to those frequencies corresponding to values of intensity equal to zero)."
   ]
  },
  {
   "cell_type": "code",
   "execution_count": 4,
   "metadata": {},
   "outputs": [
    {
     "data": {
      "text/html": [
       "<div>\n",
       "<style scoped>\n",
       "    .dataframe tbody tr th:only-of-type {\n",
       "        vertical-align: middle;\n",
       "    }\n",
       "\n",
       "    .dataframe tbody tr th {\n",
       "        vertical-align: top;\n",
       "    }\n",
       "\n",
       "    .dataframe thead th {\n",
       "        text-align: right;\n",
       "    }\n",
       "</style>\n",
       "<table border=\"1\" class=\"dataframe\">\n",
       "  <thead>\n",
       "    <tr style=\"text-align: right;\">\n",
       "      <th></th>\n",
       "      <th>Frequency</th>\n",
       "      <th>Wavelength</th>\n",
       "      <th>Intensity</th>\n",
       "      <th>Phase</th>\n",
       "      <th>Phase (cutted)</th>\n",
       "    </tr>\n",
       "  </thead>\n",
       "  <tbody>\n",
       "    <tr>\n",
       "      <th>count</th>\n",
       "      <td>1027.000000</td>\n",
       "      <td>1027.000000</td>\n",
       "      <td>1027.000000</td>\n",
       "      <td>1027.000000</td>\n",
       "      <td>1027.000000</td>\n",
       "    </tr>\n",
       "    <tr>\n",
       "      <th>mean</th>\n",
       "      <td>388.703722</td>\n",
       "      <td>797.636767</td>\n",
       "      <td>0.077578</td>\n",
       "      <td>-335.902940</td>\n",
       "      <td>0.007874</td>\n",
       "    </tr>\n",
       "    <tr>\n",
       "      <th>std</th>\n",
       "      <td>69.084920</td>\n",
       "      <td>147.503173</td>\n",
       "      <td>0.218707</td>\n",
       "      <td>541.012492</td>\n",
       "      <td>0.212221</td>\n",
       "    </tr>\n",
       "    <tr>\n",
       "      <th>min</th>\n",
       "      <td>269.220000</td>\n",
       "      <td>590.333000</td>\n",
       "      <td>0.000000</td>\n",
       "      <td>-2491.000000</td>\n",
       "      <td>-1.196000</td>\n",
       "    </tr>\n",
       "    <tr>\n",
       "      <th>25%</th>\n",
       "      <td>328.961500</td>\n",
       "      <td>668.977500</td>\n",
       "      <td>0.000000</td>\n",
       "      <td>-312.586500</td>\n",
       "      <td>0.000000</td>\n",
       "    </tr>\n",
       "    <tr>\n",
       "      <th>50%</th>\n",
       "      <td>388.704000</td>\n",
       "      <td>771.796000</td>\n",
       "      <td>0.000000</td>\n",
       "      <td>-179.213000</td>\n",
       "      <td>0.000000</td>\n",
       "    </tr>\n",
       "    <tr>\n",
       "      <th>75%</th>\n",
       "      <td>448.445500</td>\n",
       "      <td>911.960000</td>\n",
       "      <td>0.000000</td>\n",
       "      <td>-7.072500</td>\n",
       "      <td>0.000000</td>\n",
       "    </tr>\n",
       "    <tr>\n",
       "      <th>max</th>\n",
       "      <td>508.188000</td>\n",
       "      <td>1114.331000</td>\n",
       "      <td>1.000000</td>\n",
       "      <td>350.355000</td>\n",
       "      <td>1.373000</td>\n",
       "    </tr>\n",
       "  </tbody>\n",
       "</table>\n",
       "</div>"
      ],
      "text/plain": [
       "         Frequency   Wavelength    Intensity        Phase  Phase (cutted)\n",
       "count  1027.000000  1027.000000  1027.000000  1027.000000     1027.000000\n",
       "mean    388.703722   797.636767     0.077578  -335.902940        0.007874\n",
       "std      69.084920   147.503173     0.218707   541.012492        0.212221\n",
       "min     269.220000   590.333000     0.000000 -2491.000000       -1.196000\n",
       "25%     328.961500   668.977500     0.000000  -312.586500        0.000000\n",
       "50%     388.704000   771.796000     0.000000  -179.213000        0.000000\n",
       "75%     448.445500   911.960000     0.000000    -7.072500        0.000000\n",
       "max     508.188000  1114.331000     1.000000   350.355000        1.373000"
      ]
     },
     "execution_count": 4,
     "metadata": {},
     "output_type": "execute_result"
    }
   ],
   "source": [
    "file_name = \"LLNL_160809_freq.csv\"\n",
    "df = pd.read_csv(\"data/\"+file_name, header = None)\n",
    "df.columns = [\"Frequency\", \"Wavelength\", \"Intensity\", \"Phase\", \"Phase (cutted)\"] \n",
    "df.describe()"
   ]
  },
  {
   "cell_type": "markdown",
   "metadata": {},
   "source": [
    "Considering now the purposes of this analysis, it is clear that in this case it is possible to discard some columns from consideration. Such columns are *phase* (since the cutted version is preferred) and *wavelength* (which can also be obtained, if needed considering the very index of the dataframe)."
   ]
  },
  {
   "cell_type": "code",
   "execution_count": 18,
   "metadata": {},
   "outputs": [],
   "source": [
    "try: \n",
    "    df.drop(columns = [\"Wavelength\", \"Phase\"], inplace = True)\n",
    "except KeyError: \n",
    "    pass\n",
    "\n",
    "# selecting only the interesting elements for the analysis\n",
    "frequency = df.loc[:, \"Frequency\"].values * 10**12 #THz to Hz\n",
    "intensity = df.loc[:, \"Intensity\"].values\n",
    "electric_field = np.sqrt(intensity)"
   ]
  },
  {
   "cell_type": "markdown",
   "metadata": {},
   "source": [
    "The upcoming `fft` algorithm requires the input frequencies to be equidistant (~constant value for np.diff), but the control system does not allow such a strategy, therefore it is important to obtain a way with which to approximate intensity (and electric field) directly from frequency values. \n",
    "To do so, rbf-kernellized regression will be used. "
   ]
  },
  {
   "cell_type": "code",
   "execution_count": 19,
   "metadata": {},
   "outputs": [
    {
     "name": "stdout",
     "output_type": "stream",
     "text": [
      "RBF-Kernel Ridge MSE: 0.0601077572815534\n",
      "Training time: 5.58808e-02 s\n",
      "Inference time: 2.10190e-03 s\n",
      "Spline MSE: 7.707170367077619e-06\n",
      "(interpolation) Training time: 3.26872e-04 s\n",
      "(interpolation) Inference time: 2.62976e-04 s\n"
     ]
    }
   ],
   "source": [
    "from sklearn.kernel_ridge import KernelRidge\n",
    "from sklearn.model_selection import train_test_split\n",
    "from sklearn.metrics import mean_squared_error\n",
    "from sklearn.pipeline import make_pipeline\n",
    "from scipy.interpolate import interp1d, UnivariateSpline\n",
    "import time\n",
    "\n",
    "# setting a random state\n",
    "rs = 7\n",
    "\n",
    "# building a model that infers intensity from frequency\n",
    "Xtrain, Xtest, ytrain, ytest = train_test_split(frequency.reshape(-1,1), intensity, test_size=0.1, random_state=rs)\n",
    "\n",
    "# using kernel Ridge given the high non linearity of the function considered\n",
    "model_intensity = make_pipeline(KernelRidge(alpha = 1, kernel = \"rbf\"))\n",
    "\n",
    "start_time = time.time()\n",
    "model_intensity_interp = interp1d(Xtrain.reshape(-1,), ytrain)\n",
    "interp_time = time.time() - start_time\n",
    "\n",
    "start_time = time.time()\n",
    "model_intensity.fit(Xtrain, ytrain)\n",
    "train_time = time.time() - start_time\n",
    "\n",
    "start_time = time.time()\n",
    "yspline = model_intensity_interp(Xtest)\n",
    "interp_inference_time = time.time() - start_time\n",
    "\n",
    "start_time = time.time()\n",
    "ypred = model_intensity.predict(Xtest)\n",
    "reg_inference_time = time.time() - start_time\n",
    "\n",
    "print(f\"RBF-Kernel Ridge MSE: {mean_squared_error(ytest, ypred)}\")\n",
    "print(\"Training time: {:.5e} s\".format(train_time))\n",
    "print(\"Inference time: {:.5e} s\".format(reg_inference_time))\n",
    "\n",
    "print(f\"Spline MSE: {mean_squared_error(ytest, yspline)}\")\n",
    "print(\"(interpolation) Training time: {:.5e} s\".format(interp_time))\n",
    "print(\"(interpolation) Inference time: {:.5e} s\".format(interp_inference_time))\n"
   ]
  },
  {
   "cell_type": "markdown",
   "metadata": {},
   "source": [
    "Now that a model able to predict the intensity value for any given frequency it has been obtained it is possible to use it so as to obtain what is necessary in this case: an equidistant in frequency set of intensity in the frequency domain (to use the `fft` algorithm and translate them in the time domain). "
   ]
  },
  {
   "cell_type": "code",
   "execution_count": 53,
   "metadata": {},
   "outputs": [
    {
     "name": "stdout",
     "output_type": "stream",
     "text": [
      "(1000,)\n"
     ]
    },
    {
     "data": {
      "image/png": "[encoded data removed]",
      "text/plain": [
       "<Figure size 432x288 with 2 Axes>"
      ]
     },
     "metadata": {
      "needs_background": "light"
     },
     "output_type": "display_data"
    }
   ],
   "source": [
    "# The interpolation is faster and more accurate therefore regular interpolation is what it will be used\n",
    "model_intensity = model_intensity_interp\n",
    "\n",
    "# Cutting the value of frequency outside of the spectrum considered. This is also done considering measurement noise (from which\n",
    "# the presence of the variable thresh on the actual zero intensity arises).\n",
    "\n",
    "thresh = 3e-2\n",
    "start_freq, end_freq = sorted((frequency[np.argwhere(intensity.reshape(-1,) > 0 + thresh).reshape(-1,)[0]], frequency[np.argwhere(intensity.reshape(-1,) > 0 + thresh).reshape(-1,)[-1]]))\n",
    "\n",
    "# 1k values of frequency\n",
    "num_points = int(1e3)\n",
    "frequency_spaced = np.linspace(start_freq, end_freq, num_points, endpoint=True).reshape(-1,)\n",
    "print(frequency_spaced.shape)\n",
    "intensity_spaced = model_intensity(frequency_spaced)\n",
    "\n",
    "fig, ax = plt.subplots(ncols = 2, sharey = True)\n",
    "\n",
    "ax[0].scatter(frequency, intensity, marker = \"*\", s = 2)\n",
    "ax[0].set_title(\"Actual points\")\n",
    "ax[0].set_xlabel(\"Frequency (Hz)\")\n",
    "ax[0].set_ylabel(\"Intensity\")\n",
    "ax[0].grid()\n",
    "\n",
    "ax[1].scatter(frequency_spaced, intensity_spaced, marker = \"+\", s = 2)\n",
    "ax[1].set_title(\"Syntetic data\")\n",
    "ax[1].set_xlabel(\"Frequency (Hz)\")\n",
    "ax[1].set_ylabel(\"Intensity\")\n",
    "ax[1].grid()"
   ]
  },
  {
   "cell_type": "markdown",
   "metadata": {},
   "source": [
    "While the second plot in the upper figure might look as a continous line, it is important to note that it is indeed a scatter plot. The reason why it looks continous is that the number of proposed points is equal to 1'000. "
   ]
  },
  {
   "cell_type": "code",
   "execution_count": 54,
   "metadata": {},
   "outputs": [
    {
     "data": {
      "text/plain": [
       "<matplotlib.legend.Legend at 0x11f9f4e50>"
      ]
     },
     "execution_count": 54,
     "metadata": {},
     "output_type": "execute_result"
    },
    {
     "data": {
      "image/png": "[encoded data removed]",
      "text/plain": [
       "<Figure size 432x288 with 1 Axes>"
      ]
     },
     "metadata": {
      "needs_background": "light"
     },
     "output_type": "display_data"
    }
   ],
   "source": [
    "frequency = frequency_spaced; intensity = intensity_spaced\n",
    "half_max = intensity.max()/2\n",
    "\n",
    "shifted_intensity = intensity - half_max\n",
    "\n",
    "fig, ax = plt.subplots()\n",
    "ax.scatter(frequency, intensity, label = \"Actual data\", s = 2)\n",
    "ax.scatter(frequency, shifted_intensity, label = \"Shifted data\", s = 2)\n",
    "\n",
    "ax.set_title(\"Insensity scatter plots\")\n",
    "ax.set_xlabel(\"Frequency (in Hz)\")\n",
    "ax.set_ylabel(\"Intensity\")\n",
    "\n",
    "ax.legend()"
   ]
  },
  {
   "cell_type": "markdown",
   "metadata": {},
   "source": [
    "The orange scatter plot corresponds to the blue one, shifted downwards by half the maximal value reached. This is done so to find the frequencies corresponding to such half max since these frequencies are nothing but the *roots* of the orange curve. "
   ]
  },
  {
   "cell_type": "code",
   "execution_count": 55,
   "metadata": {},
   "outputs": [],
   "source": [
    "shifted_model = UnivariateSpline(frequency, shifted_intensity, s=0)\n",
    "f1, f2 = shifted_model.roots()"
   ]
  },
  {
   "cell_type": "markdown",
   "metadata": {},
   "source": [
    "Once the frequencies have been obtained it is then possible to obtain the *carrier frequency* (defined as the mean frequency between these roots). Once this is done, it is possible to extract the *angular frequency* which could then be used subsequently in a particular model used to generate the phase.\n",
    "\n",
    "Since the frequency is expressed in THz to obtain the frequency expressed in IS-uom it is necessary to convert THz into Hz."
   ]
  },
  {
   "cell_type": "code",
   "execution_count": 56,
   "metadata": {},
   "outputs": [],
   "source": [
    "# carrier angular frequency - wcarrier\n",
    "wcarrier = 2 * np.pi * abs(f1 + f2)/2"
   ]
  },
  {
   "cell_type": "markdown",
   "metadata": {},
   "source": [
    "Once the carrier frequency of the pulse it has been obtained it is possible to define the phase of such a pulse using a particular polynomial expansion which is then defined in different parameters. This polynomial expansion essentially defines the phase as a function of the considered frequency $f$, the carrier frequency $w_0$ and three parameters characteristical of the system, $GDD, TOD$ and $FOD$. This relationship is presented in the following equation: \n",
    "$$\n",
    "\\begin{equation}\n",
    "\\varphi = \\frac 12 (1000 \\cdot GDD - \\alpha_{GDD}) \\cdot 10^{-30} \\cdot (2 \\pi f - w_0)^2 + \\frac 16 (1000 \\cdot TOD - \\alpha_{TOD}) \\cdot 10^{-45} \\cdot (2 \\pi f - w_0)^3 + \n",
    "\\frac 1{24} (1000 * FOD - \\alpha_{FOD}) \\cdot 10^{-60} \\cdot (2 \\pi f - w_0)^4\n",
    "\\end{equation}\n",
    "$$\n",
    "\n",
    "With the parameters $\\alpha_{GDD}, \\alpha_{TOD}$ and $\\alpha_{FOD}$ being considered to take into account the phase distortion taking place in between of the pulse emitter and pulse collector (which are physically separated and therefore the phase changes in between them). "
   ]
  },
  {
   "cell_type": "code",
   "execution_count": 57,
   "metadata": {},
   "outputs": [],
   "source": [
    "GDD = 27\n",
    "TOD = 40\n",
    "FOD = 50\n",
    "\n",
    "phase = (1/2)*(GDD*1000 - 25000)*1e-30*(2*np.pi*frequency - wcarrier)**2 + \\\n",
    "        (1/6)*(TOD*1000-30000)*1e-45*(2*np.pi*frequency - wcarrier)**3 + \\\n",
    "        (1/24)*(FOD*1000 - 50000)*1e-60*(2*np.pi*frequency - wcarrier)**4"
   ]
  },
  {
   "cell_type": "code",
   "execution_count": 59,
   "metadata": {},
   "outputs": [],
   "source": [
    "def phase_coefficients(f:np.array, phase:np.array, degree:int=4)->np.array:\n",
    "    \"\"\"This function maps frequency into the corresponding phase using polynomial fit. It is interesting to note that the polynomial fitting depends on coefficients which\n",
    "    can be reconduced to the actual controllable ones (GDD, TOD, ...).\n",
    "\n",
    "    Args:\n",
    "        f (np.array): An array of frequency values (in Hz).\n",
    "        phase (np.array): An array in which it is presented the phase wrt the given frequency. \n",
    "        degree (int): The degree of the polynomial used to fit the curve. Defaults to 4. \n",
    "\n",
    "    Returns:\n",
    "        np.array: The coefficients of the polynomial fit.\n",
    "    \"\"\"\n",
    "    coeff = np.polyfit(x = f, y = phase, deg = degree)\n",
    "    return coeff[::-1]\n",
    "\n",
    "def phase_reconstruction(f:np.array, coeff:np.array)->np.array: \n",
    "    \"\"\"This function reconstructs the corresponding phase starting from frequencies values using input coefficients of a polynomial fit.  \n",
    "    The degree of the polynomial fit used is equal to the number of coefficients. \n",
    "\n",
    "    Args:\n",
    "        f (np.array): Array of frequencies for which to reconstruct the phase.\n",
    "        coeff (np.array): Array of coefficients to be used in reconstructing the coefficients. \n",
    "\n",
    "    Returns:\n",
    "        np.array: The phase reconstructed according to the given coefficients.\n",
    "    \"\"\"\n",
    "    n, = coeff.shape\n",
    "    phase = 0\n",
    "    # reconstructing the phase from the input\n",
    "    for i in range(n): \n",
    "        phase += coeff[i] * f ** i\n",
    "    \n",
    "    return phase\n",
    "\n",
    "def phase_emitted(frequency:np.array, intensity:np.array, GDD:float, TOD:float, FOD:float)->np.array: \n",
    "\n",
    "    phase = (1/2)*(GDD*1000 - 25000)*1e-30*(2*np.pi*frequency - wcarrier)**2 + \\\n",
    "            (1/6)*(TOD*1000-30000)*1e-45*(2*np.pi*frequency - wcarrier)**3 + \\\n",
    "            (1/24)*(FOD*1000 - 50000)*1e-60*(2*np.pi*frequency - wcarrier)**4\n",
    "    "
   ]
  },
  {
   "cell_type": "markdown",
   "metadata": {},
   "source": [
    "Once the phase is reconstructed with respect to controllable parameters it is possible to control the reconstruction itself. Since the final objective is to control the parameters to control the temporal impulse shape, it is necessary to express the temporal pulse shape wrt the phase. This can be done using `fft`. "
   ]
  },
  {
   "cell_type": "code",
   "execution_count": 60,
   "metadata": {},
   "outputs": [],
   "source": [
    "from scipy.fft import fft, fftfreq, fftshift\n",
    "\n",
    "def temporal_profile(\n",
    "    step, \n",
    "    spectral_phase:np.array, \n",
    "    spectral_intensity:np.array,\n",
    "    num_points_increment:int=int(2e4), \n",
    "    )->np.array:\n",
    "    \"\"\"This function returns the temporal profile of the pulse given the intensity itself and the phase. \n",
    "\n",
    "    Args:\n",
    "        step (float): Sample-points step in the frequency domain.\n",
    "        spectral_phase (np.array): Phase (represented in the frequency domain).\n",
    "        spectral_intensity (np.array): Intensity (represented in the frequency domain)\n",
    "        num_points_increment (int, optional): Increment in the number of sample points to consider for the fft algorithm. Defaults to int(2e4).\n",
    "\n",
    "    Returns:\n",
    "        np.array: Time-representation of intensity.\n",
    "    \"\"\"\n",
    "    sample_points = len(spectral_intensity) + num_points_increment\n",
    "    time = fftshift(fftfreq(sample_points, d=abs(step)))\n",
    "\n",
    "    # padding the spectral intensity and phase to increase sample complexity for the fft algorithm\n",
    "    spectral_intensity = np.pad(spectral_intensity, (num_points_increment//2, num_points_increment//2), \"constant\", constant_values = (0,0))\n",
    "    spectral_phase = np.pad(spectral_phase, (num_points_increment//2, num_points_increment//2), \"constant\", constant_values = (0,0))\n",
    "    \n",
    "    field = fftshift(fft(spectral_intensity * np.exp(1j * spectral_phase)))\n",
    "    field_squaremodulus = np.real(field * np.conj(field)) # only for casting reasons\n",
    "\n",
    "    return field_squaremodulus/field_squaremodulus.max()"
   ]
  },
  {
   "cell_type": "markdown",
   "metadata": {},
   "source": [
    "Once a function to represent a pulse in the time domain it has been provided, it is possible to use it accordingly."
   ]
  },
  {
   "cell_type": "code",
   "execution_count": 63,
   "metadata": {},
   "outputs": [
    {
     "data": {
      "text/plain": [
       "[<matplotlib.lines.Line2D at 0x11fb72620>]"
      ]
     },
     "execution_count": 63,
     "metadata": {},
     "output_type": "execute_result"
    },
    {
     "data": {
      "image/png": "[encoded data removed]",
      "text/plain": [
       "<Figure size 432x288 with 1 Axes>"
      ]
     },
     "metadata": {
      "needs_background": "light"
     },
     "output_type": "display_data"
    }
   ],
   "source": [
    "def time_intensity(frequency:np.array, phase:np.array, intensity:np.array)->np.array: \n",
    "    \"\"\"This function returns the temporal representation of a pulse represented in the frequency domain with a certain phase. \n",
    "\n",
    "    Args:\n",
    "        frequency (np.array): Frequencies at which the intensity of the pulse is measured. \n",
    "        phase (np.array): Phase (depending on the frequency).\n",
    "        intensity (np.array): Intensity of the pulse (depending on the frequency).\n",
    "\n",
    "    Returns:\n",
    "        np.array: Temporal representation of the pulse considered\n",
    "    \"\"\"\n",
    "    \n",
    "    # obtain (controlled) phase coefficients\n",
    "    phase_coeff = phase_coefficients(frequency, phase)\n",
    "    # reconstruct the phase with respect to these coefficients\n",
    "    phase_reconstructed = phase_reconstruction(frequency, phase_coeff)\n",
    "    # obtain sampling step (in the frequency domain)\n",
    "    step = np.diff(frequency)[0]\n",
    "    # represent intensity in temporal profile\n",
    "    temporal_intensity = temporal_profile(step, phase_reconstructed, intensity)\n",
    "\n",
    "    return temporal_intensity\n",
    "\n",
    "plt.plot(time_intensity(frequency, phase, intensity)[10300:10690])"
   ]
  },
  {
   "cell_type": "code",
   "execution_count": null,
   "metadata": {},
   "outputs": [],
   "source": []
  }
 ],
 "metadata": {
  "kernelspec": {
   "display_name": "Python 3.10.4 ('polienv')",
   "language": "python",
   "name": "python3"
  },
  "language_info": {
   "codemirror_mode": {
    "name": "ipython",
    "version": 3
   },
   "file_extension": ".py",
   "mimetype": "text/x-python",
   "name": "python",
   "nbconvert_exporter": "python",
   "pygments_lexer": "ipython3",
   "version": "3.10.4"
  },
  "orig_nbformat": 4,
  "vscode": {
   "interpreter": {
    "hash": "01994fa0d2ab1307d682b921dfe369a1a67026eda944b77214d19ac2ebb6a2ea"
   }
  }
 },
 "nbformat": 4,
 "nbformat_minor": 2
}
