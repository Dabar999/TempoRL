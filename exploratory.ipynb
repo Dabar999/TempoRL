{
 "cells": [
  {
   "cell_type": "code",
   "execution_count": 46,
   "metadata": {},
   "outputs": [],
   "source": [
    "import pandas as pd\n",
    "import numpy as np\n",
    "import os\n",
    "import matplotlib.pyplot as plt"
   ]
  },
  {
   "cell_type": "markdown",
   "metadata": {},
   "source": [
    "# Dataframe columns\n",
    "The following dataframe has columns which do have the following meaning:\n",
    " \n",
    "0. Frequency (in THz). This is the **independent variable** which is influencing the overall procedure. \n",
    "\n",
    "1. Wavelength (in nm, can be directly derived from frequency of course).\n",
    "\n",
    "2. Intensity (defined as the **metric of interest**, intensity is very significant for this analysis). Please consider that the square root of the intensity can be analysed as the Electric Field. \n",
    "\n",
    "3. Phase (between minus and plus infinity).\n",
    "\n",
    "4. **Phase cutted** (with respect to those frequencies corresponding to values of intensity equal to zero)."
   ]
  },
  {
   "cell_type": "code",
   "execution_count": 47,
   "metadata": {},
   "outputs": [
    {
     "data": {
      "text/html": [
       "<div>\n",
       "<style scoped>\n",
       "    .dataframe tbody tr th:only-of-type {\n",
       "        vertical-align: middle;\n",
       "    }\n",
       "\n",
       "    .dataframe tbody tr th {\n",
       "        vertical-align: top;\n",
       "    }\n",
       "\n",
       "    .dataframe thead th {\n",
       "        text-align: right;\n",
       "    }\n",
       "</style>\n",
       "<table border=\"1\" class=\"dataframe\">\n",
       "  <thead>\n",
       "    <tr style=\"text-align: right;\">\n",
       "      <th></th>\n",
       "      <th>Frequency</th>\n",
       "      <th>Wavelength</th>\n",
       "      <th>Intensity</th>\n",
       "      <th>Phase</th>\n",
       "      <th>Phase (cutted)</th>\n",
       "    </tr>\n",
       "  </thead>\n",
       "  <tbody>\n",
       "    <tr>\n",
       "      <th>count</th>\n",
       "      <td>1027.000000</td>\n",
       "      <td>1027.000000</td>\n",
       "      <td>1027.000000</td>\n",
       "      <td>1027.000000</td>\n",
       "      <td>1027.000000</td>\n",
       "    </tr>\n",
       "    <tr>\n",
       "      <th>mean</th>\n",
       "      <td>388.703722</td>\n",
       "      <td>797.636767</td>\n",
       "      <td>0.077578</td>\n",
       "      <td>-335.902940</td>\n",
       "      <td>0.007874</td>\n",
       "    </tr>\n",
       "    <tr>\n",
       "      <th>std</th>\n",
       "      <td>69.084920</td>\n",
       "      <td>147.503173</td>\n",
       "      <td>0.218707</td>\n",
       "      <td>541.012492</td>\n",
       "      <td>0.212221</td>\n",
       "    </tr>\n",
       "    <tr>\n",
       "      <th>min</th>\n",
       "      <td>269.220000</td>\n",
       "      <td>590.333000</td>\n",
       "      <td>0.000000</td>\n",
       "      <td>-2491.000000</td>\n",
       "      <td>-1.196000</td>\n",
       "    </tr>\n",
       "    <tr>\n",
       "      <th>25%</th>\n",
       "      <td>328.961500</td>\n",
       "      <td>668.977500</td>\n",
       "      <td>0.000000</td>\n",
       "      <td>-312.586500</td>\n",
       "      <td>0.000000</td>\n",
       "    </tr>\n",
       "    <tr>\n",
       "      <th>50%</th>\n",
       "      <td>388.704000</td>\n",
       "      <td>771.796000</td>\n",
       "      <td>0.000000</td>\n",
       "      <td>-179.213000</td>\n",
       "      <td>0.000000</td>\n",
       "    </tr>\n",
       "    <tr>\n",
       "      <th>75%</th>\n",
       "      <td>448.445500</td>\n",
       "      <td>911.960000</td>\n",
       "      <td>0.000000</td>\n",
       "      <td>-7.072500</td>\n",
       "      <td>0.000000</td>\n",
       "    </tr>\n",
       "    <tr>\n",
       "      <th>max</th>\n",
       "      <td>508.188000</td>\n",
       "      <td>1114.331000</td>\n",
       "      <td>1.000000</td>\n",
       "      <td>350.355000</td>\n",
       "      <td>1.373000</td>\n",
       "    </tr>\n",
       "  </tbody>\n",
       "</table>\n",
       "</div>"
      ],
      "text/plain": [
       "         Frequency   Wavelength    Intensity        Phase  Phase (cutted)\n",
       "count  1027.000000  1027.000000  1027.000000  1027.000000     1027.000000\n",
       "mean    388.703722   797.636767     0.077578  -335.902940        0.007874\n",
       "std      69.084920   147.503173     0.218707   541.012492        0.212221\n",
       "min     269.220000   590.333000     0.000000 -2491.000000       -1.196000\n",
       "25%     328.961500   668.977500     0.000000  -312.586500        0.000000\n",
       "50%     388.704000   771.796000     0.000000  -179.213000        0.000000\n",
       "75%     448.445500   911.960000     0.000000    -7.072500        0.000000\n",
       "max     508.188000  1114.331000     1.000000   350.355000        1.373000"
      ]
     },
     "execution_count": 47,
     "metadata": {},
     "output_type": "execute_result"
    }
   ],
   "source": [
    "file_name = \"LLNL_160809_freq.csv\"\n",
    "df = pd.read_csv(\"data/\"+file_name, header = None)\n",
    "df.columns = [\"Frequency\", \"Wavelength\", \"Intensity\", \"Phase\", \"Phase (cutted)\"] \n",
    "df.describe()"
   ]
  },
  {
   "cell_type": "markdown",
   "metadata": {},
   "source": [
    "Considering now the purposes of this analysis, it is clear that in this case it is possible to discard some columns from consideration. Such columns are *phase* (since the cutted version is preferred) and *wavelength* (which can also be obtained, if needed considering the very index of the dataframe)."
   ]
  },
  {
   "cell_type": "code",
   "execution_count": 48,
   "metadata": {},
   "outputs": [],
   "source": [
    "try: \n",
    "    df.drop(columns = [\"Wavelength\", \"Phase\"], inplace = True)\n",
    "except KeyError: \n",
    "    pass\n",
    "\n",
    "# selecting only the interesting elements for the analysis\n",
    "frequency = df.loc[:, \"Frequency\"].values\n",
    "intensity = df.loc[:, \"Intensity\"].values\n",
    "electric_field = np.sqrt(intensity)"
   ]
  },
  {
   "cell_type": "markdown",
   "metadata": {},
   "source": [
    "The upcoming `fft` algorithm requires the input frequencies to be equidistant (~constant value for np.diff), but the control system does not allow such a strategy, therefore it is important to obtain a way with which to approximate intensity (and electric field) directly from frequency values. \n",
    "To do so, rbf-kernellized regression will be used. "
   ]
  },
  {
   "cell_type": "code",
   "execution_count": 49,
   "metadata": {},
   "outputs": [
    {
     "data": {
      "image/png": "[encoded data removed]",
      "text/plain": [
       "<Figure size 432x288 with 3 Axes>"
      ]
     },
     "metadata": {
      "needs_background": "light"
     },
     "output_type": "display_data"
    },
    {
     "name": "stdout",
     "output_type": "stream",
     "text": [
      "RBF-Kernel Ridge MSE: 1.8803085026187923e-05\n",
      "Training time: 0.121 s\n",
      "Inference time: 0.002 s\n",
      "Spline MSE: 7.707170367077678e-06\n",
      "(interpolation) Training time: 0.000 s\n",
      "(interpolation) Inference time: 0.002 s\n"
     ]
    }
   ],
   "source": [
    "from sklearn.kernel_ridge import KernelRidge\n",
    "from sklearn.model_selection import train_test_split\n",
    "from sklearn.metrics import mean_squared_error\n",
    "from sklearn.pipeline import make_pipeline\n",
    "from scipy.interpolate import interp1d, UnivariateSpline\n",
    "import time\n",
    "\n",
    "# setting a random state\n",
    "rs = 7\n",
    "\n",
    "# building a model that infers intensity from frequency\n",
    "Xtrain, Xtest, ytrain, ytest = train_test_split(frequency.reshape(-1,1), intensity, test_size=0.1, random_state=rs)\n",
    "\n",
    "# using kernel Ridge given the high non linearity of the function considered\n",
    "model_intensity = make_pipeline(KernelRidge(alpha = 5e-2, kernel = \"rbf\"))\n",
    "\n",
    "start_time = time.time()\n",
    "model_intensity_interp = interp1d(Xtrain.reshape(-1,), ytrain)\n",
    "interp_time = time.time() - start_time\n",
    "\n",
    "start_time = time.time()\n",
    "model_intensity.fit(Xtrain, ytrain)\n",
    "train_time = time.time() - start_time\n",
    "\n",
    "start_time = time.time()\n",
    "yspline = model_intensity_interp(Xtest)\n",
    "inference_time = time.time() - start_time\n",
    "\n",
    "start_time = time.time()\n",
    "ypred = model_intensity.predict(Xtest)\n",
    "inference_time = time.time() - start_time\n",
    "\n",
    "fig, ax = plt.subplots(ncols = 3, sharey = True)\n",
    "\n",
    "ax[0].scatter(Xtest, ytest, marker = \".\",  c = \"tab:blue\", label = \"Actual Points\")\n",
    "ax[1].scatter(Xtest, ypred, marker = \"+\",  c = \"tab:purple\", label = \"Ridge Regression\")\n",
    "ax[2].scatter(Xtest, ypred, marker = \"x\",  c = \"tab:orange\", label = \"Spline\")\n",
    "\n",
    "ax[0].set_title(\"Actual values\")\n",
    "ax[0].set_xlabel(\"Frequency (in THz)\")\n",
    "ax[0].grid()\n",
    "ax[0].set_ylabel(\"Intensity\")\n",
    "\n",
    "ax[1].set_title(\"Predictions (Ridge)\")\n",
    "ax[1].set_xlabel(\"Frequency (in THz)\")\n",
    "ax[1].grid()\n",
    "ax[1].set_ylabel(\"Intensity\")\n",
    "\n",
    "ax[2].set_title(\"Predictions (spline)\")\n",
    "ax[2].set_xlabel(\"Frequency (in THz)\")\n",
    "ax[2].grid()\n",
    "ax[2].set_ylabel(\"Intensity\")\n",
    "\n",
    "plt.show()\n",
    "print(f\"RBF-Kernel Ridge MSE: {mean_squared_error(ytest, ypred)}\")\n",
    "print(\"Training time: {:.3f} s\".format(train_time))\n",
    "print(\"Inference time: {:.3f} s\".format(inference_time))\n",
    "\n",
    "print(f\"Spline MSE: {mean_squared_error(ytest, yspline)}\")\n",
    "print(\"(interpolation) Training time: {:.3f} s\".format(interp_time))\n",
    "print(\"(interpolation) Inference time: {:.3f} s\".format(inference_time))\n"
   ]
  },
  {
   "cell_type": "markdown",
   "metadata": {},
   "source": [
    "Now that a model able to predict the intensity value for any given frequency it has been obtained it is possible to use it so as to obtain what is necessary in this case: an equidistant in frequency set of intensity in the frequency domain (to use the `fft` algorithm and translate them in the time domain). "
   ]
  },
  {
   "cell_type": "code",
   "execution_count": 50,
   "metadata": {},
   "outputs": [
    {
     "data": {
      "image/png": "[encoded data removed]",
      "text/plain": [
       "<Figure size 432x288 with 2 Axes>"
      ]
     },
     "metadata": {
      "needs_background": "light"
     },
     "output_type": "display_data"
    }
   ],
   "source": [
    "# The interpolation is faster and more accurate therefore regular interpolation is what it will be used\n",
    "model_intensity = model_intensity_interp\n",
    "\n",
    "# 20k value of frequency\n",
    "num_points = int(2e4)\n",
    "frequency_spaced = np.linspace(frequency.min(), frequency.max(), num_points)\n",
    "intensity_spaced = model_intensity(frequency_spaced)\n",
    "\n",
    "fig, ax = plt.subplots(ncols = 2, sharey = True)\n",
    "\n",
    "ax[0].scatter(frequency, intensity, marker = \"*\", s = 2)\n",
    "ax[0].set_title(\"Actual points\")\n",
    "ax[0].set_xlabel(\"Frequency (in THz)\")\n",
    "ax[0].set_ylabel(\"Intensity\")\n",
    "ax[0].grid()\n",
    "\n",
    "ax[1].scatter(frequency_spaced, intensity_spaced, marker = \"+\", s = 2)\n",
    "ax[1].set_title(\"Syntetic data\")\n",
    "ax[1].set_xlabel(\"Frequency (in THz)\")\n",
    "ax[1].set_ylabel(\"Intensity\")\n",
    "ax[1].grid()"
   ]
  },
  {
   "cell_type": "markdown",
   "metadata": {},
   "source": [
    "While the second plot in the upper figure might look as a continous line, it is important to note that it is indeed a scatter plot. The reason why it looks continous is that the number of proposed points is equal to 20'000. "
   ]
  },
  {
   "cell_type": "code",
   "execution_count": 52,
   "metadata": {},
   "outputs": [
    {
     "data": {
      "text/plain": [
       "<matplotlib.legend.Legend at 0x1219440a0>"
      ]
     },
     "execution_count": 52,
     "metadata": {},
     "output_type": "execute_result"
    },
    {
     "data": {
      "image/png": "[encoded data removed]",
      "text/plain": [
       "<Figure size 432x288 with 1 Axes>"
      ]
     },
     "metadata": {
      "needs_background": "light"
     },
     "output_type": "display_data"
    }
   ],
   "source": [
    "frequency = frequency_spaced; intensity = intensity_spaced\n",
    "half_max = intensity.max()/2\n",
    "\n",
    "shifted_intensity = intensity - half_max\n",
    "\n",
    "fig, ax = plt.subplots()\n",
    "ax.scatter(frequency, intensity, label = \"Actual data\", s = 2)\n",
    "ax.scatter(frequency, shifted_intensity, label = \"Shifted data\", s = 2)\n",
    "\n",
    "ax.set_title(\"Insensity scatter plots\")\n",
    "ax.set_xlabel(\"Frequency (in THz)\")\n",
    "ax.set_ylabel(\"Intensity\")\n",
    "\n",
    "ax.legend()"
   ]
  },
  {
   "cell_type": "markdown",
   "metadata": {},
   "source": [
    "The orange scatter plot corresponds to the blue one, shifted downwards by half the maximal value reached. This is done so to find the frequencies corresponding to such half max since these frequencies are nothing but the *roots* of the orange curve. "
   ]
  },
  {
   "cell_type": "code",
   "execution_count": 56,
   "metadata": {},
   "outputs": [],
   "source": [
    "shifted_model = UnivariateSpline(frequency, shifted_intensity, s=0)\n",
    "f1, f2 = shifted_model.roots()"
   ]
  },
  {
   "cell_type": "markdown",
   "metadata": {},
   "source": [
    "Once the frequencies have been obtained it is then possible to obtain the *carrier frequency* (defined as the mean frequency between these roots). Once this is done, it is possible to extract the *angular frequency* which could then be used subsequently in a particular model used to generate the phase."
   ]
  },
  {
   "cell_type": "code",
   "execution_count": 58,
   "metadata": {},
   "outputs": [],
   "source": [
    "# carrier angular frequency - wcarrier\n",
    "wcarrier = 2 * np.pi * np.abs(np.array([f1, f2])).mean()"
   ]
  },
  {
   "cell_type": "code",
   "execution_count": null,
   "metadata": {},
   "outputs": [],
   "source": []
  }
 ],
 "metadata": {
  "kernelspec": {
   "display_name": "Python 3.10.4 ('polienv')",
   "language": "python",
   "name": "python3"
  },
  "language_info": {
   "codemirror_mode": {
    "name": "ipython",
    "version": 3
   },
   "file_extension": ".py",
   "mimetype": "text/x-python",
   "name": "python",
   "nbconvert_exporter": "python",
   "pygments_lexer": "ipython3",
   "version": "3.10.4"
  },
  "orig_nbformat": 4,
  "vscode": {
   "interpreter": {
    "hash": "01994fa0d2ab1307d682b921dfe369a1a67026eda944b77214d19ac2ebb6a2ea"
   }
  }
 },
 "nbformat": 4,
 "nbformat_minor": 2
}
